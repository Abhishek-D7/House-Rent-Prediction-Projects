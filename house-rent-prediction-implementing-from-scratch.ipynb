{
 "cells": [
  {
   "cell_type": "code",
   "execution_count": 1,
   "id": "63ce818b",
   "metadata": {
    "execution": {
     "iopub.execute_input": "2024-03-23T16:20:35.302073Z",
     "iopub.status.busy": "2024-03-23T16:20:35.301355Z",
     "iopub.status.idle": "2024-03-23T16:20:37.228959Z",
     "shell.execute_reply": "2024-03-23T16:20:37.227705Z"
    },
    "papermill": {
     "duration": 1.944481,
     "end_time": "2024-03-23T16:20:37.231913",
     "exception": false,
     "start_time": "2024-03-23T16:20:35.287432",
     "status": "completed"
    },
    "tags": []
   },
   "outputs": [],
   "source": [
    "import pandas as pd\n",
    "import numpy as np\n",
    "from scipy import stats\n",
    "import warnings\n",
    "warnings.filterwarnings('ignore')"
   ]
  },
  {
   "cell_type": "code",
   "execution_count": 2,
   "id": "865bf522",
   "metadata": {
    "execution": {
     "iopub.execute_input": "2024-03-23T16:20:37.257441Z",
     "iopub.status.busy": "2024-03-23T16:20:37.256924Z",
     "iopub.status.idle": "2024-03-23T16:20:37.330166Z",
     "shell.execute_reply": "2024-03-23T16:20:37.329065Z"
    },
    "papermill": {
     "duration": 0.088808,
     "end_time": "2024-03-23T16:20:37.332800",
     "exception": false,
     "start_time": "2024-03-23T16:20:37.243992",
     "status": "completed"
    },
    "tags": []
   },
   "outputs": [
    {
     "data": {
      "text/html": [
       "<div>\n",
       "<style scoped>\n",
       "    .dataframe tbody tr th:only-of-type {\n",
       "        vertical-align: middle;\n",
       "    }\n",
       "\n",
       "    .dataframe tbody tr th {\n",
       "        vertical-align: top;\n",
       "    }\n",
       "\n",
       "    .dataframe thead th {\n",
       "        text-align: right;\n",
       "    }\n",
       "</style>\n",
       "<table border=\"1\" class=\"dataframe\">\n",
       "  <thead>\n",
       "    <tr style=\"text-align: right;\">\n",
       "      <th></th>\n",
       "      <th>Posted On</th>\n",
       "      <th>BHK</th>\n",
       "      <th>Rent</th>\n",
       "      <th>Size</th>\n",
       "      <th>Floor</th>\n",
       "      <th>Area Type</th>\n",
       "      <th>Area Locality</th>\n",
       "      <th>City</th>\n",
       "      <th>Furnishing Status</th>\n",
       "      <th>Tenant Preferred</th>\n",
       "      <th>Bathroom</th>\n",
       "      <th>Point of Contact</th>\n",
       "    </tr>\n",
       "  </thead>\n",
       "  <tbody>\n",
       "    <tr>\n",
       "      <th>0</th>\n",
       "      <td>2022-05-18</td>\n",
       "      <td>2</td>\n",
       "      <td>10000</td>\n",
       "      <td>1100</td>\n",
       "      <td>Ground out of 2</td>\n",
       "      <td>Super Area</td>\n",
       "      <td>Bandel</td>\n",
       "      <td>Kolkata</td>\n",
       "      <td>Unfurnished</td>\n",
       "      <td>Bachelors/Family</td>\n",
       "      <td>2</td>\n",
       "      <td>Contact Owner</td>\n",
       "    </tr>\n",
       "    <tr>\n",
       "      <th>1</th>\n",
       "      <td>2022-05-13</td>\n",
       "      <td>2</td>\n",
       "      <td>20000</td>\n",
       "      <td>800</td>\n",
       "      <td>1 out of 3</td>\n",
       "      <td>Super Area</td>\n",
       "      <td>Phool Bagan, Kankurgachi</td>\n",
       "      <td>Kolkata</td>\n",
       "      <td>Semi-Furnished</td>\n",
       "      <td>Bachelors/Family</td>\n",
       "      <td>1</td>\n",
       "      <td>Contact Owner</td>\n",
       "    </tr>\n",
       "    <tr>\n",
       "      <th>2</th>\n",
       "      <td>2022-05-16</td>\n",
       "      <td>2</td>\n",
       "      <td>17000</td>\n",
       "      <td>1000</td>\n",
       "      <td>1 out of 3</td>\n",
       "      <td>Super Area</td>\n",
       "      <td>Salt Lake City Sector 2</td>\n",
       "      <td>Kolkata</td>\n",
       "      <td>Semi-Furnished</td>\n",
       "      <td>Bachelors/Family</td>\n",
       "      <td>1</td>\n",
       "      <td>Contact Owner</td>\n",
       "    </tr>\n",
       "    <tr>\n",
       "      <th>3</th>\n",
       "      <td>2022-07-04</td>\n",
       "      <td>2</td>\n",
       "      <td>10000</td>\n",
       "      <td>800</td>\n",
       "      <td>1 out of 2</td>\n",
       "      <td>Super Area</td>\n",
       "      <td>Dumdum Park</td>\n",
       "      <td>Kolkata</td>\n",
       "      <td>Unfurnished</td>\n",
       "      <td>Bachelors/Family</td>\n",
       "      <td>1</td>\n",
       "      <td>Contact Owner</td>\n",
       "    </tr>\n",
       "    <tr>\n",
       "      <th>4</th>\n",
       "      <td>2022-05-09</td>\n",
       "      <td>2</td>\n",
       "      <td>7500</td>\n",
       "      <td>850</td>\n",
       "      <td>1 out of 2</td>\n",
       "      <td>Carpet Area</td>\n",
       "      <td>South Dum Dum</td>\n",
       "      <td>Kolkata</td>\n",
       "      <td>Unfurnished</td>\n",
       "      <td>Bachelors</td>\n",
       "      <td>1</td>\n",
       "      <td>Contact Owner</td>\n",
       "    </tr>\n",
       "    <tr>\n",
       "      <th>...</th>\n",
       "      <td>...</td>\n",
       "      <td>...</td>\n",
       "      <td>...</td>\n",
       "      <td>...</td>\n",
       "      <td>...</td>\n",
       "      <td>...</td>\n",
       "      <td>...</td>\n",
       "      <td>...</td>\n",
       "      <td>...</td>\n",
       "      <td>...</td>\n",
       "      <td>...</td>\n",
       "      <td>...</td>\n",
       "    </tr>\n",
       "    <tr>\n",
       "      <th>4741</th>\n",
       "      <td>2022-05-18</td>\n",
       "      <td>2</td>\n",
       "      <td>15000</td>\n",
       "      <td>1000</td>\n",
       "      <td>3 out of 5</td>\n",
       "      <td>Carpet Area</td>\n",
       "      <td>Bandam Kommu</td>\n",
       "      <td>Hyderabad</td>\n",
       "      <td>Semi-Furnished</td>\n",
       "      <td>Bachelors/Family</td>\n",
       "      <td>2</td>\n",
       "      <td>Contact Owner</td>\n",
       "    </tr>\n",
       "    <tr>\n",
       "      <th>4742</th>\n",
       "      <td>2022-05-15</td>\n",
       "      <td>3</td>\n",
       "      <td>29000</td>\n",
       "      <td>2000</td>\n",
       "      <td>1 out of 4</td>\n",
       "      <td>Super Area</td>\n",
       "      <td>Manikonda, Hyderabad</td>\n",
       "      <td>Hyderabad</td>\n",
       "      <td>Semi-Furnished</td>\n",
       "      <td>Bachelors/Family</td>\n",
       "      <td>3</td>\n",
       "      <td>Contact Owner</td>\n",
       "    </tr>\n",
       "    <tr>\n",
       "      <th>4743</th>\n",
       "      <td>2022-07-10</td>\n",
       "      <td>3</td>\n",
       "      <td>35000</td>\n",
       "      <td>1750</td>\n",
       "      <td>3 out of 5</td>\n",
       "      <td>Carpet Area</td>\n",
       "      <td>Himayath Nagar, NH 7</td>\n",
       "      <td>Hyderabad</td>\n",
       "      <td>Semi-Furnished</td>\n",
       "      <td>Bachelors/Family</td>\n",
       "      <td>3</td>\n",
       "      <td>Contact Agent</td>\n",
       "    </tr>\n",
       "    <tr>\n",
       "      <th>4744</th>\n",
       "      <td>2022-07-06</td>\n",
       "      <td>3</td>\n",
       "      <td>45000</td>\n",
       "      <td>1500</td>\n",
       "      <td>23 out of 34</td>\n",
       "      <td>Carpet Area</td>\n",
       "      <td>Gachibowli</td>\n",
       "      <td>Hyderabad</td>\n",
       "      <td>Semi-Furnished</td>\n",
       "      <td>Family</td>\n",
       "      <td>2</td>\n",
       "      <td>Contact Agent</td>\n",
       "    </tr>\n",
       "    <tr>\n",
       "      <th>4745</th>\n",
       "      <td>2022-05-04</td>\n",
       "      <td>2</td>\n",
       "      <td>15000</td>\n",
       "      <td>1000</td>\n",
       "      <td>4 out of 5</td>\n",
       "      <td>Carpet Area</td>\n",
       "      <td>Suchitra Circle</td>\n",
       "      <td>Hyderabad</td>\n",
       "      <td>Unfurnished</td>\n",
       "      <td>Bachelors</td>\n",
       "      <td>2</td>\n",
       "      <td>Contact Owner</td>\n",
       "    </tr>\n",
       "  </tbody>\n",
       "</table>\n",
       "<p>4746 rows × 12 columns</p>\n",
       "</div>"
      ],
      "text/plain": [
       "       Posted On  BHK   Rent  Size            Floor    Area Type  \\\n",
       "0     2022-05-18    2  10000  1100  Ground out of 2   Super Area   \n",
       "1     2022-05-13    2  20000   800       1 out of 3   Super Area   \n",
       "2     2022-05-16    2  17000  1000       1 out of 3   Super Area   \n",
       "3     2022-07-04    2  10000   800       1 out of 2   Super Area   \n",
       "4     2022-05-09    2   7500   850       1 out of 2  Carpet Area   \n",
       "...          ...  ...    ...   ...              ...          ...   \n",
       "4741  2022-05-18    2  15000  1000       3 out of 5  Carpet Area   \n",
       "4742  2022-05-15    3  29000  2000       1 out of 4   Super Area   \n",
       "4743  2022-07-10    3  35000  1750       3 out of 5  Carpet Area   \n",
       "4744  2022-07-06    3  45000  1500     23 out of 34  Carpet Area   \n",
       "4745  2022-05-04    2  15000  1000       4 out of 5  Carpet Area   \n",
       "\n",
       "                 Area Locality       City Furnishing Status  Tenant Preferred  \\\n",
       "0                       Bandel    Kolkata       Unfurnished  Bachelors/Family   \n",
       "1     Phool Bagan, Kankurgachi    Kolkata    Semi-Furnished  Bachelors/Family   \n",
       "2      Salt Lake City Sector 2    Kolkata    Semi-Furnished  Bachelors/Family   \n",
       "3                  Dumdum Park    Kolkata       Unfurnished  Bachelors/Family   \n",
       "4                South Dum Dum    Kolkata       Unfurnished         Bachelors   \n",
       "...                        ...        ...               ...               ...   \n",
       "4741              Bandam Kommu  Hyderabad    Semi-Furnished  Bachelors/Family   \n",
       "4742      Manikonda, Hyderabad  Hyderabad    Semi-Furnished  Bachelors/Family   \n",
       "4743      Himayath Nagar, NH 7  Hyderabad    Semi-Furnished  Bachelors/Family   \n",
       "4744                Gachibowli  Hyderabad    Semi-Furnished            Family   \n",
       "4745           Suchitra Circle  Hyderabad       Unfurnished         Bachelors   \n",
       "\n",
       "      Bathroom Point of Contact  \n",
       "0            2    Contact Owner  \n",
       "1            1    Contact Owner  \n",
       "2            1    Contact Owner  \n",
       "3            1    Contact Owner  \n",
       "4            1    Contact Owner  \n",
       "...        ...              ...  \n",
       "4741         2    Contact Owner  \n",
       "4742         3    Contact Owner  \n",
       "4743         3    Contact Agent  \n",
       "4744         2    Contact Agent  \n",
       "4745         2    Contact Owner  \n",
       "\n",
       "[4746 rows x 12 columns]"
      ]
     },
     "execution_count": 2,
     "metadata": {},
     "output_type": "execute_result"
    }
   ],
   "source": [
    "Data=pd.read_csv(\"/kaggle/input/house-rent-prediction-dataset/House_Rent_Dataset.csv\")\n",
    "Data"
   ]
  },
  {
   "cell_type": "code",
   "execution_count": 3,
   "id": "0b7e5f22",
   "metadata": {
    "execution": {
     "iopub.execute_input": "2024-03-23T16:20:37.360432Z",
     "iopub.status.busy": "2024-03-23T16:20:37.359310Z",
     "iopub.status.idle": "2024-03-23T16:20:37.365234Z",
     "shell.execute_reply": "2024-03-23T16:20:37.364200Z"
    },
    "papermill": {
     "duration": 0.021623,
     "end_time": "2024-03-23T16:20:37.367510",
     "exception": false,
     "start_time": "2024-03-23T16:20:37.345887",
     "status": "completed"
    },
    "tags": []
   },
   "outputs": [],
   "source": [
    "df=Data.copy()"
   ]
  },
  {
   "cell_type": "code",
   "execution_count": 4,
   "id": "58f96600",
   "metadata": {
    "execution": {
     "iopub.execute_input": "2024-03-23T16:20:37.393612Z",
     "iopub.status.busy": "2024-03-23T16:20:37.393022Z",
     "iopub.status.idle": "2024-03-23T16:20:37.420409Z",
     "shell.execute_reply": "2024-03-23T16:20:37.418778Z"
    },
    "papermill": {
     "duration": 0.04296,
     "end_time": "2024-03-23T16:20:37.422609",
     "exception": false,
     "start_time": "2024-03-23T16:20:37.379649",
     "status": "completed"
    },
    "tags": []
   },
   "outputs": [
    {
     "name": "stdout",
     "output_type": "stream",
     "text": [
      "<class 'pandas.core.frame.DataFrame'>\n",
      "RangeIndex: 4746 entries, 0 to 4745\n",
      "Data columns (total 12 columns):\n",
      " #   Column             Non-Null Count  Dtype \n",
      "---  ------             --------------  ----- \n",
      " 0   Posted On          4746 non-null   object\n",
      " 1   BHK                4746 non-null   int64 \n",
      " 2   Rent               4746 non-null   int64 \n",
      " 3   Size               4746 non-null   int64 \n",
      " 4   Floor              4746 non-null   object\n",
      " 5   Area Type          4746 non-null   object\n",
      " 6   Area Locality      4746 non-null   object\n",
      " 7   City               4746 non-null   object\n",
      " 8   Furnishing Status  4746 non-null   object\n",
      " 9   Tenant Preferred   4746 non-null   object\n",
      " 10  Bathroom           4746 non-null   int64 \n",
      " 11  Point of Contact   4746 non-null   object\n",
      "dtypes: int64(4), object(8)\n",
      "memory usage: 445.1+ KB\n"
     ]
    }
   ],
   "source": [
    "df.info()"
   ]
  },
  {
   "cell_type": "code",
   "execution_count": 5,
   "id": "022a6419",
   "metadata": {
    "execution": {
     "iopub.execute_input": "2024-03-23T16:20:37.448780Z",
     "iopub.status.busy": "2024-03-23T16:20:37.448162Z",
     "iopub.status.idle": "2024-03-23T16:20:37.456928Z",
     "shell.execute_reply": "2024-03-23T16:20:37.456141Z"
    },
    "papermill": {
     "duration": 0.02416,
     "end_time": "2024-03-23T16:20:37.458861",
     "exception": false,
     "start_time": "2024-03-23T16:20:37.434701",
     "status": "completed"
    },
    "tags": []
   },
   "outputs": [
    {
     "data": {
      "text/plain": [
       "Posted On            0\n",
       "BHK                  0\n",
       "Rent                 0\n",
       "Size                 0\n",
       "Floor                0\n",
       "Area Type            0\n",
       "Area Locality        0\n",
       "City                 0\n",
       "Furnishing Status    0\n",
       "Tenant Preferred     0\n",
       "Bathroom             0\n",
       "Point of Contact     0\n",
       "dtype: int64"
      ]
     },
     "execution_count": 5,
     "metadata": {},
     "output_type": "execute_result"
    }
   ],
   "source": [
    "df.isnull().sum()"
   ]
  },
  {
   "cell_type": "code",
   "execution_count": 6,
   "id": "45e2ee81",
   "metadata": {
    "execution": {
     "iopub.execute_input": "2024-03-23T16:20:37.488544Z",
     "iopub.status.busy": "2024-03-23T16:20:37.487933Z",
     "iopub.status.idle": "2024-03-23T16:20:37.505574Z",
     "shell.execute_reply": "2024-03-23T16:20:37.504646Z"
    },
    "papermill": {
     "duration": 0.035882,
     "end_time": "2024-03-23T16:20:37.508676",
     "exception": false,
     "start_time": "2024-03-23T16:20:37.472794",
     "status": "completed"
    },
    "tags": []
   },
   "outputs": [
    {
     "data": {
      "text/plain": [
       "0"
      ]
     },
     "execution_count": 6,
     "metadata": {},
     "output_type": "execute_result"
    }
   ],
   "source": [
    "df.duplicated().sum()"
   ]
  },
  {
   "cell_type": "code",
   "execution_count": 7,
   "id": "06213a6b",
   "metadata": {
    "execution": {
     "iopub.execute_input": "2024-03-23T16:20:37.542375Z",
     "iopub.status.busy": "2024-03-23T16:20:37.542002Z",
     "iopub.status.idle": "2024-03-23T16:20:37.550357Z",
     "shell.execute_reply": "2024-03-23T16:20:37.549276Z"
    },
    "papermill": {
     "duration": 0.027626,
     "end_time": "2024-03-23T16:20:37.552436",
     "exception": false,
     "start_time": "2024-03-23T16:20:37.524810",
     "status": "completed"
    },
    "tags": []
   },
   "outputs": [
    {
     "data": {
      "text/plain": [
       "City\n",
       "Mumbai       972\n",
       "Chennai      891\n",
       "Bangalore    886\n",
       "Hyderabad    868\n",
       "Delhi        605\n",
       "Kolkata      524\n",
       "Name: count, dtype: int64"
      ]
     },
     "execution_count": 7,
     "metadata": {},
     "output_type": "execute_result"
    }
   ],
   "source": [
    "df[\"City\"].value_counts()"
   ]
  },
  {
   "cell_type": "code",
   "execution_count": 8,
   "id": "d2be2bcc",
   "metadata": {
    "execution": {
     "iopub.execute_input": "2024-03-23T16:20:37.579631Z",
     "iopub.status.busy": "2024-03-23T16:20:37.578978Z",
     "iopub.status.idle": "2024-03-23T16:20:37.588078Z",
     "shell.execute_reply": "2024-03-23T16:20:37.586957Z"
    },
    "papermill": {
     "duration": 0.025185,
     "end_time": "2024-03-23T16:20:37.590398",
     "exception": false,
     "start_time": "2024-03-23T16:20:37.565213",
     "status": "completed"
    },
    "tags": []
   },
   "outputs": [
    {
     "data": {
      "text/plain": [
       "Bathroom\n",
       "2    2291\n",
       "1    1474\n",
       "3     749\n",
       "4     156\n",
       "5      60\n",
       "6      12\n",
       "7       3\n",
       "Name: count, dtype: int64"
      ]
     },
     "execution_count": 8,
     "metadata": {},
     "output_type": "execute_result"
    }
   ],
   "source": [
    "# Removing the Outliers from Bathroom column value 10 bathroom\n",
    "df=df[df['Bathroom'] != 10]\n",
    "df['Bathroom'].value_counts()"
   ]
  },
  {
   "cell_type": "code",
   "execution_count": 9,
   "id": "4dec594e",
   "metadata": {
    "execution": {
     "iopub.execute_input": "2024-03-23T16:20:37.618177Z",
     "iopub.status.busy": "2024-03-23T16:20:37.617039Z",
     "iopub.status.idle": "2024-03-23T16:20:37.624698Z",
     "shell.execute_reply": "2024-03-23T16:20:37.623171Z"
    },
    "papermill": {
     "duration": 0.024976,
     "end_time": "2024-03-23T16:20:37.627952",
     "exception": false,
     "start_time": "2024-03-23T16:20:37.602976",
     "status": "completed"
    },
    "tags": []
   },
   "outputs": [],
   "source": [
    "# Removing the Outliers from Rent column values like 34lakh ,12 lakh ,10lakh etc\n",
    "df=df[df['Rent'] != 850000]"
   ]
  },
  {
   "cell_type": "code",
   "execution_count": 10,
   "id": "7efc7dd4",
   "metadata": {
    "execution": {
     "iopub.execute_input": "2024-03-23T16:20:37.662898Z",
     "iopub.status.busy": "2024-03-23T16:20:37.662505Z",
     "iopub.status.idle": "2024-03-23T16:20:37.688550Z",
     "shell.execute_reply": "2024-03-23T16:20:37.687451Z"
    },
    "papermill": {
     "duration": 0.048468,
     "end_time": "2024-03-23T16:20:37.692457",
     "exception": false,
     "start_time": "2024-03-23T16:20:37.643989",
     "status": "completed"
    },
    "tags": []
   },
   "outputs": [
    {
     "data": {
      "text/html": [
       "<div>\n",
       "<style scoped>\n",
       "    .dataframe tbody tr th:only-of-type {\n",
       "        vertical-align: middle;\n",
       "    }\n",
       "\n",
       "    .dataframe tbody tr th {\n",
       "        vertical-align: top;\n",
       "    }\n",
       "\n",
       "    .dataframe thead th {\n",
       "        text-align: right;\n",
       "    }\n",
       "</style>\n",
       "<table border=\"1\" class=\"dataframe\">\n",
       "  <thead>\n",
       "    <tr style=\"text-align: right;\">\n",
       "      <th></th>\n",
       "      <th>BHK</th>\n",
       "      <th>Rent</th>\n",
       "      <th>Size</th>\n",
       "      <th>Bathroom</th>\n",
       "    </tr>\n",
       "  </thead>\n",
       "  <tbody>\n",
       "    <tr>\n",
       "      <th>count</th>\n",
       "      <td>4744.000000</td>\n",
       "      <td>4.744000e+03</td>\n",
       "      <td>4744.000000</td>\n",
       "      <td>4744.000000</td>\n",
       "    </tr>\n",
       "    <tr>\n",
       "      <th>mean</th>\n",
       "      <td>2.083685</td>\n",
       "      <td>3.478687e+04</td>\n",
       "      <td>965.537732</td>\n",
       "      <td>1.963744</td>\n",
       "    </tr>\n",
       "    <tr>\n",
       "      <th>std</th>\n",
       "      <td>0.831817</td>\n",
       "      <td>7.718391e+04</td>\n",
       "      <td>625.220243</td>\n",
       "      <td>0.876493</td>\n",
       "    </tr>\n",
       "    <tr>\n",
       "      <th>min</th>\n",
       "      <td>1.000000</td>\n",
       "      <td>1.200000e+03</td>\n",
       "      <td>10.000000</td>\n",
       "      <td>1.000000</td>\n",
       "    </tr>\n",
       "    <tr>\n",
       "      <th>25%</th>\n",
       "      <td>2.000000</td>\n",
       "      <td>1.000000e+04</td>\n",
       "      <td>550.000000</td>\n",
       "      <td>1.000000</td>\n",
       "    </tr>\n",
       "    <tr>\n",
       "      <th>50%</th>\n",
       "      <td>2.000000</td>\n",
       "      <td>1.600000e+04</td>\n",
       "      <td>850.000000</td>\n",
       "      <td>2.000000</td>\n",
       "    </tr>\n",
       "    <tr>\n",
       "      <th>75%</th>\n",
       "      <td>3.000000</td>\n",
       "      <td>3.300000e+04</td>\n",
       "      <td>1200.000000</td>\n",
       "      <td>2.000000</td>\n",
       "    </tr>\n",
       "    <tr>\n",
       "      <th>max</th>\n",
       "      <td>6.000000</td>\n",
       "      <td>3.500000e+06</td>\n",
       "      <td>7000.000000</td>\n",
       "      <td>7.000000</td>\n",
       "    </tr>\n",
       "  </tbody>\n",
       "</table>\n",
       "</div>"
      ],
      "text/plain": [
       "               BHK          Rent         Size     Bathroom\n",
       "count  4744.000000  4.744000e+03  4744.000000  4744.000000\n",
       "mean      2.083685  3.478687e+04   965.537732     1.963744\n",
       "std       0.831817  7.718391e+04   625.220243     0.876493\n",
       "min       1.000000  1.200000e+03    10.000000     1.000000\n",
       "25%       2.000000  1.000000e+04   550.000000     1.000000\n",
       "50%       2.000000  1.600000e+04   850.000000     2.000000\n",
       "75%       3.000000  3.300000e+04  1200.000000     2.000000\n",
       "max       6.000000  3.500000e+06  7000.000000     7.000000"
      ]
     },
     "execution_count": 10,
     "metadata": {},
     "output_type": "execute_result"
    }
   ],
   "source": [
    "df.describe()"
   ]
  },
  {
   "cell_type": "code",
   "execution_count": 11,
   "id": "15235dea",
   "metadata": {
    "execution": {
     "iopub.execute_input": "2024-03-23T16:20:37.724572Z",
     "iopub.status.busy": "2024-03-23T16:20:37.724044Z",
     "iopub.status.idle": "2024-03-23T16:20:38.306960Z",
     "shell.execute_reply": "2024-03-23T16:20:38.305574Z"
    },
    "papermill": {
     "duration": 0.600942,
     "end_time": "2024-03-23T16:20:38.309733",
     "exception": false,
     "start_time": "2024-03-23T16:20:37.708791",
     "status": "completed"
    },
    "tags": []
   },
   "outputs": [],
   "source": [
    "import seaborn as sns\n",
    "import matplotlib.pyplot as plt"
   ]
  },
  {
   "cell_type": "code",
   "execution_count": 12,
   "id": "cde45b84",
   "metadata": {
    "execution": {
     "iopub.execute_input": "2024-03-23T16:20:38.402308Z",
     "iopub.status.busy": "2024-03-23T16:20:38.401944Z",
     "iopub.status.idle": "2024-03-23T16:20:38.780168Z",
     "shell.execute_reply": "2024-03-23T16:20:38.779051Z"
    },
    "papermill": {
     "duration": 0.459969,
     "end_time": "2024-03-23T16:20:38.782749",
     "exception": false,
     "start_time": "2024-03-23T16:20:38.322780",
     "status": "completed"
    },
    "tags": []
   },
   "outputs": [
    {
     "data": {
      "text/plain": [
       "<Axes: xlabel='Rent', ylabel='Point of Contact'>"
      ]
     },
     "execution_count": 12,
     "metadata": {},
     "output_type": "execute_result"
    },
    {
     "data": {
      "image/png": "[encoded data removed]",
      "text/plain": [
       "<Figure size 640x480 with 1 Axes>"
      ]
     },
     "metadata": {},
     "output_type": "display_data"
    }
   ],
   "source": [
    "sns.barplot(data=df , x='Rent' , y='Point of Contact')"
   ]
  },
  {
   "cell_type": "code",
   "execution_count": 13,
   "id": "9f10fbad",
   "metadata": {
    "execution": {
     "iopub.execute_input": "2024-03-23T16:20:38.812277Z",
     "iopub.status.busy": "2024-03-23T16:20:38.811886Z",
     "iopub.status.idle": "2024-03-23T16:20:39.059863Z",
     "shell.execute_reply": "2024-03-23T16:20:39.058788Z"
    },
    "papermill": {
     "duration": 0.266174,
     "end_time": "2024-03-23T16:20:39.062291",
     "exception": false,
     "start_time": "2024-03-23T16:20:38.796117",
     "status": "completed"
    },
    "tags": []
   },
   "outputs": [
    {
     "data": {
      "text/plain": [
       "<Axes: xlabel='count', ylabel='City'>"
      ]
     },
     "execution_count": 13,
     "metadata": {},
     "output_type": "execute_result"
    },
    {
     "data": {
      "image/png": "[encoded data removed]",
      "text/plain": [
       "<Figure size 640x480 with 1 Axes>"
      ]
     },
     "metadata": {},
     "output_type": "display_data"
    }
   ],
   "source": [
    "sns.countplot(data=df , y='City')"
   ]
  },
  {
   "cell_type": "code",
   "execution_count": 14,
   "id": "5082de57",
   "metadata": {
    "execution": {
     "iopub.execute_input": "2024-03-23T16:20:39.093399Z",
     "iopub.status.busy": "2024-03-23T16:20:39.092506Z",
     "iopub.status.idle": "2024-03-23T16:20:39.535682Z",
     "shell.execute_reply": "2024-03-23T16:20:39.534005Z"
    },
    "papermill": {
     "duration": 0.461595,
     "end_time": "2024-03-23T16:20:39.538274",
     "exception": false,
     "start_time": "2024-03-23T16:20:39.076679",
     "status": "completed"
    },
    "tags": []
   },
   "outputs": [
    {
     "data": {
      "text/plain": [
       "<Axes: xlabel='Rent', ylabel='City'>"
      ]
     },
     "execution_count": 14,
     "metadata": {},
     "output_type": "execute_result"
    },
    {
     "data": {
      "image/png": "[encoded data removed]",
      "text/plain": [
       "<Figure size 640x480 with 1 Axes>"
      ]
     },
     "metadata": {},
     "output_type": "display_data"
    }
   ],
   "source": [
    "sns.barplot(data=df , x='Rent' , y='City')"
   ]
  },
  {
   "cell_type": "code",
   "execution_count": 15,
   "id": "aa59c17b",
   "metadata": {
    "execution": {
     "iopub.execute_input": "2024-03-23T16:20:39.568619Z",
     "iopub.status.busy": "2024-03-23T16:20:39.568226Z",
     "iopub.status.idle": "2024-03-23T16:20:39.800420Z",
     "shell.execute_reply": "2024-03-23T16:20:39.799334Z"
    },
    "papermill": {
     "duration": 0.250454,
     "end_time": "2024-03-23T16:20:39.803065",
     "exception": false,
     "start_time": "2024-03-23T16:20:39.552611",
     "status": "completed"
    },
    "tags": []
   },
   "outputs": [
    {
     "data": {
      "text/plain": [
       "<Axes: xlabel='Bathroom', ylabel='count'>"
      ]
     },
     "execution_count": 15,
     "metadata": {},
     "output_type": "execute_result"
    },
    {
     "data": {
      "image/png": "[encoded data removed]",
      "text/plain": [
       "<Figure size 640x480 with 1 Axes>"
      ]
     },
     "metadata": {},
     "output_type": "display_data"
    }
   ],
   "source": [
    "sns.countplot(data=df, x='Bathroom' )"
   ]
  },
  {
   "cell_type": "code",
   "execution_count": 16,
   "id": "326e5c87",
   "metadata": {
    "execution": {
     "iopub.execute_input": "2024-03-23T16:20:39.834752Z",
     "iopub.status.busy": "2024-03-23T16:20:39.834328Z",
     "iopub.status.idle": "2024-03-23T16:20:40.600140Z",
     "shell.execute_reply": "2024-03-23T16:20:40.599076Z"
    },
    "papermill": {
     "duration": 0.784973,
     "end_time": "2024-03-23T16:20:40.603001",
     "exception": false,
     "start_time": "2024-03-23T16:20:39.818028",
     "status": "completed"
    },
    "tags": []
   },
   "outputs": [],
   "source": [
    "import matplotlib.pyplot as plt\n",
    "import plotly.express as px"
   ]
  },
  {
   "cell_type": "code",
   "execution_count": 17,
   "id": "d179dc61",
   "metadata": {
    "execution": {
     "iopub.execute_input": "2024-03-23T16:20:40.634847Z",
     "iopub.status.busy": "2024-03-23T16:20:40.633744Z",
     "iopub.status.idle": "2024-03-23T16:20:42.532175Z",
     "shell.execute_reply": "2024-03-23T16:20:42.529662Z"
    },
    "papermill": {
     "duration": 1.920446,
     "end_time": "2024-03-23T16:20:42.538491",
     "exception": false,
     "start_time": "2024-03-23T16:20:40.618045",
     "status": "completed"
    },
    "tags": []
   },
   "outputs": [
    {
     "data": {
      "text/html": [
       "        <script type=\"text/javascript\">\n",
       "        window.PlotlyConfig = {MathJaxConfig: 'local'};\n",
       "        if (window.MathJax && window.MathJax.Hub && window.MathJax.Hub.Config) {window.MathJax.Hub.Config({SVG: {font: \"STIX-Web\"}});}\n",
       "        if (typeof require !== 'undefined') {\n",
       "        require.undef(\"plotly\");\n",
       "        requirejs.config({\n",
       "            paths: {\n",
       "                'plotly': ['https://cdn.plot.ly/plotly-2.24.1.min']\n",
       "            }\n",
       "        });\n",
       "        require(['plotly'], function(Plotly) {\n",
       "            window._Plotly = Plotly;\n",
       "        });\n",
       "        }\n",
       "        </script>\n",
       "        "
      ]
     },
     "metadata": {},
     "output_type": "display_data"
    },
    {
     "data": {
      "text/html": [
       "<div>                            <div id=\"e446f27c-b8e4-4674-a237-e0224c1e41a7\" class=\"plotly-graph-div\" style=\"height:700px; width:700px;\"></div>            <script type=\"text/javascript\">                require([\"plotly\"], function(Plotly) {                    window.PLOTLYENV=window.PLOTLYENV || {};                                    if (document.getElementById(\"e446f27c-b8e4-4674-a237-e0224c1e41a7\")) {                    Plotly.newPlot(                        \"e446f27c-b8e4-4674-a237-e0224c1e41a7\",                        [{\"domain\":{\"x\":[0.0,1.0],\"y\":[0.0,1.0]},\"hovertemplate\":\"City=%{label}\\u003cextra\\u003e\\u003c\\u002fextra\\u003e\",\"labels\":[\"Kolkata\",\"Kolkata\",\"Kolkata\",\"Kolkata\",\"Kolkata\",\"Kolkata\",\"Kolkata\",\"Kolkata\",\"Kolkata\",\"Kolkata\",\"Kolkata\",\"Kolkata\",\"Kolkata\",\"Kolkata\",\"Kolkata\",\"Kolkata\",\"Kolkata\",\"Kolkata\",\"Kolkata\",\"Kolkata\",\"Kolkata\",\"Kolkata\",\"Kolkata\",\"Kolkata\",\"Kolkata\",\"Kolkata\",\"Kolkata\",\"Kolkata\",\"Kolkata\",\"Kolkata\",\"Kolkata\",\"Kolkata\",\"Kolkata\",\"Kolkata\",\"Kolkata\",\"Kolkata\",\"Kolkata\",\"Kolkata\",\"Kolkata\",\"Kolkata\",\"Kolkata\",\"Kolkata\",\"Kolkata\",\"Kolkata\",\"Kolkata\",\"Kolkata\",\"Kolkata\",\"Kolkata\",\"Kolkata\",\"Kolkata\",\"Kolkata\",\"Kolkata\",\"Kolkata\",\"Kolkata\",\"Kolkata\",\"Kolkata\",\"Kolkata\",\"Kolkata\",\"Kolkata\",\"Kolkata\",\"Kolkata\",\"Kolkata\",\"Kolkata\",\"Kolkata\",\"Kolkata\",\"Kolkata\",\"Kolkata\",\"Kolkata\",\"Kolkata\",\"Kolkata\",\"Kolkata\",\"Kolkata\",\"Kolkata\",\"Kolkata\",\"Kolkata\",\"Kolkata\",\"Kolkata\",\"Kolkata\",\"Kolkata\",\"Kolkata\",\"Kolkata\",\"Kolkata\",\"Kolkata\",\"Kolkata\",\"Kolkata\",\"Kolkata\",\"Kolkata\",\"Kolkata\",\"Kolkata\",\"Kolkata\",\"Kolkata\",\"Kolkata\",\"Kolkata\",\"Kolkata\",\"Kolkata\",\"Kolkata\",\"Kolkata\",\"Kolkata\",\"Kolkata\",\"Kolkata\",\"Kolkata\",\"Kolkata\",\"Kolkata\",\"Kolkata\",\"Kolkata\",\"Kolkata\",\"Kolkata\",\"Kolkata\",\"Kolkata\",\"Kolkata\",\"Kolkata\",\"Kolkata\",\"Kolkata\",\"Kolkata\",\"Kolkata\",\"Kolkata\",\"Kolkata\",\"Kolkata\",\"Kolkata\",\"Kolkata\",\"Kolkata\",\"Kolkata\",\"Kolkata\",\"Kolkata\",\"Kolkata\",\"Kolkata\",\"Kolkata\",\"Kolkata\",\"Kolkata\",\"Kolkata\",\"Kolkata\",\"Kolkata\",\"Kolkata\",\"Kolkata\",\"Kolkata\",\"Kolkata\",\"Kolkata\",\"Kolkata\",\"Kolkata\",\"Kolkata\",\"Kolkata\",\"Kolkata\",\"Kolkata\",\"Kolkata\",\"Kolkata\",\"Kolkata\",\"Kolkata\",\"Kolkata\",\"Kolkata\",\"Kolkata\",\"Kolkata\",\"Kolkata\",\"Kolkata\",\"Kolkata\",\"Kolkata\",\"Kolkata\",\"Kolkata\",\"Kolkata\",\"Kolkata\",\"Kolkata\",\"Kolkata\",\"Kolkata\",\"Kolkata\",\"Kolkata\",\"Kolkata\",\"Kolkata\",\"Kolkata\",\"Kolkata\",\"Kolkata\",\"Kolkata\",\"Kolkata\",\"Kolkata\",\"Kolkata\",\"Kolkata\",\"Kolkata\",\"Kolkata\",\"Kolkata\",\"Kolkata\",\"Kolkata\",\"Kolkata\",\"Kolkata\",\"Kolkata\",\"Kolkata\",\"Kolkata\",\"Kolkata\",\"Kolkata\",\"Kolkata\",\"Kolkata\",\"Kolkata\",\"Kolkata\",\"Kolkata\",\"Kolkata\",\"Kolkata\",\"Kolkata\",\"Kolkata\",\"Kolkata\",\"Kolkata\",\"Kolkata\",\"Kolkata\",\"Kolkata\",\"Kolkata\",\"Kolkata\",\"Kolkata\",\"Kolkata\",\"Kolkata\",\"Kolkata\",\"Kolkata\",\"Kolkata\",\"Kolkata\",\"Kolkata\",\"Kolkata\",\"Kolkata\",\"Kolkata\",\"Kolkata\",\"Kolkata\",\"Kolkata\",\"Kolkata\",\"Kolkata\",\"Kolkata\",\"Kolkata\",\"Kolkata\",\"Kolkata\",\"Kolkata\",\"Kolkata\",\"Kolkata\",\"Kolkata\",\"Kolkata\",\"Kolkata\",\"Kolkata\",\"Kolkata\",\"Kolkata\",\"Kolkata\",\"Kolkata\",\"Kolkata\",\"Kolkata\",\"Kolkata\",\"Kolkata\",\"Kolkata\",\"Kolkata\",\"Kolkata\",\"Kolkata\",\"Kolkata\",\"Kolkata\",\"Kolkata\",\"Kolkata\",\"Kolkata\",\"Kolkata\",\"Kolkata\",\"Kolkata\",\"Kolkata\",\"Kolkata\",\"Kolkata\",\"Kolkata\",\"Kolkata\",\"Kolkata\",\"Kolkata\",\"Kolkata\",\"Kolkata\",\"Kolkata\",\"Kolkata\",\"Kolkata\",\"Kolkata\",\"Kolkata\",\"Kolkata\",\"Kolkata\",\"Kolkata\",\"Kolkata\",\"Kolkata\",\"Kolkata\",\"Kolkata\",\"Kolkata\",\"Kolkata\",\"Kolkata\",\"Kolkata\",\"Kolkata\",\"Kolkata\",\"Kolkata\",\"Kolkata\",\"Kolkata\",\"Kolkata\",\"Kolkata\",\"Kolkata\",\"Kolkata\",\"Kolkata\",\"Kolkata\",\"Kolkata\",\"Kolkata\",\"Kolkata\",\"Kolkata\",\"Kolkata\",\"Kolkata\",\"Kolkata\",\"Kolkata\",\"Kolkata\",\"Kolkata\",\"Kolkata\",\"Kolkata\",\"Kolkata\",\"Kolkata\",\"Kolkata\",\"Kolkata\",\"Kolkata\",\"Kolkata\",\"Kolkata\",\"Kolkata\",\"Kolkata\",\"Kolkata\",\"Kolkata\",\"Kolkata\",\"Kolkata\",\"Kolkata\",\"Kolkata\",\"Kolkata\",\"Kolkata\",\"Kolkata\",\"Kolkata\",\"Kolkata\",\"Kolkata\",\"Kolkata\",\"Kolkata\",\"Kolkata\",\"Kolkata\",\"Kolkata\",\"Kolkata\",\"Kolkata\",\"Kolkata\",\"Kolkata\",\"Kolkata\",\"Kolkata\",\"Kolkata\",\"Kolkata\",\"Kolkata\",\"Kolkata\",\"Kolkata\",\"Kolkata\",\"Kolkata\",\"Kolkata\",\"Kolkata\",\"Kolkata\",\"Kolkata\",\"Kolkata\",\"Kolkata\",\"Kolkata\",\"Kolkata\",\"Kolkata\",\"Kolkata\",\"Kolkata\",\"Kolkata\",\"Kolkata\",\"Kolkata\",\"Kolkata\",\"Kolkata\",\"Kolkata\",\"Kolkata\",\"Kolkata\",\"Kolkata\",\"Kolkata\",\"Kolkata\",\"Kolkata\",\"Kolkata\",\"Kolkata\",\"Kolkata\",\"Kolkata\",\"Kolkata\",\"Kolkata\",\"Kolkata\",\"Kolkata\",\"Kolkata\",\"Kolkata\",\"Kolkata\",\"Kolkata\",\"Kolkata\",\"Kolkata\",\"Kolkata\",\"Kolkata\",\"Kolkata\",\"Kolkata\",\"Kolkata\",\"Kolkata\",\"Kolkata\",\"Kolkata\",\"Kolkata\",\"Kolkata\",\"Kolkata\",\"Kolkata\",\"Kolkata\",\"Kolkata\",\"Kolkata\",\"Kolkata\",\"Kolkata\",\"Kolkata\",\"Kolkata\",\"Kolkata\",\"Kolkata\",\"Kolkata\",\"Kolkata\",\"Kolkata\",\"Kolkata\",\"Kolkata\",\"Kolkata\",\"Kolkata\",\"Kolkata\",\"Kolkata\",\"Kolkata\",\"Kolkata\",\"Kolkata\",\"Kolkata\",\"Kolkata\",\"Kolkata\",\"Kolkata\",\"Kolkata\",\"Kolkata\",\"Kolkata\",\"Kolkata\",\"Kolkata\",\"Kolkata\",\"Kolkata\",\"Kolkata\",\"Kolkata\",\"Kolkata\",\"Kolkata\",\"Kolkata\",\"Kolkata\",\"Kolkata\",\"Kolkata\",\"Kolkata\",\"Kolkata\",\"Kolkata\",\"Kolkata\",\"Kolkata\",\"Kolkata\",\"Kolkata\",\"Kolkata\",\"Kolkata\",\"Kolkata\",\"Kolkata\",\"Kolkata\",\"Kolkata\",\"Kolkata\",\"Kolkata\",\"Kolkata\",\"Kolkata\",\"Kolkata\",\"Kolkata\",\"Kolkata\",\"Kolkata\",\"Kolkata\",\"Kolkata\",\"Kolkata\",\"Kolkata\",\"Kolkata\",\"Kolkata\",\"Kolkata\",\"Kolkata\",\"Kolkata\",\"Kolkata\",\"Kolkata\",\"Kolkata\",\"Kolkata\",\"Kolkata\",\"Kolkata\",\"Kolkata\",\"Kolkata\",\"Kolkata\",\"Kolkata\",\"Kolkata\",\"Kolkata\",\"Kolkata\",\"Kolkata\",\"Kolkata\",\"Kolkata\",\"Kolkata\",\"Kolkata\",\"Kolkata\",\"Kolkata\",\"Kolkata\",\"Kolkata\",\"Kolkata\",\"Kolkata\",\"Kolkata\",\"Kolkata\",\"Kolkata\",\"Kolkata\",\"Kolkata\",\"Kolkata\",\"Kolkata\",\"Kolkata\",\"Kolkata\",\"Kolkata\",\"Kolkata\",\"Kolkata\",\"Kolkata\",\"Kolkata\",\"Kolkata\",\"Kolkata\",\"Kolkata\",\"Kolkata\",\"Kolkata\",\"Kolkata\",\"Kolkata\",\"Kolkata\",\"Kolkata\",\"Kolkata\",\"Kolkata\",\"Kolkata\",\"Kolkata\",\"Kolkata\",\"Kolkata\",\"Kolkata\",\"Kolkata\",\"Kolkata\",\"Kolkata\",\"Kolkata\",\"Kolkata\",\"Kolkata\",\"Kolkata\",\"Kolkata\",\"Kolkata\",\"Kolkata\",\"Kolkata\",\"Kolkata\",\"Kolkata\",\"Kolkata\",\"Kolkata\",\"Mumbai\",\"Mumbai\",\"Mumbai\",\"Mumbai\",\"Mumbai\",\"Mumbai\",\"Mumbai\",\"Mumbai\",\"Mumbai\",\"Mumbai\",\"Mumbai\",\"Mumbai\",\"Mumbai\",\"Mumbai\",\"Mumbai\",\"Mumbai\",\"Mumbai\",\"Mumbai\",\"Mumbai\",\"Mumbai\",\"Mumbai\",\"Mumbai\",\"Mumbai\",\"Mumbai\",\"Mumbai\",\"Mumbai\",\"Mumbai\",\"Mumbai\",\"Mumbai\",\"Mumbai\",\"Mumbai\",\"Mumbai\",\"Mumbai\",\"Mumbai\",\"Mumbai\",\"Mumbai\",\"Mumbai\",\"Mumbai\",\"Mumbai\",\"Mumbai\",\"Mumbai\",\"Mumbai\",\"Mumbai\",\"Mumbai\",\"Mumbai\",\"Mumbai\",\"Mumbai\",\"Mumbai\",\"Mumbai\",\"Mumbai\",\"Mumbai\",\"Mumbai\",\"Mumbai\",\"Mumbai\",\"Mumbai\",\"Mumbai\",\"Mumbai\",\"Mumbai\",\"Mumbai\",\"Mumbai\",\"Mumbai\",\"Mumbai\",\"Mumbai\",\"Mumbai\",\"Mumbai\",\"Mumbai\",\"Mumbai\",\"Mumbai\",\"Mumbai\",\"Mumbai\",\"Mumbai\",\"Mumbai\",\"Mumbai\",\"Mumbai\",\"Mumbai\",\"Mumbai\",\"Mumbai\",\"Mumbai\",\"Mumbai\",\"Mumbai\",\"Mumbai\",\"Mumbai\",\"Mumbai\",\"Mumbai\",\"Mumbai\",\"Mumbai\",\"Mumbai\",\"Mumbai\",\"Mumbai\",\"Mumbai\",\"Mumbai\",\"Mumbai\",\"Mumbai\",\"Mumbai\",\"Mumbai\",\"Mumbai\",\"Mumbai\",\"Mumbai\",\"Mumbai\",\"Mumbai\",\"Mumbai\",\"Mumbai\",\"Mumbai\",\"Mumbai\",\"Mumbai\",\"Mumbai\",\"Mumbai\",\"Mumbai\",\"Mumbai\",\"Mumbai\",\"Mumbai\",\"Mumbai\",\"Mumbai\",\"Mumbai\",\"Mumbai\",\"Mumbai\",\"Mumbai\",\"Mumbai\",\"Mumbai\",\"Mumbai\",\"Mumbai\",\"Mumbai\",\"Mumbai\",\"Mumbai\",\"Mumbai\",\"Mumbai\",\"Mumbai\",\"Mumbai\",\"Mumbai\",\"Mumbai\",\"Mumbai\",\"Mumbai\",\"Mumbai\",\"Mumbai\",\"Mumbai\",\"Mumbai\",\"Mumbai\",\"Mumbai\",\"Mumbai\",\"Mumbai\",\"Mumbai\",\"Mumbai\",\"Mumbai\",\"Mumbai\",\"Mumbai\",\"Mumbai\",\"Mumbai\",\"Mumbai\",\"Mumbai\",\"Mumbai\",\"Mumbai\",\"Mumbai\",\"Mumbai\",\"Mumbai\",\"Mumbai\",\"Mumbai\",\"Mumbai\",\"Mumbai\",\"Mumbai\",\"Mumbai\",\"Mumbai\",\"Mumbai\",\"Mumbai\",\"Mumbai\",\"Mumbai\",\"Mumbai\",\"Mumbai\",\"Mumbai\",\"Mumbai\",\"Mumbai\",\"Mumbai\",\"Mumbai\",\"Mumbai\",\"Mumbai\",\"Mumbai\",\"Mumbai\",\"Mumbai\",\"Mumbai\",\"Mumbai\",\"Mumbai\",\"Mumbai\",\"Mumbai\",\"Mumbai\",\"Mumbai\",\"Mumbai\",\"Mumbai\",\"Mumbai\",\"Mumbai\",\"Mumbai\",\"Mumbai\",\"Mumbai\",\"Mumbai\",\"Mumbai\",\"Mumbai\",\"Mumbai\",\"Mumbai\",\"Mumbai\",\"Mumbai\",\"Mumbai\",\"Mumbai\",\"Mumbai\",\"Mumbai\",\"Mumbai\",\"Mumbai\",\"Mumbai\",\"Mumbai\",\"Mumbai\",\"Mumbai\",\"Mumbai\",\"Mumbai\",\"Mumbai\",\"Mumbai\",\"Mumbai\",\"Mumbai\",\"Mumbai\",\"Mumbai\",\"Mumbai\",\"Mumbai\",\"Mumbai\",\"Mumbai\",\"Mumbai\",\"Mumbai\",\"Mumbai\",\"Mumbai\",\"Mumbai\",\"Mumbai\",\"Mumbai\",\"Mumbai\",\"Mumbai\",\"Mumbai\",\"Mumbai\",\"Mumbai\",\"Mumbai\",\"Mumbai\",\"Mumbai\",\"Mumbai\",\"Mumbai\",\"Mumbai\",\"Mumbai\",\"Mumbai\",\"Mumbai\",\"Mumbai\",\"Mumbai\",\"Mumbai\",\"Mumbai\",\"Mumbai\",\"Mumbai\",\"Mumbai\",\"Mumbai\",\"Mumbai\",\"Mumbai\",\"Mumbai\",\"Mumbai\",\"Mumbai\",\"Mumbai\",\"Mumbai\",\"Mumbai\",\"Mumbai\",\"Mumbai\",\"Mumbai\",\"Mumbai\",\"Mumbai\",\"Mumbai\",\"Mumbai\",\"Mumbai\",\"Mumbai\",\"Mumbai\",\"Mumbai\",\"Mumbai\",\"Mumbai\",\"Mumbai\",\"Mumbai\",\"Mumbai\",\"Mumbai\",\"Mumbai\",\"Mumbai\",\"Mumbai\",\"Mumbai\",\"Mumbai\",\"Mumbai\",\"Mumbai\",\"Mumbai\",\"Mumbai\",\"Mumbai\",\"Mumbai\",\"Mumbai\",\"Mumbai\",\"Mumbai\",\"Mumbai\",\"Mumbai\",\"Mumbai\",\"Mumbai\",\"Mumbai\",\"Mumbai\",\"Mumbai\",\"Mumbai\",\"Mumbai\",\"Mumbai\",\"Mumbai\",\"Mumbai\",\"Mumbai\",\"Mumbai\",\"Mumbai\",\"Mumbai\",\"Mumbai\",\"Mumbai\",\"Mumbai\",\"Mumbai\",\"Mumbai\",\"Mumbai\",\"Mumbai\",\"Mumbai\",\"Mumbai\",\"Mumbai\",\"Mumbai\",\"Mumbai\",\"Mumbai\",\"Mumbai\",\"Mumbai\",\"Mumbai\",\"Mumbai\",\"Mumbai\",\"Mumbai\",\"Mumbai\",\"Mumbai\",\"Mumbai\",\"Mumbai\",\"Mumbai\",\"Mumbai\",\"Mumbai\",\"Mumbai\",\"Mumbai\",\"Mumbai\",\"Mumbai\",\"Mumbai\",\"Mumbai\",\"Mumbai\",\"Mumbai\",\"Mumbai\",\"Mumbai\",\"Mumbai\",\"Mumbai\",\"Mumbai\",\"Mumbai\",\"Mumbai\",\"Mumbai\",\"Mumbai\",\"Mumbai\",\"Mumbai\",\"Mumbai\",\"Mumbai\",\"Mumbai\",\"Mumbai\",\"Mumbai\",\"Mumbai\",\"Mumbai\",\"Mumbai\",\"Mumbai\",\"Mumbai\",\"Mumbai\",\"Mumbai\",\"Mumbai\",\"Mumbai\",\"Mumbai\",\"Mumbai\",\"Mumbai\",\"Mumbai\",\"Mumbai\",\"Mumbai\",\"Mumbai\",\"Mumbai\",\"Mumbai\",\"Mumbai\",\"Mumbai\",\"Mumbai\",\"Mumbai\",\"Mumbai\",\"Mumbai\",\"Mumbai\",\"Mumbai\",\"Mumbai\",\"Mumbai\",\"Mumbai\",\"Mumbai\",\"Mumbai\",\"Mumbai\",\"Mumbai\",\"Mumbai\",\"Mumbai\",\"Mumbai\",\"Mumbai\",\"Mumbai\",\"Mumbai\",\"Mumbai\",\"Mumbai\",\"Mumbai\",\"Mumbai\",\"Mumbai\",\"Mumbai\",\"Mumbai\",\"Mumbai\",\"Mumbai\",\"Mumbai\",\"Mumbai\",\"Mumbai\",\"Mumbai\",\"Mumbai\",\"Mumbai\",\"Mumbai\",\"Mumbai\",\"Mumbai\",\"Mumbai\",\"Mumbai\",\"Mumbai\",\"Mumbai\",\"Mumbai\",\"Mumbai\",\"Mumbai\",\"Mumbai\",\"Mumbai\",\"Mumbai\",\"Mumbai\",\"Mumbai\",\"Mumbai\",\"Mumbai\",\"Mumbai\",\"Mumbai\",\"Mumbai\",\"Mumbai\",\"Mumbai\",\"Mumbai\",\"Mumbai\",\"Mumbai\",\"Mumbai\",\"Mumbai\",\"Mumbai\",\"Mumbai\",\"Mumbai\",\"Mumbai\",\"Mumbai\",\"Mumbai\",\"Mumbai\",\"Mumbai\",\"Mumbai\",\"Mumbai\",\"Mumbai\",\"Mumbai\",\"Mumbai\",\"Mumbai\",\"Mumbai\",\"Mumbai\",\"Mumbai\",\"Mumbai\",\"Mumbai\",\"Mumbai\",\"Mumbai\",\"Mumbai\",\"Mumbai\",\"Mumbai\",\"Mumbai\",\"Mumbai\",\"Mumbai\",\"Mumbai\",\"Mumbai\",\"Mumbai\",\"Mumbai\",\"Mumbai\",\"Mumbai\",\"Mumbai\",\"Mumbai\",\"Mumbai\",\"Mumbai\",\"Mumbai\",\"Mumbai\",\"Mumbai\",\"Mumbai\",\"Mumbai\",\"Mumbai\",\"Mumbai\",\"Mumbai\",\"Mumbai\",\"Mumbai\",\"Mumbai\",\"Mumbai\",\"Mumbai\",\"Mumbai\",\"Mumbai\",\"Mumbai\",\"Mumbai\",\"Mumbai\",\"Mumbai\",\"Mumbai\",\"Mumbai\",\"Mumbai\",\"Mumbai\",\"Mumbai\",\"Mumbai\",\"Mumbai\",\"Mumbai\",\"Mumbai\",\"Mumbai\",\"Mumbai\",\"Mumbai\",\"Mumbai\",\"Mumbai\",\"Mumbai\",\"Mumbai\",\"Mumbai\",\"Mumbai\",\"Mumbai\",\"Mumbai\",\"Mumbai\",\"Mumbai\",\"Mumbai\",\"Mumbai\",\"Mumbai\",\"Mumbai\",\"Mumbai\",\"Mumbai\",\"Mumbai\",\"Mumbai\",\"Mumbai\",\"Mumbai\",\"Mumbai\",\"Mumbai\",\"Mumbai\",\"Mumbai\",\"Mumbai\",\"Mumbai\",\"Mumbai\",\"Mumbai\",\"Mumbai\",\"Mumbai\",\"Mumbai\",\"Mumbai\",\"Mumbai\",\"Mumbai\",\"Mumbai\",\"Mumbai\",\"Mumbai\",\"Mumbai\",\"Mumbai\",\"Mumbai\",\"Mumbai\",\"Mumbai\",\"Mumbai\",\"Mumbai\",\"Mumbai\",\"Mumbai\",\"Mumbai\",\"Mumbai\",\"Mumbai\",\"Mumbai\",\"Mumbai\",\"Mumbai\",\"Mumbai\",\"Mumbai\",\"Mumbai\",\"Mumbai\",\"Mumbai\",\"Mumbai\",\"Mumbai\",\"Mumbai\",\"Mumbai\",\"Mumbai\",\"Mumbai\",\"Mumbai\",\"Mumbai\",\"Mumbai\",\"Mumbai\",\"Mumbai\",\"Mumbai\",\"Mumbai\",\"Mumbai\",\"Mumbai\",\"Mumbai\",\"Mumbai\",\"Mumbai\",\"Mumbai\",\"Mumbai\",\"Mumbai\",\"Mumbai\",\"Mumbai\",\"Mumbai\",\"Mumbai\",\"Mumbai\",\"Mumbai\",\"Mumbai\",\"Mumbai\",\"Mumbai\",\"Mumbai\",\"Mumbai\",\"Mumbai\",\"Mumbai\",\"Mumbai\",\"Mumbai\",\"Mumbai\",\"Mumbai\",\"Mumbai\",\"Mumbai\",\"Mumbai\",\"Mumbai\",\"Mumbai\",\"Mumbai\",\"Mumbai\",\"Mumbai\",\"Mumbai\",\"Mumbai\",\"Mumbai\",\"Mumbai\",\"Mumbai\",\"Mumbai\",\"Mumbai\",\"Mumbai\",\"Mumbai\",\"Mumbai\",\"Mumbai\",\"Mumbai\",\"Mumbai\",\"Mumbai\",\"Mumbai\",\"Mumbai\",\"Mumbai\",\"Mumbai\",\"Mumbai\",\"Mumbai\",\"Mumbai\",\"Mumbai\",\"Mumbai\",\"Mumbai\",\"Mumbai\",\"Mumbai\",\"Mumbai\",\"Mumbai\",\"Mumbai\",\"Mumbai\",\"Mumbai\",\"Mumbai\",\"Mumbai\",\"Mumbai\",\"Mumbai\",\"Mumbai\",\"Mumbai\",\"Mumbai\",\"Mumbai\",\"Mumbai\",\"Mumbai\",\"Mumbai\",\"Mumbai\",\"Mumbai\",\"Mumbai\",\"Mumbai\",\"Mumbai\",\"Mumbai\",\"Mumbai\",\"Mumbai\",\"Mumbai\",\"Mumbai\",\"Mumbai\",\"Mumbai\",\"Mumbai\",\"Mumbai\",\"Mumbai\",\"Mumbai\",\"Mumbai\",\"Mumbai\",\"Mumbai\",\"Mumbai\",\"Mumbai\",\"Mumbai\",\"Mumbai\",\"Mumbai\",\"Mumbai\",\"Mumbai\",\"Mumbai\",\"Mumbai\",\"Mumbai\",\"Mumbai\",\"Mumbai\",\"Mumbai\",\"Mumbai\",\"Mumbai\",\"Mumbai\",\"Mumbai\",\"Mumbai\",\"Mumbai\",\"Mumbai\",\"Mumbai\",\"Mumbai\",\"Mumbai\",\"Mumbai\",\"Mumbai\",\"Mumbai\",\"Mumbai\",\"Mumbai\",\"Mumbai\",\"Mumbai\",\"Mumbai\",\"Mumbai\",\"Mumbai\",\"Mumbai\",\"Mumbai\",\"Mumbai\",\"Mumbai\",\"Mumbai\",\"Mumbai\",\"Mumbai\",\"Mumbai\",\"Mumbai\",\"Mumbai\",\"Mumbai\",\"Mumbai\",\"Mumbai\",\"Mumbai\",\"Mumbai\",\"Mumbai\",\"Mumbai\",\"Mumbai\",\"Mumbai\",\"Mumbai\",\"Mumbai\",\"Mumbai\",\"Mumbai\",\"Mumbai\",\"Mumbai\",\"Mumbai\",\"Mumbai\",\"Mumbai\",\"Mumbai\",\"Mumbai\",\"Mumbai\",\"Mumbai\",\"Mumbai\",\"Mumbai\",\"Mumbai\",\"Mumbai\",\"Mumbai\",\"Mumbai\",\"Mumbai\",\"Mumbai\",\"Mumbai\",\"Mumbai\",\"Mumbai\",\"Mumbai\",\"Mumbai\",\"Mumbai\",\"Mumbai\",\"Mumbai\",\"Mumbai\",\"Mumbai\",\"Mumbai\",\"Mumbai\",\"Mumbai\",\"Mumbai\",\"Mumbai\",\"Mumbai\",\"Mumbai\",\"Mumbai\",\"Mumbai\",\"Mumbai\",\"Mumbai\",\"Mumbai\",\"Mumbai\",\"Mumbai\",\"Mumbai\",\"Mumbai\",\"Mumbai\",\"Mumbai\",\"Mumbai\",\"Mumbai\",\"Mumbai\",\"Mumbai\",\"Mumbai\",\"Mumbai\",\"Mumbai\",\"Mumbai\",\"Mumbai\",\"Mumbai\",\"Mumbai\",\"Mumbai\",\"Mumbai\",\"Mumbai\",\"Mumbai\",\"Mumbai\",\"Mumbai\",\"Mumbai\",\"Mumbai\",\"Mumbai\",\"Mumbai\",\"Mumbai\",\"Mumbai\",\"Mumbai\",\"Mumbai\",\"Mumbai\",\"Mumbai\",\"Mumbai\",\"Mumbai\",\"Mumbai\",\"Mumbai\",\"Mumbai\",\"Mumbai\",\"Mumbai\",\"Mumbai\",\"Mumbai\",\"Mumbai\",\"Mumbai\",\"Mumbai\",\"Mumbai\",\"Mumbai\",\"Mumbai\",\"Mumbai\",\"Mumbai\",\"Mumbai\",\"Mumbai\",\"Mumbai\",\"Mumbai\",\"Mumbai\",\"Mumbai\",\"Mumbai\",\"Mumbai\",\"Mumbai\",\"Mumbai\",\"Mumbai\",\"Mumbai\",\"Mumbai\",\"Mumbai\",\"Mumbai\",\"Mumbai\",\"Mumbai\",\"Mumbai\",\"Mumbai\",\"Mumbai\",\"Mumbai\",\"Mumbai\",\"Mumbai\",\"Mumbai\",\"Mumbai\",\"Mumbai\",\"Mumbai\",\"Mumbai\",\"Mumbai\",\"Mumbai\",\"Mumbai\",\"Mumbai\",\"Mumbai\",\"Mumbai\",\"Mumbai\",\"Mumbai\",\"Mumbai\",\"Mumbai\",\"Mumbai\",\"Mumbai\",\"Mumbai\",\"Mumbai\",\"Mumbai\",\"Mumbai\",\"Mumbai\",\"Mumbai\",\"Mumbai\",\"Mumbai\",\"Mumbai\",\"Mumbai\",\"Mumbai\",\"Mumbai\",\"Mumbai\",\"Mumbai\",\"Mumbai\",\"Mumbai\",\"Mumbai\",\"Mumbai\",\"Mumbai\",\"Mumbai\",\"Mumbai\",\"Mumbai\",\"Mumbai\",\"Mumbai\",\"Mumbai\",\"Mumbai\",\"Mumbai\",\"Mumbai\",\"Mumbai\",\"Mumbai\",\"Mumbai\",\"Mumbai\",\"Mumbai\",\"Mumbai\",\"Mumbai\",\"Mumbai\",\"Mumbai\",\"Mumbai\",\"Mumbai\",\"Mumbai\",\"Mumbai\",\"Mumbai\",\"Mumbai\",\"Mumbai\",\"Mumbai\",\"Mumbai\",\"Mumbai\",\"Mumbai\",\"Mumbai\",\"Mumbai\",\"Mumbai\",\"Mumbai\",\"Mumbai\",\"Mumbai\",\"Mumbai\",\"Mumbai\",\"Mumbai\",\"Mumbai\",\"Mumbai\",\"Mumbai\",\"Mumbai\",\"Mumbai\",\"Mumbai\",\"Mumbai\",\"Mumbai\",\"Mumbai\",\"Mumbai\",\"Mumbai\",\"Mumbai\",\"Mumbai\",\"Mumbai\",\"Mumbai\",\"Mumbai\",\"Mumbai\",\"Mumbai\",\"Mumbai\",\"Mumbai\",\"Mumbai\",\"Mumbai\",\"Mumbai\",\"Mumbai\",\"Mumbai\",\"Mumbai\",\"Mumbai\",\"Mumbai\",\"Mumbai\",\"Mumbai\",\"Mumbai\",\"Mumbai\",\"Mumbai\",\"Mumbai\",\"Mumbai\",\"Mumbai\",\"Mumbai\",\"Mumbai\",\"Mumbai\",\"Mumbai\",\"Mumbai\",\"Mumbai\",\"Mumbai\",\"Mumbai\",\"Mumbai\",\"Mumbai\",\"Mumbai\",\"Mumbai\",\"Mumbai\",\"Mumbai\",\"Mumbai\",\"Mumbai\",\"Mumbai\",\"Mumbai\",\"Mumbai\",\"Mumbai\",\"Mumbai\",\"Mumbai\",\"Mumbai\",\"Mumbai\",\"Mumbai\",\"Mumbai\",\"Bangalore\",\"Bangalore\",\"Bangalore\",\"Bangalore\",\"Bangalore\",\"Bangalore\",\"Bangalore\",\"Bangalore\",\"Bangalore\",\"Bangalore\",\"Bangalore\",\"Bangalore\",\"Bangalore\",\"Bangalore\",\"Bangalore\",\"Bangalore\",\"Bangalore\",\"Bangalore\",\"Bangalore\",\"Bangalore\",\"Bangalore\",\"Bangalore\",\"Bangalore\",\"Bangalore\",\"Bangalore\",\"Bangalore\",\"Bangalore\",\"Bangalore\",\"Bangalore\",\"Bangalore\",\"Bangalore\",\"Bangalore\",\"Bangalore\",\"Bangalore\",\"Bangalore\",\"Bangalore\",\"Bangalore\",\"Bangalore\",\"Bangalore\",\"Bangalore\",\"Bangalore\",\"Bangalore\",\"Bangalore\",\"Bangalore\",\"Bangalore\",\"Bangalore\",\"Bangalore\",\"Bangalore\",\"Bangalore\",\"Bangalore\",\"Bangalore\",\"Bangalore\",\"Bangalore\",\"Bangalore\",\"Bangalore\",\"Bangalore\",\"Bangalore\",\"Bangalore\",\"Bangalore\",\"Bangalore\",\"Bangalore\",\"Bangalore\",\"Bangalore\",\"Bangalore\",\"Bangalore\",\"Bangalore\",\"Bangalore\",\"Bangalore\",\"Bangalore\",\"Bangalore\",\"Bangalore\",\"Bangalore\",\"Bangalore\",\"Bangalore\",\"Bangalore\",\"Bangalore\",\"Bangalore\",\"Bangalore\",\"Bangalore\",\"Bangalore\",\"Bangalore\",\"Bangalore\",\"Bangalore\",\"Bangalore\",\"Bangalore\",\"Bangalore\",\"Bangalore\",\"Bangalore\",\"Bangalore\",\"Bangalore\",\"Bangalore\",\"Bangalore\",\"Bangalore\",\"Bangalore\",\"Bangalore\",\"Bangalore\",\"Bangalore\",\"Bangalore\",\"Bangalore\",\"Bangalore\",\"Bangalore\",\"Bangalore\",\"Bangalore\",\"Bangalore\",\"Bangalore\",\"Bangalore\",\"Bangalore\",\"Bangalore\",\"Bangalore\",\"Bangalore\",\"Bangalore\",\"Bangalore\",\"Bangalore\",\"Bangalore\",\"Bangalore\",\"Bangalore\",\"Bangalore\",\"Bangalore\",\"Bangalore\",\"Bangalore\",\"Bangalore\",\"Bangalore\",\"Bangalore\",\"Bangalore\",\"Bangalore\",\"Bangalore\",\"Bangalore\",\"Bangalore\",\"Bangalore\",\"Bangalore\",\"Bangalore\",\"Bangalore\",\"Bangalore\",\"Bangalore\",\"Bangalore\",\"Bangalore\",\"Bangalore\",\"Bangalore\",\"Bangalore\",\"Bangalore\",\"Bangalore\",\"Bangalore\",\"Bangalore\",\"Bangalore\",\"Bangalore\",\"Bangalore\",\"Bangalore\",\"Bangalore\",\"Bangalore\",\"Bangalore\",\"Bangalore\",\"Bangalore\",\"Bangalore\",\"Bangalore\",\"Bangalore\",\"Bangalore\",\"Bangalore\",\"Bangalore\",\"Bangalore\",\"Bangalore\",\"Bangalore\",\"Bangalore\",\"Bangalore\",\"Bangalore\",\"Bangalore\",\"Bangalore\",\"Bangalore\",\"Bangalore\",\"Bangalore\",\"Bangalore\",\"Bangalore\",\"Bangalore\",\"Bangalore\",\"Bangalore\",\"Bangalore\",\"Bangalore\",\"Bangalore\",\"Bangalore\",\"Bangalore\",\"Bangalore\",\"Bangalore\",\"Bangalore\",\"Bangalore\",\"Bangalore\",\"Bangalore\",\"Bangalore\",\"Bangalore\",\"Bangalore\",\"Bangalore\",\"Bangalore\",\"Bangalore\",\"Bangalore\",\"Bangalore\",\"Bangalore\",\"Bangalore\",\"Bangalore\",\"Bangalore\",\"Bangalore\",\"Bangalore\",\"Bangalore\",\"Bangalore\",\"Bangalore\",\"Bangalore\",\"Bangalore\",\"Bangalore\",\"Bangalore\",\"Bangalore\",\"Bangalore\",\"Bangalore\",\"Bangalore\",\"Bangalore\",\"Bangalore\",\"Bangalore\",\"Bangalore\",\"Bangalore\",\"Bangalore\",\"Bangalore\",\"Bangalore\",\"Bangalore\",\"Bangalore\",\"Bangalore\",\"Bangalore\",\"Bangalore\",\"Bangalore\",\"Bangalore\",\"Bangalore\",\"Bangalore\",\"Bangalore\",\"Bangalore\",\"Bangalore\",\"Bangalore\",\"Bangalore\",\"Bangalore\",\"Bangalore\",\"Bangalore\",\"Bangalore\",\"Bangalore\",\"Bangalore\",\"Bangalore\",\"Bangalore\",\"Bangalore\",\"Bangalore\",\"Bangalore\",\"Bangalore\",\"Bangalore\",\"Bangalore\",\"Bangalore\",\"Bangalore\",\"Bangalore\",\"Bangalore\",\"Bangalore\",\"Bangalore\",\"Bangalore\",\"Bangalore\",\"Bangalore\",\"Bangalore\",\"Bangalore\",\"Bangalore\",\"Bangalore\",\"Bangalore\",\"Bangalore\",\"Bangalore\",\"Bangalore\",\"Bangalore\",\"Bangalore\",\"Bangalore\",\"Bangalore\",\"Bangalore\",\"Bangalore\",\"Bangalore\",\"Bangalore\",\"Bangalore\",\"Bangalore\",\"Bangalore\",\"Bangalore\",\"Bangalore\",\"Bangalore\",\"Bangalore\",\"Bangalore\",\"Bangalore\",\"Bangalore\",\"Bangalore\",\"Bangalore\",\"Bangalore\",\"Bangalore\",\"Bangalore\",\"Bangalore\",\"Bangalore\",\"Bangalore\",\"Bangalore\",\"Bangalore\",\"Bangalore\",\"Bangalore\",\"Bangalore\",\"Bangalore\",\"Bangalore\",\"Bangalore\",\"Bangalore\",\"Bangalore\",\"Bangalore\",\"Bangalore\",\"Bangalore\",\"Bangalore\",\"Bangalore\",\"Bangalore\",\"Bangalore\",\"Bangalore\",\"Bangalore\",\"Bangalore\",\"Bangalore\",\"Bangalore\",\"Bangalore\",\"Bangalore\",\"Bangalore\",\"Bangalore\",\"Bangalore\",\"Bangalore\",\"Bangalore\",\"Bangalore\",\"Bangalore\",\"Bangalore\",\"Bangalore\",\"Bangalore\",\"Bangalore\",\"Bangalore\",\"Bangalore\",\"Bangalore\",\"Bangalore\",\"Bangalore\",\"Bangalore\",\"Bangalore\",\"Bangalore\",\"Bangalore\",\"Bangalore\",\"Bangalore\",\"Bangalore\",\"Bangalore\",\"Bangalore\",\"Bangalore\",\"Bangalore\",\"Bangalore\",\"Bangalore\",\"Bangalore\",\"Bangalore\",\"Bangalore\",\"Bangalore\",\"Bangalore\",\"Bangalore\",\"Bangalore\",\"Bangalore\",\"Bangalore\",\"Bangalore\",\"Bangalore\",\"Bangalore\",\"Bangalore\",\"Bangalore\",\"Bangalore\",\"Bangalore\",\"Bangalore\",\"Bangalore\",\"Bangalore\",\"Bangalore\",\"Bangalore\",\"Bangalore\",\"Bangalore\",\"Bangalore\",\"Bangalore\",\"Bangalore\",\"Bangalore\",\"Bangalore\",\"Bangalore\",\"Bangalore\",\"Bangalore\",\"Bangalore\",\"Bangalore\",\"Bangalore\",\"Bangalore\",\"Bangalore\",\"Bangalore\",\"Bangalore\",\"Bangalore\",\"Bangalore\",\"Bangalore\",\"Bangalore\",\"Bangalore\",\"Bangalore\",\"Bangalore\",\"Bangalore\",\"Bangalore\",\"Bangalore\",\"Bangalore\",\"Bangalore\",\"Bangalore\",\"Bangalore\",\"Bangalore\",\"Bangalore\",\"Bangalore\",\"Bangalore\",\"Bangalore\",\"Bangalore\",\"Bangalore\",\"Bangalore\",\"Bangalore\",\"Bangalore\",\"Bangalore\",\"Bangalore\",\"Bangalore\",\"Bangalore\",\"Bangalore\",\"Bangalore\",\"Bangalore\",\"Bangalore\",\"Bangalore\",\"Bangalore\",\"Bangalore\",\"Bangalore\",\"Bangalore\",\"Bangalore\",\"Bangalore\",\"Bangalore\",\"Bangalore\",\"Bangalore\",\"Bangalore\",\"Bangalore\",\"Bangalore\",\"Bangalore\",\"Bangalore\",\"Bangalore\",\"Bangalore\",\"Bangalore\",\"Bangalore\",\"Bangalore\",\"Bangalore\",\"Bangalore\",\"Bangalore\",\"Bangalore\",\"Bangalore\",\"Bangalore\",\"Bangalore\",\"Bangalore\",\"Bangalore\",\"Bangalore\",\"Bangalore\",\"Bangalore\",\"Bangalore\",\"Bangalore\",\"Bangalore\",\"Bangalore\",\"Bangalore\",\"Bangalore\",\"Bangalore\",\"Bangalore\",\"Bangalore\",\"Bangalore\",\"Bangalore\",\"Bangalore\",\"Bangalore\",\"Bangalore\",\"Bangalore\",\"Bangalore\",\"Bangalore\",\"Bangalore\",\"Bangalore\",\"Bangalore\",\"Bangalore\",\"Bangalore\",\"Bangalore\",\"Bangalore\",\"Bangalore\",\"Bangalore\",\"Bangalore\",\"Bangalore\",\"Bangalore\",\"Bangalore\",\"Bangalore\",\"Bangalore\",\"Bangalore\",\"Bangalore\",\"Bangalore\",\"Bangalore\",\"Bangalore\",\"Bangalore\",\"Bangalore\",\"Bangalore\",\"Bangalore\",\"Bangalore\",\"Bangalore\",\"Bangalore\",\"Bangalore\",\"Bangalore\",\"Bangalore\",\"Bangalore\",\"Bangalore\",\"Bangalore\",\"Bangalore\",\"Bangalore\",\"Bangalore\",\"Bangalore\",\"Bangalore\",\"Bangalore\",\"Bangalore\",\"Bangalore\",\"Bangalore\",\"Bangalore\",\"Bangalore\",\"Bangalore\",\"Bangalore\",\"Bangalore\",\"Bangalore\",\"Bangalore\",\"Bangalore\",\"Bangalore\",\"Bangalore\",\"Bangalore\",\"Bangalore\",\"Bangalore\",\"Bangalore\",\"Bangalore\",\"Bangalore\",\"Bangalore\",\"Bangalore\",\"Bangalore\",\"Bangalore\",\"Bangalore\",\"Bangalore\",\"Bangalore\",\"Bangalore\",\"Bangalore\",\"Bangalore\",\"Bangalore\",\"Bangalore\",\"Bangalore\",\"Bangalore\",\"Bangalore\",\"Bangalore\",\"Bangalore\",\"Bangalore\",\"Bangalore\",\"Bangalore\",\"Bangalore\",\"Bangalore\",\"Bangalore\",\"Bangalore\",\"Bangalore\",\"Bangalore\",\"Bangalore\",\"Bangalore\",\"Bangalore\",\"Bangalore\",\"Bangalore\",\"Bangalore\",\"Bangalore\",\"Bangalore\",\"Bangalore\",\"Bangalore\",\"Bangalore\",\"Bangalore\",\"Bangalore\",\"Bangalore\",\"Bangalore\",\"Bangalore\",\"Bangalore\",\"Bangalore\",\"Bangalore\",\"Bangalore\",\"Bangalore\",\"Bangalore\",\"Bangalore\",\"Bangalore\",\"Bangalore\",\"Bangalore\",\"Bangalore\",\"Bangalore\",\"Bangalore\",\"Bangalore\",\"Bangalore\",\"Bangalore\",\"Bangalore\",\"Bangalore\",\"Bangalore\",\"Bangalore\",\"Bangalore\",\"Bangalore\",\"Bangalore\",\"Bangalore\",\"Bangalore\",\"Bangalore\",\"Bangalore\",\"Bangalore\",\"Bangalore\",\"Bangalore\",\"Bangalore\",\"Bangalore\",\"Bangalore\",\"Bangalore\",\"Bangalore\",\"Bangalore\",\"Bangalore\",\"Bangalore\",\"Bangalore\",\"Bangalore\",\"Bangalore\",\"Bangalore\",\"Bangalore\",\"Bangalore\",\"Bangalore\",\"Bangalore\",\"Bangalore\",\"Bangalore\",\"Bangalore\",\"Bangalore\",\"Bangalore\",\"Bangalore\",\"Bangalore\",\"Bangalore\",\"Bangalore\",\"Bangalore\",\"Bangalore\",\"Bangalore\",\"Bangalore\",\"Bangalore\",\"Bangalore\",\"Bangalore\",\"Bangalore\",\"Bangalore\",\"Bangalore\",\"Bangalore\",\"Bangalore\",\"Bangalore\",\"Bangalore\",\"Bangalore\",\"Bangalore\",\"Bangalore\",\"Bangalore\",\"Bangalore\",\"Bangalore\",\"Bangalore\",\"Bangalore\",\"Bangalore\",\"Bangalore\",\"Bangalore\",\"Bangalore\",\"Bangalore\",\"Bangalore\",\"Bangalore\",\"Bangalore\",\"Bangalore\",\"Bangalore\",\"Bangalore\",\"Bangalore\",\"Bangalore\",\"Bangalore\",\"Bangalore\",\"Bangalore\",\"Bangalore\",\"Bangalore\",\"Bangalore\",\"Bangalore\",\"Bangalore\",\"Bangalore\",\"Bangalore\",\"Bangalore\",\"Bangalore\",\"Bangalore\",\"Bangalore\",\"Bangalore\",\"Bangalore\",\"Bangalore\",\"Bangalore\",\"Bangalore\",\"Bangalore\",\"Bangalore\",\"Bangalore\",\"Bangalore\",\"Bangalore\",\"Bangalore\",\"Bangalore\",\"Bangalore\",\"Bangalore\",\"Bangalore\",\"Bangalore\",\"Bangalore\",\"Bangalore\",\"Bangalore\",\"Bangalore\",\"Bangalore\",\"Bangalore\",\"Bangalore\",\"Bangalore\",\"Bangalore\",\"Bangalore\",\"Bangalore\",\"Bangalore\",\"Bangalore\",\"Bangalore\",\"Bangalore\",\"Bangalore\",\"Bangalore\",\"Bangalore\",\"Bangalore\",\"Bangalore\",\"Bangalore\",\"Bangalore\",\"Bangalore\",\"Bangalore\",\"Bangalore\",\"Bangalore\",\"Bangalore\",\"Bangalore\",\"Bangalore\",\"Bangalore\",\"Bangalore\",\"Bangalore\",\"Bangalore\",\"Bangalore\",\"Bangalore\",\"Bangalore\",\"Bangalore\",\"Bangalore\",\"Bangalore\",\"Bangalore\",\"Bangalore\",\"Bangalore\",\"Bangalore\",\"Bangalore\",\"Bangalore\",\"Bangalore\",\"Bangalore\",\"Bangalore\",\"Bangalore\",\"Bangalore\",\"Bangalore\",\"Bangalore\",\"Bangalore\",\"Bangalore\",\"Bangalore\",\"Bangalore\",\"Bangalore\",\"Bangalore\",\"Bangalore\",\"Bangalore\",\"Bangalore\",\"Bangalore\",\"Bangalore\",\"Bangalore\",\"Bangalore\",\"Bangalore\",\"Bangalore\",\"Bangalore\",\"Bangalore\",\"Bangalore\",\"Bangalore\",\"Bangalore\",\"Bangalore\",\"Bangalore\",\"Bangalore\",\"Bangalore\",\"Bangalore\",\"Bangalore\",\"Bangalore\",\"Bangalore\",\"Bangalore\",\"Bangalore\",\"Bangalore\",\"Bangalore\",\"Bangalore\",\"Bangalore\",\"Bangalore\",\"Bangalore\",\"Bangalore\",\"Bangalore\",\"Bangalore\",\"Bangalore\",\"Bangalore\",\"Bangalore\",\"Bangalore\",\"Bangalore\",\"Bangalore\",\"Bangalore\",\"Bangalore\",\"Bangalore\",\"Bangalore\",\"Bangalore\",\"Bangalore\",\"Bangalore\",\"Bangalore\",\"Bangalore\",\"Bangalore\",\"Bangalore\",\"Bangalore\",\"Bangalore\",\"Bangalore\",\"Bangalore\",\"Bangalore\",\"Bangalore\",\"Bangalore\",\"Bangalore\",\"Bangalore\",\"Bangalore\",\"Bangalore\",\"Bangalore\",\"Bangalore\",\"Bangalore\",\"Bangalore\",\"Bangalore\",\"Bangalore\",\"Bangalore\",\"Bangalore\",\"Bangalore\",\"Bangalore\",\"Bangalore\",\"Bangalore\",\"Bangalore\",\"Bangalore\",\"Bangalore\",\"Bangalore\",\"Bangalore\",\"Bangalore\",\"Bangalore\",\"Bangalore\",\"Bangalore\",\"Bangalore\",\"Bangalore\",\"Bangalore\",\"Bangalore\",\"Bangalore\",\"Bangalore\",\"Bangalore\",\"Bangalore\",\"Bangalore\",\"Bangalore\",\"Bangalore\",\"Bangalore\",\"Bangalore\",\"Bangalore\",\"Bangalore\",\"Bangalore\",\"Bangalore\",\"Bangalore\",\"Bangalore\",\"Bangalore\",\"Bangalore\",\"Bangalore\",\"Bangalore\",\"Bangalore\",\"Bangalore\",\"Bangalore\",\"Bangalore\",\"Bangalore\",\"Bangalore\",\"Bangalore\",\"Bangalore\",\"Bangalore\",\"Bangalore\",\"Bangalore\",\"Bangalore\",\"Bangalore\",\"Bangalore\",\"Bangalore\",\"Bangalore\",\"Bangalore\",\"Bangalore\",\"Bangalore\",\"Bangalore\",\"Bangalore\",\"Bangalore\",\"Bangalore\",\"Bangalore\",\"Bangalore\",\"Bangalore\",\"Bangalore\",\"Bangalore\",\"Bangalore\",\"Bangalore\",\"Bangalore\",\"Bangalore\",\"Bangalore\",\"Bangalore\",\"Bangalore\",\"Bangalore\",\"Bangalore\",\"Bangalore\",\"Bangalore\",\"Bangalore\",\"Bangalore\",\"Bangalore\",\"Delhi\",\"Delhi\",\"Delhi\",\"Delhi\",\"Delhi\",\"Delhi\",\"Delhi\",\"Delhi\",\"Delhi\",\"Delhi\",\"Delhi\",\"Delhi\",\"Delhi\",\"Delhi\",\"Delhi\",\"Delhi\",\"Delhi\",\"Delhi\",\"Delhi\",\"Delhi\",\"Delhi\",\"Delhi\",\"Delhi\",\"Delhi\",\"Delhi\",\"Delhi\",\"Delhi\",\"Delhi\",\"Delhi\",\"Delhi\",\"Delhi\",\"Delhi\",\"Delhi\",\"Delhi\",\"Delhi\",\"Delhi\",\"Delhi\",\"Delhi\",\"Delhi\",\"Delhi\",\"Delhi\",\"Delhi\",\"Delhi\",\"Delhi\",\"Delhi\",\"Delhi\",\"Delhi\",\"Delhi\",\"Delhi\",\"Delhi\",\"Delhi\",\"Delhi\",\"Delhi\",\"Delhi\",\"Delhi\",\"Delhi\",\"Delhi\",\"Delhi\",\"Delhi\",\"Delhi\",\"Delhi\",\"Delhi\",\"Delhi\",\"Delhi\",\"Delhi\",\"Delhi\",\"Delhi\",\"Delhi\",\"Delhi\",\"Delhi\",\"Delhi\",\"Delhi\",\"Delhi\",\"Delhi\",\"Delhi\",\"Delhi\",\"Delhi\",\"Delhi\",\"Delhi\",\"Delhi\",\"Delhi\",\"Delhi\",\"Delhi\",\"Delhi\",\"Delhi\",\"Delhi\",\"Delhi\",\"Delhi\",\"Delhi\",\"Delhi\",\"Delhi\",\"Delhi\",\"Delhi\",\"Delhi\",\"Delhi\",\"Delhi\",\"Delhi\",\"Delhi\",\"Delhi\",\"Delhi\",\"Delhi\",\"Delhi\",\"Delhi\",\"Delhi\",\"Delhi\",\"Delhi\",\"Delhi\",\"Delhi\",\"Delhi\",\"Delhi\",\"Delhi\",\"Delhi\",\"Delhi\",\"Delhi\",\"Delhi\",\"Delhi\",\"Delhi\",\"Delhi\",\"Delhi\",\"Delhi\",\"Delhi\",\"Delhi\",\"Delhi\",\"Delhi\",\"Delhi\",\"Delhi\",\"Delhi\",\"Delhi\",\"Delhi\",\"Delhi\",\"Delhi\",\"Delhi\",\"Delhi\",\"Delhi\",\"Delhi\",\"Delhi\",\"Delhi\",\"Delhi\",\"Delhi\",\"Delhi\",\"Delhi\",\"Delhi\",\"Delhi\",\"Delhi\",\"Delhi\",\"Delhi\",\"Delhi\",\"Delhi\",\"Delhi\",\"Delhi\",\"Delhi\",\"Delhi\",\"Delhi\",\"Delhi\",\"Delhi\",\"Delhi\",\"Delhi\",\"Delhi\",\"Delhi\",\"Delhi\",\"Delhi\",\"Delhi\",\"Delhi\",\"Delhi\",\"Delhi\",\"Delhi\",\"Delhi\",\"Delhi\",\"Delhi\",\"Delhi\",\"Delhi\",\"Delhi\",\"Delhi\",\"Delhi\",\"Delhi\",\"Delhi\",\"Delhi\",\"Delhi\",\"Delhi\",\"Delhi\",\"Delhi\",\"Delhi\",\"Delhi\",\"Delhi\",\"Delhi\",\"Delhi\",\"Delhi\",\"Delhi\",\"Delhi\",\"Delhi\",\"Delhi\",\"Delhi\",\"Delhi\",\"Delhi\",\"Delhi\",\"Delhi\",\"Delhi\",\"Delhi\",\"Delhi\",\"Delhi\",\"Delhi\",\"Delhi\",\"Delhi\",\"Delhi\",\"Delhi\",\"Delhi\",\"Delhi\",\"Delhi\",\"Delhi\",\"Delhi\",\"Delhi\",\"Delhi\",\"Delhi\",\"Delhi\",\"Delhi\",\"Delhi\",\"Delhi\",\"Delhi\",\"Delhi\",\"Delhi\",\"Delhi\",\"Delhi\",\"Delhi\",\"Delhi\",\"Delhi\",\"Delhi\",\"Delhi\",\"Delhi\",\"Delhi\",\"Delhi\",\"Delhi\",\"Delhi\",\"Delhi\",\"Delhi\",\"Delhi\",\"Delhi\",\"Delhi\",\"Delhi\",\"Delhi\",\"Delhi\",\"Delhi\",\"Delhi\",\"Delhi\",\"Delhi\",\"Delhi\",\"Delhi\",\"Delhi\",\"Delhi\",\"Delhi\",\"Delhi\",\"Delhi\",\"Delhi\",\"Delhi\",\"Delhi\",\"Delhi\",\"Delhi\",\"Delhi\",\"Delhi\",\"Delhi\",\"Delhi\",\"Delhi\",\"Delhi\",\"Delhi\",\"Delhi\",\"Delhi\",\"Delhi\",\"Delhi\",\"Delhi\",\"Delhi\",\"Delhi\",\"Delhi\",\"Delhi\",\"Delhi\",\"Delhi\",\"Delhi\",\"Delhi\",\"Delhi\",\"Delhi\",\"Delhi\",\"Delhi\",\"Delhi\",\"Delhi\",\"Delhi\",\"Delhi\",\"Delhi\",\"Delhi\",\"Delhi\",\"Delhi\",\"Delhi\",\"Delhi\",\"Delhi\",\"Delhi\",\"Delhi\",\"Delhi\",\"Delhi\",\"Delhi\",\"Delhi\",\"Delhi\",\"Delhi\",\"Delhi\",\"Delhi\",\"Delhi\",\"Delhi\",\"Delhi\",\"Delhi\",\"Delhi\",\"Delhi\",\"Delhi\",\"Delhi\",\"Delhi\",\"Delhi\",\"Delhi\",\"Delhi\",\"Delhi\",\"Delhi\",\"Delhi\",\"Delhi\",\"Delhi\",\"Delhi\",\"Delhi\",\"Delhi\",\"Delhi\",\"Delhi\",\"Delhi\",\"Delhi\",\"Delhi\",\"Delhi\",\"Delhi\",\"Delhi\",\"Delhi\",\"Delhi\",\"Delhi\",\"Delhi\",\"Delhi\",\"Delhi\",\"Delhi\",\"Delhi\",\"Delhi\",\"Delhi\",\"Delhi\",\"Delhi\",\"Delhi\",\"Delhi\",\"Delhi\",\"Delhi\",\"Delhi\",\"Delhi\",\"Delhi\",\"Delhi\",\"Delhi\",\"Delhi\",\"Delhi\",\"Delhi\",\"Delhi\",\"Delhi\",\"Delhi\",\"Delhi\",\"Delhi\",\"Delhi\",\"Delhi\",\"Delhi\",\"Delhi\",\"Delhi\",\"Delhi\",\"Delhi\",\"Delhi\",\"Delhi\",\"Delhi\",\"Delhi\",\"Delhi\",\"Delhi\",\"Delhi\",\"Delhi\",\"Delhi\",\"Delhi\",\"Delhi\",\"Delhi\",\"Delhi\",\"Delhi\",\"Delhi\",\"Delhi\",\"Delhi\",\"Delhi\",\"Delhi\",\"Delhi\",\"Delhi\",\"Delhi\",\"Delhi\",\"Delhi\",\"Delhi\",\"Delhi\",\"Delhi\",\"Delhi\",\"Delhi\",\"Delhi\",\"Delhi\",\"Delhi\",\"Delhi\",\"Delhi\",\"Delhi\",\"Delhi\",\"Delhi\",\"Delhi\",\"Delhi\",\"Delhi\",\"Delhi\",\"Delhi\",\"Delhi\",\"Delhi\",\"Delhi\",\"Delhi\",\"Delhi\",\"Delhi\",\"Delhi\",\"Delhi\",\"Delhi\",\"Delhi\",\"Delhi\",\"Delhi\",\"Delhi\",\"Delhi\",\"Delhi\",\"Delhi\",\"Delhi\",\"Delhi\",\"Delhi\",\"Delhi\",\"Delhi\",\"Delhi\",\"Delhi\",\"Delhi\",\"Delhi\",\"Delhi\",\"Delhi\",\"Delhi\",\"Delhi\",\"Delhi\",\"Delhi\",\"Delhi\",\"Delhi\",\"Delhi\",\"Delhi\",\"Delhi\",\"Delhi\",\"Delhi\",\"Delhi\",\"Delhi\",\"Delhi\",\"Delhi\",\"Delhi\",\"Delhi\",\"Delhi\",\"Delhi\",\"Delhi\",\"Delhi\",\"Delhi\",\"Delhi\",\"Delhi\",\"Delhi\",\"Delhi\",\"Delhi\",\"Delhi\",\"Delhi\",\"Delhi\",\"Delhi\",\"Delhi\",\"Delhi\",\"Delhi\",\"Delhi\",\"Delhi\",\"Delhi\",\"Delhi\",\"Delhi\",\"Delhi\",\"Delhi\",\"Delhi\",\"Delhi\",\"Delhi\",\"Delhi\",\"Delhi\",\"Delhi\",\"Delhi\",\"Delhi\",\"Delhi\",\"Delhi\",\"Delhi\",\"Delhi\",\"Delhi\",\"Delhi\",\"Delhi\",\"Delhi\",\"Delhi\",\"Delhi\",\"Delhi\",\"Delhi\",\"Delhi\",\"Delhi\",\"Delhi\",\"Delhi\",\"Delhi\",\"Delhi\",\"Delhi\",\"Delhi\",\"Delhi\",\"Delhi\",\"Delhi\",\"Delhi\",\"Delhi\",\"Delhi\",\"Delhi\",\"Delhi\",\"Delhi\",\"Delhi\",\"Delhi\",\"Delhi\",\"Delhi\",\"Delhi\",\"Delhi\",\"Delhi\",\"Delhi\",\"Delhi\",\"Delhi\",\"Delhi\",\"Delhi\",\"Delhi\",\"Delhi\",\"Delhi\",\"Delhi\",\"Delhi\",\"Delhi\",\"Delhi\",\"Delhi\",\"Delhi\",\"Delhi\",\"Delhi\",\"Delhi\",\"Delhi\",\"Delhi\",\"Delhi\",\"Delhi\",\"Delhi\",\"Delhi\",\"Delhi\",\"Delhi\",\"Delhi\",\"Delhi\",\"Delhi\",\"Delhi\",\"Delhi\",\"Delhi\",\"Delhi\",\"Delhi\",\"Delhi\",\"Delhi\",\"Delhi\",\"Delhi\",\"Delhi\",\"Delhi\",\"Delhi\",\"Delhi\",\"Delhi\",\"Delhi\",\"Delhi\",\"Delhi\",\"Delhi\",\"Delhi\",\"Delhi\",\"Delhi\",\"Delhi\",\"Delhi\",\"Delhi\",\"Delhi\",\"Delhi\",\"Delhi\",\"Delhi\",\"Delhi\",\"Delhi\",\"Delhi\",\"Delhi\",\"Delhi\",\"Delhi\",\"Delhi\",\"Delhi\",\"Delhi\",\"Delhi\",\"Delhi\",\"Delhi\",\"Delhi\",\"Delhi\",\"Delhi\",\"Delhi\",\"Delhi\",\"Delhi\",\"Delhi\",\"Delhi\",\"Delhi\",\"Delhi\",\"Delhi\",\"Delhi\",\"Delhi\",\"Delhi\",\"Delhi\",\"Delhi\",\"Delhi\",\"Delhi\",\"Chennai\",\"Chennai\",\"Chennai\",\"Chennai\",\"Chennai\",\"Chennai\",\"Chennai\",\"Chennai\",\"Chennai\",\"Chennai\",\"Chennai\",\"Chennai\",\"Chennai\",\"Chennai\",\"Chennai\",\"Chennai\",\"Chennai\",\"Chennai\",\"Chennai\",\"Chennai\",\"Chennai\",\"Chennai\",\"Chennai\",\"Chennai\",\"Chennai\",\"Chennai\",\"Chennai\",\"Chennai\",\"Chennai\",\"Chennai\",\"Chennai\",\"Chennai\",\"Chennai\",\"Chennai\",\"Chennai\",\"Chennai\",\"Chennai\",\"Chennai\",\"Chennai\",\"Chennai\",\"Chennai\",\"Chennai\",\"Chennai\",\"Chennai\",\"Chennai\",\"Chennai\",\"Chennai\",\"Chennai\",\"Chennai\",\"Chennai\",\"Chennai\",\"Chennai\",\"Chennai\",\"Chennai\",\"Chennai\",\"Chennai\",\"Chennai\",\"Chennai\",\"Chennai\",\"Chennai\",\"Chennai\",\"Chennai\",\"Chennai\",\"Chennai\",\"Chennai\",\"Chennai\",\"Chennai\",\"Chennai\",\"Chennai\",\"Chennai\",\"Chennai\",\"Chennai\",\"Chennai\",\"Chennai\",\"Chennai\",\"Chennai\",\"Chennai\",\"Chennai\",\"Chennai\",\"Chennai\",\"Chennai\",\"Chennai\",\"Chennai\",\"Chennai\",\"Chennai\",\"Chennai\",\"Chennai\",\"Chennai\",\"Chennai\",\"Chennai\",\"Chennai\",\"Chennai\",\"Chennai\",\"Chennai\",\"Chennai\",\"Chennai\",\"Chennai\",\"Chennai\",\"Chennai\",\"Chennai\",\"Chennai\",\"Chennai\",\"Chennai\",\"Chennai\",\"Chennai\",\"Chennai\",\"Chennai\",\"Chennai\",\"Chennai\",\"Chennai\",\"Chennai\",\"Chennai\",\"Chennai\",\"Chennai\",\"Chennai\",\"Chennai\",\"Chennai\",\"Chennai\",\"Chennai\",\"Chennai\",\"Chennai\",\"Chennai\",\"Chennai\",\"Chennai\",\"Chennai\",\"Chennai\",\"Chennai\",\"Chennai\",\"Chennai\",\"Chennai\",\"Chennai\",\"Chennai\",\"Chennai\",\"Chennai\",\"Chennai\",\"Chennai\",\"Chennai\",\"Chennai\",\"Chennai\",\"Chennai\",\"Chennai\",\"Chennai\",\"Chennai\",\"Chennai\",\"Chennai\",\"Chennai\",\"Chennai\",\"Chennai\",\"Chennai\",\"Chennai\",\"Chennai\",\"Chennai\",\"Chennai\",\"Chennai\",\"Chennai\",\"Chennai\",\"Chennai\",\"Chennai\",\"Chennai\",\"Chennai\",\"Chennai\",\"Chennai\",\"Chennai\",\"Chennai\",\"Chennai\",\"Chennai\",\"Chennai\",\"Chennai\",\"Chennai\",\"Chennai\",\"Chennai\",\"Chennai\",\"Chennai\",\"Chennai\",\"Chennai\",\"Chennai\",\"Chennai\",\"Chennai\",\"Chennai\",\"Chennai\",\"Chennai\",\"Chennai\",\"Chennai\",\"Chennai\",\"Chennai\",\"Chennai\",\"Chennai\",\"Chennai\",\"Chennai\",\"Chennai\",\"Chennai\",\"Chennai\",\"Chennai\",\"Chennai\",\"Chennai\",\"Chennai\",\"Chennai\",\"Chennai\",\"Chennai\",\"Chennai\",\"Chennai\",\"Chennai\",\"Chennai\",\"Chennai\",\"Chennai\",\"Chennai\",\"Chennai\",\"Chennai\",\"Chennai\",\"Chennai\",\"Chennai\",\"Chennai\",\"Chennai\",\"Chennai\",\"Chennai\",\"Chennai\",\"Chennai\",\"Chennai\",\"Chennai\",\"Chennai\",\"Chennai\",\"Chennai\",\"Chennai\",\"Chennai\",\"Chennai\",\"Chennai\",\"Chennai\",\"Chennai\",\"Chennai\",\"Chennai\",\"Chennai\",\"Chennai\",\"Chennai\",\"Chennai\",\"Chennai\",\"Chennai\",\"Chennai\",\"Chennai\",\"Chennai\",\"Chennai\",\"Chennai\",\"Chennai\",\"Chennai\",\"Chennai\",\"Chennai\",\"Chennai\",\"Chennai\",\"Chennai\",\"Chennai\",\"Chennai\",\"Chennai\",\"Chennai\",\"Chennai\",\"Chennai\",\"Chennai\",\"Chennai\",\"Chennai\",\"Chennai\",\"Chennai\",\"Chennai\",\"Chennai\",\"Chennai\",\"Chennai\",\"Chennai\",\"Chennai\",\"Chennai\",\"Chennai\",\"Chennai\",\"Chennai\",\"Chennai\",\"Chennai\",\"Chennai\",\"Chennai\",\"Chennai\",\"Chennai\",\"Chennai\",\"Chennai\",\"Chennai\",\"Chennai\",\"Chennai\",\"Chennai\",\"Chennai\",\"Chennai\",\"Chennai\",\"Chennai\",\"Chennai\",\"Chennai\",\"Chennai\",\"Chennai\",\"Chennai\",\"Chennai\",\"Chennai\",\"Chennai\",\"Chennai\",\"Chennai\",\"Chennai\",\"Chennai\",\"Chennai\",\"Chennai\",\"Chennai\",\"Chennai\",\"Chennai\",\"Chennai\",\"Chennai\",\"Chennai\",\"Chennai\",\"Chennai\",\"Chennai\",\"Chennai\",\"Chennai\",\"Chennai\",\"Chennai\",\"Chennai\",\"Chennai\",\"Chennai\",\"Chennai\",\"Chennai\",\"Chennai\",\"Chennai\",\"Chennai\",\"Chennai\",\"Chennai\",\"Chennai\",\"Chennai\",\"Chennai\",\"Chennai\",\"Chennai\",\"Chennai\",\"Chennai\",\"Chennai\",\"Chennai\",\"Chennai\",\"Chennai\",\"Chennai\",\"Chennai\",\"Chennai\",\"Chennai\",\"Chennai\",\"Chennai\",\"Chennai\",\"Chennai\",\"Chennai\",\"Chennai\",\"Chennai\",\"Chennai\",\"Chennai\",\"Chennai\",\"Chennai\",\"Chennai\",\"Chennai\",\"Chennai\",\"Chennai\",\"Chennai\",\"Chennai\",\"Chennai\",\"Chennai\",\"Chennai\",\"Chennai\",\"Chennai\",\"Chennai\",\"Chennai\",\"Chennai\",\"Chennai\",\"Chennai\",\"Chennai\",\"Chennai\",\"Chennai\",\"Chennai\",\"Chennai\",\"Chennai\",\"Chennai\",\"Chennai\",\"Chennai\",\"Chennai\",\"Chennai\",\"Chennai\",\"Chennai\",\"Chennai\",\"Chennai\",\"Chennai\",\"Chennai\",\"Chennai\",\"Chennai\",\"Chennai\",\"Chennai\",\"Chennai\",\"Chennai\",\"Chennai\",\"Chennai\",\"Chennai\",\"Chennai\",\"Chennai\",\"Chennai\",\"Chennai\",\"Chennai\",\"Chennai\",\"Chennai\",\"Chennai\",\"Chennai\",\"Chennai\",\"Chennai\",\"Chennai\",\"Chennai\",\"Chennai\",\"Chennai\",\"Chennai\",\"Chennai\",\"Chennai\",\"Chennai\",\"Chennai\",\"Chennai\",\"Chennai\",\"Chennai\",\"Chennai\",\"Chennai\",\"Chennai\",\"Chennai\",\"Chennai\",\"Chennai\",\"Chennai\",\"Chennai\",\"Chennai\",\"Chennai\",\"Chennai\",\"Chennai\",\"Chennai\",\"Chennai\",\"Chennai\",\"Chennai\",\"Chennai\",\"Chennai\",\"Chennai\",\"Chennai\",\"Chennai\",\"Chennai\",\"Chennai\",\"Chennai\",\"Chennai\",\"Chennai\",\"Chennai\",\"Chennai\",\"Chennai\",\"Chennai\",\"Chennai\",\"Chennai\",\"Chennai\",\"Chennai\",\"Chennai\",\"Chennai\",\"Chennai\",\"Chennai\",\"Chennai\",\"Chennai\",\"Chennai\",\"Chennai\",\"Chennai\",\"Chennai\",\"Chennai\",\"Chennai\",\"Chennai\",\"Chennai\",\"Chennai\",\"Chennai\",\"Chennai\",\"Chennai\",\"Chennai\",\"Chennai\",\"Chennai\",\"Chennai\",\"Chennai\",\"Chennai\",\"Chennai\",\"Chennai\",\"Chennai\",\"Chennai\",\"Chennai\",\"Chennai\",\"Chennai\",\"Chennai\",\"Chennai\",\"Chennai\",\"Chennai\",\"Chennai\",\"Chennai\",\"Chennai\",\"Chennai\",\"Chennai\",\"Chennai\",\"Chennai\",\"Chennai\",\"Chennai\",\"Chennai\",\"Chennai\",\"Chennai\",\"Chennai\",\"Chennai\",\"Chennai\",\"Chennai\",\"Chennai\",\"Chennai\",\"Chennai\",\"Chennai\",\"Chennai\",\"Chennai\",\"Chennai\",\"Chennai\",\"Chennai\",\"Chennai\",\"Chennai\",\"Chennai\",\"Chennai\",\"Chennai\",\"Chennai\",\"Chennai\",\"Chennai\",\"Chennai\",\"Chennai\",\"Chennai\",\"Chennai\",\"Chennai\",\"Chennai\",\"Chennai\",\"Chennai\",\"Chennai\",\"Chennai\",\"Chennai\",\"Chennai\",\"Chennai\",\"Chennai\",\"Chennai\",\"Chennai\",\"Chennai\",\"Chennai\",\"Chennai\",\"Chennai\",\"Chennai\",\"Chennai\",\"Chennai\",\"Chennai\",\"Chennai\",\"Chennai\",\"Chennai\",\"Chennai\",\"Chennai\",\"Chennai\",\"Chennai\",\"Chennai\",\"Chennai\",\"Chennai\",\"Chennai\",\"Chennai\",\"Chennai\",\"Chennai\",\"Chennai\",\"Chennai\",\"Chennai\",\"Chennai\",\"Chennai\",\"Chennai\",\"Chennai\",\"Chennai\",\"Chennai\",\"Chennai\",\"Chennai\",\"Chennai\",\"Chennai\",\"Chennai\",\"Chennai\",\"Chennai\",\"Chennai\",\"Chennai\",\"Chennai\",\"Chennai\",\"Chennai\",\"Chennai\",\"Chennai\",\"Chennai\",\"Chennai\",\"Chennai\",\"Chennai\",\"Chennai\",\"Chennai\",\"Chennai\",\"Chennai\",\"Chennai\",\"Chennai\",\"Chennai\",\"Chennai\",\"Chennai\",\"Chennai\",\"Chennai\",\"Chennai\",\"Chennai\",\"Chennai\",\"Chennai\",\"Chennai\",\"Chennai\",\"Chennai\",\"Chennai\",\"Chennai\",\"Chennai\",\"Chennai\",\"Chennai\",\"Chennai\",\"Chennai\",\"Chennai\",\"Chennai\",\"Chennai\",\"Chennai\",\"Chennai\",\"Chennai\",\"Chennai\",\"Chennai\",\"Chennai\",\"Chennai\",\"Chennai\",\"Chennai\",\"Chennai\",\"Chennai\",\"Chennai\",\"Chennai\",\"Chennai\",\"Chennai\",\"Chennai\",\"Chennai\",\"Chennai\",\"Chennai\",\"Chennai\",\"Chennai\",\"Chennai\",\"Chennai\",\"Chennai\",\"Chennai\",\"Chennai\",\"Chennai\",\"Chennai\",\"Chennai\",\"Chennai\",\"Chennai\",\"Chennai\",\"Chennai\",\"Chennai\",\"Chennai\",\"Chennai\",\"Chennai\",\"Chennai\",\"Chennai\",\"Chennai\",\"Chennai\",\"Chennai\",\"Chennai\",\"Chennai\",\"Chennai\",\"Chennai\",\"Chennai\",\"Chennai\",\"Chennai\",\"Chennai\",\"Chennai\",\"Chennai\",\"Chennai\",\"Chennai\",\"Chennai\",\"Chennai\",\"Chennai\",\"Chennai\",\"Chennai\",\"Chennai\",\"Chennai\",\"Chennai\",\"Chennai\",\"Chennai\",\"Chennai\",\"Chennai\",\"Chennai\",\"Chennai\",\"Chennai\",\"Chennai\",\"Chennai\",\"Chennai\",\"Chennai\",\"Chennai\",\"Chennai\",\"Chennai\",\"Chennai\",\"Chennai\",\"Chennai\",\"Chennai\",\"Chennai\",\"Chennai\",\"Chennai\",\"Chennai\",\"Chennai\",\"Chennai\",\"Chennai\",\"Chennai\",\"Chennai\",\"Chennai\",\"Chennai\",\"Chennai\",\"Chennai\",\"Chennai\",\"Chennai\",\"Chennai\",\"Chennai\",\"Chennai\",\"Chennai\",\"Chennai\",\"Chennai\",\"Chennai\",\"Chennai\",\"Chennai\",\"Chennai\",\"Chennai\",\"Chennai\",\"Chennai\",\"Chennai\",\"Chennai\",\"Chennai\",\"Chennai\",\"Chennai\",\"Chennai\",\"Chennai\",\"Chennai\",\"Chennai\",\"Chennai\",\"Chennai\",\"Chennai\",\"Chennai\",\"Chennai\",\"Chennai\",\"Chennai\",\"Chennai\",\"Chennai\",\"Chennai\",\"Chennai\",\"Chennai\",\"Chennai\",\"Chennai\",\"Chennai\",\"Chennai\",\"Chennai\",\"Chennai\",\"Chennai\",\"Chennai\",\"Chennai\",\"Chennai\",\"Chennai\",\"Chennai\",\"Chennai\",\"Chennai\",\"Chennai\",\"Chennai\",\"Chennai\",\"Chennai\",\"Chennai\",\"Chennai\",\"Chennai\",\"Chennai\",\"Chennai\",\"Chennai\",\"Chennai\",\"Chennai\",\"Chennai\",\"Chennai\",\"Chennai\",\"Chennai\",\"Chennai\",\"Chennai\",\"Chennai\",\"Chennai\",\"Chennai\",\"Chennai\",\"Chennai\",\"Chennai\",\"Chennai\",\"Chennai\",\"Chennai\",\"Chennai\",\"Chennai\",\"Chennai\",\"Chennai\",\"Chennai\",\"Chennai\",\"Chennai\",\"Chennai\",\"Chennai\",\"Chennai\",\"Chennai\",\"Chennai\",\"Chennai\",\"Chennai\",\"Chennai\",\"Chennai\",\"Chennai\",\"Chennai\",\"Chennai\",\"Chennai\",\"Chennai\",\"Chennai\",\"Chennai\",\"Chennai\",\"Chennai\",\"Chennai\",\"Chennai\",\"Chennai\",\"Chennai\",\"Chennai\",\"Chennai\",\"Chennai\",\"Chennai\",\"Chennai\",\"Chennai\",\"Chennai\",\"Chennai\",\"Chennai\",\"Chennai\",\"Chennai\",\"Chennai\",\"Chennai\",\"Chennai\",\"Chennai\",\"Chennai\",\"Chennai\",\"Chennai\",\"Chennai\",\"Chennai\",\"Chennai\",\"Chennai\",\"Chennai\",\"Chennai\",\"Chennai\",\"Chennai\",\"Chennai\",\"Chennai\",\"Chennai\",\"Chennai\",\"Chennai\",\"Chennai\",\"Chennai\",\"Chennai\",\"Chennai\",\"Chennai\",\"Chennai\",\"Chennai\",\"Chennai\",\"Chennai\",\"Chennai\",\"Chennai\",\"Chennai\",\"Chennai\",\"Chennai\",\"Chennai\",\"Chennai\",\"Chennai\",\"Chennai\",\"Chennai\",\"Chennai\",\"Chennai\",\"Chennai\",\"Chennai\",\"Chennai\",\"Chennai\",\"Chennai\",\"Chennai\",\"Chennai\",\"Chennai\",\"Chennai\",\"Chennai\",\"Chennai\",\"Chennai\",\"Chennai\",\"Chennai\",\"Chennai\",\"Chennai\",\"Chennai\",\"Chennai\",\"Chennai\",\"Chennai\",\"Chennai\",\"Chennai\",\"Chennai\",\"Chennai\",\"Chennai\",\"Chennai\",\"Chennai\",\"Chennai\",\"Chennai\",\"Chennai\",\"Chennai\",\"Chennai\",\"Hyderabad\",\"Hyderabad\",\"Hyderabad\",\"Hyderabad\",\"Hyderabad\",\"Hyderabad\",\"Hyderabad\",\"Hyderabad\",\"Hyderabad\",\"Hyderabad\",\"Hyderabad\",\"Hyderabad\",\"Hyderabad\",\"Hyderabad\",\"Hyderabad\",\"Hyderabad\",\"Hyderabad\",\"Hyderabad\",\"Hyderabad\",\"Hyderabad\",\"Hyderabad\",\"Hyderabad\",\"Hyderabad\",\"Hyderabad\",\"Hyderabad\",\"Hyderabad\",\"Hyderabad\",\"Hyderabad\",\"Hyderabad\",\"Hyderabad\",\"Hyderabad\",\"Hyderabad\",\"Hyderabad\",\"Hyderabad\",\"Hyderabad\",\"Hyderabad\",\"Hyderabad\",\"Hyderabad\",\"Hyderabad\",\"Hyderabad\",\"Hyderabad\",\"Hyderabad\",\"Hyderabad\",\"Hyderabad\",\"Hyderabad\",\"Hyderabad\",\"Hyderabad\",\"Hyderabad\",\"Hyderabad\",\"Hyderabad\",\"Hyderabad\",\"Hyderabad\",\"Hyderabad\",\"Hyderabad\",\"Hyderabad\",\"Hyderabad\",\"Hyderabad\",\"Hyderabad\",\"Hyderabad\",\"Hyderabad\",\"Hyderabad\",\"Hyderabad\",\"Hyderabad\",\"Hyderabad\",\"Hyderabad\",\"Hyderabad\",\"Hyderabad\",\"Hyderabad\",\"Hyderabad\",\"Hyderabad\",\"Hyderabad\",\"Hyderabad\",\"Hyderabad\",\"Hyderabad\",\"Hyderabad\",\"Hyderabad\",\"Hyderabad\",\"Hyderabad\",\"Hyderabad\",\"Hyderabad\",\"Hyderabad\",\"Hyderabad\",\"Hyderabad\",\"Hyderabad\",\"Hyderabad\",\"Hyderabad\",\"Hyderabad\",\"Hyderabad\",\"Hyderabad\",\"Hyderabad\",\"Hyderabad\",\"Hyderabad\",\"Hyderabad\",\"Hyderabad\",\"Hyderabad\",\"Hyderabad\",\"Hyderabad\",\"Hyderabad\",\"Hyderabad\",\"Hyderabad\",\"Hyderabad\",\"Hyderabad\",\"Hyderabad\",\"Hyderabad\",\"Hyderabad\",\"Hyderabad\",\"Hyderabad\",\"Hyderabad\",\"Hyderabad\",\"Hyderabad\",\"Hyderabad\",\"Hyderabad\",\"Hyderabad\",\"Hyderabad\",\"Hyderabad\",\"Hyderabad\",\"Hyderabad\",\"Hyderabad\",\"Hyderabad\",\"Hyderabad\",\"Hyderabad\",\"Hyderabad\",\"Hyderabad\",\"Hyderabad\",\"Hyderabad\",\"Hyderabad\",\"Hyderabad\",\"Hyderabad\",\"Hyderabad\",\"Hyderabad\",\"Hyderabad\",\"Hyderabad\",\"Hyderabad\",\"Hyderabad\",\"Hyderabad\",\"Hyderabad\",\"Hyderabad\",\"Hyderabad\",\"Hyderabad\",\"Hyderabad\",\"Hyderabad\",\"Hyderabad\",\"Hyderabad\",\"Hyderabad\",\"Hyderabad\",\"Hyderabad\",\"Hyderabad\",\"Hyderabad\",\"Hyderabad\",\"Hyderabad\",\"Hyderabad\",\"Hyderabad\",\"Hyderabad\",\"Hyderabad\",\"Hyderabad\",\"Hyderabad\",\"Hyderabad\",\"Hyderabad\",\"Hyderabad\",\"Hyderabad\",\"Hyderabad\",\"Hyderabad\",\"Hyderabad\",\"Hyderabad\",\"Hyderabad\",\"Hyderabad\",\"Hyderabad\",\"Hyderabad\",\"Hyderabad\",\"Hyderabad\",\"Hyderabad\",\"Hyderabad\",\"Hyderabad\",\"Hyderabad\",\"Hyderabad\",\"Hyderabad\",\"Hyderabad\",\"Hyderabad\",\"Hyderabad\",\"Hyderabad\",\"Hyderabad\",\"Hyderabad\",\"Hyderabad\",\"Hyderabad\",\"Hyderabad\",\"Hyderabad\",\"Hyderabad\",\"Hyderabad\",\"Hyderabad\",\"Hyderabad\",\"Hyderabad\",\"Hyderabad\",\"Hyderabad\",\"Hyderabad\",\"Hyderabad\",\"Hyderabad\",\"Hyderabad\",\"Hyderabad\",\"Hyderabad\",\"Hyderabad\",\"Hyderabad\",\"Hyderabad\",\"Hyderabad\",\"Hyderabad\",\"Hyderabad\",\"Hyderabad\",\"Hyderabad\",\"Hyderabad\",\"Hyderabad\",\"Hyderabad\",\"Hyderabad\",\"Hyderabad\",\"Hyderabad\",\"Hyderabad\",\"Hyderabad\",\"Hyderabad\",\"Hyderabad\",\"Hyderabad\",\"Hyderabad\",\"Hyderabad\",\"Hyderabad\",\"Hyderabad\",\"Hyderabad\",\"Hyderabad\",\"Hyderabad\",\"Hyderabad\",\"Hyderabad\",\"Hyderabad\",\"Hyderabad\",\"Hyderabad\",\"Hyderabad\",\"Hyderabad\",\"Hyderabad\",\"Hyderabad\",\"Hyderabad\",\"Hyderabad\",\"Hyderabad\",\"Hyderabad\",\"Hyderabad\",\"Hyderabad\",\"Hyderabad\",\"Hyderabad\",\"Hyderabad\",\"Hyderabad\",\"Hyderabad\",\"Hyderabad\",\"Hyderabad\",\"Hyderabad\",\"Hyderabad\",\"Hyderabad\",\"Hyderabad\",\"Hyderabad\",\"Hyderabad\",\"Hyderabad\",\"Hyderabad\",\"Hyderabad\",\"Hyderabad\",\"Hyderabad\",\"Hyderabad\",\"Hyderabad\",\"Hyderabad\",\"Hyderabad\",\"Hyderabad\",\"Hyderabad\",\"Hyderabad\",\"Hyderabad\",\"Hyderabad\",\"Hyderabad\",\"Hyderabad\",\"Hyderabad\",\"Hyderabad\",\"Hyderabad\",\"Hyderabad\",\"Hyderabad\",\"Hyderabad\",\"Hyderabad\",\"Hyderabad\",\"Hyderabad\",\"Hyderabad\",\"Hyderabad\",\"Hyderabad\",\"Hyderabad\",\"Hyderabad\",\"Hyderabad\",\"Hyderabad\",\"Hyderabad\",\"Hyderabad\",\"Hyderabad\",\"Hyderabad\",\"Hyderabad\",\"Hyderabad\",\"Hyderabad\",\"Hyderabad\",\"Hyderabad\",\"Hyderabad\",\"Hyderabad\",\"Hyderabad\",\"Hyderabad\",\"Hyderabad\",\"Hyderabad\",\"Hyderabad\",\"Hyderabad\",\"Hyderabad\",\"Hyderabad\",\"Hyderabad\",\"Hyderabad\",\"Hyderabad\",\"Hyderabad\",\"Hyderabad\",\"Hyderabad\",\"Hyderabad\",\"Hyderabad\",\"Hyderabad\",\"Hyderabad\",\"Hyderabad\",\"Hyderabad\",\"Hyderabad\",\"Hyderabad\",\"Hyderabad\",\"Hyderabad\",\"Hyderabad\",\"Hyderabad\",\"Hyderabad\",\"Hyderabad\",\"Hyderabad\",\"Hyderabad\",\"Hyderabad\",\"Hyderabad\",\"Hyderabad\",\"Hyderabad\",\"Hyderabad\",\"Hyderabad\",\"Hyderabad\",\"Hyderabad\",\"Hyderabad\",\"Hyderabad\",\"Hyderabad\",\"Hyderabad\",\"Hyderabad\",\"Hyderabad\",\"Hyderabad\",\"Hyderabad\",\"Hyderabad\",\"Hyderabad\",\"Hyderabad\",\"Hyderabad\",\"Hyderabad\",\"Hyderabad\",\"Hyderabad\",\"Hyderabad\",\"Hyderabad\",\"Hyderabad\",\"Hyderabad\",\"Hyderabad\",\"Hyderabad\",\"Hyderabad\",\"Hyderabad\",\"Hyderabad\",\"Hyderabad\",\"Hyderabad\",\"Hyderabad\",\"Hyderabad\",\"Hyderabad\",\"Hyderabad\",\"Hyderabad\",\"Hyderabad\",\"Hyderabad\",\"Hyderabad\",\"Hyderabad\",\"Hyderabad\",\"Hyderabad\",\"Hyderabad\",\"Hyderabad\",\"Hyderabad\",\"Hyderabad\",\"Hyderabad\",\"Hyderabad\",\"Hyderabad\",\"Hyderabad\",\"Hyderabad\",\"Hyderabad\",\"Hyderabad\",\"Hyderabad\",\"Hyderabad\",\"Hyderabad\",\"Hyderabad\",\"Hyderabad\",\"Hyderabad\",\"Hyderabad\",\"Hyderabad\",\"Hyderabad\",\"Hyderabad\",\"Hyderabad\",\"Hyderabad\",\"Hyderabad\",\"Hyderabad\",\"Hyderabad\",\"Hyderabad\",\"Hyderabad\",\"Hyderabad\",\"Hyderabad\",\"Hyderabad\",\"Hyderabad\",\"Hyderabad\",\"Hyderabad\",\"Hyderabad\",\"Hyderabad\",\"Hyderabad\",\"Hyderabad\",\"Hyderabad\",\"Hyderabad\",\"Hyderabad\",\"Hyderabad\",\"Hyderabad\",\"Hyderabad\",\"Hyderabad\",\"Hyderabad\",\"Hyderabad\",\"Hyderabad\",\"Hyderabad\",\"Hyderabad\",\"Hyderabad\",\"Hyderabad\",\"Hyderabad\",\"Hyderabad\",\"Hyderabad\",\"Hyderabad\",\"Hyderabad\",\"Hyderabad\",\"Hyderabad\",\"Hyderabad\",\"Hyderabad\",\"Hyderabad\",\"Hyderabad\",\"Hyderabad\",\"Hyderabad\",\"Hyderabad\",\"Hyderabad\",\"Hyderabad\",\"Hyderabad\",\"Hyderabad\",\"Hyderabad\",\"Hyderabad\",\"Hyderabad\",\"Hyderabad\",\"Hyderabad\",\"Hyderabad\",\"Hyderabad\",\"Hyderabad\",\"Hyderabad\",\"Hyderabad\",\"Hyderabad\",\"Hyderabad\",\"Hyderabad\",\"Hyderabad\",\"Hyderabad\",\"Hyderabad\",\"Hyderabad\",\"Hyderabad\",\"Hyderabad\",\"Hyderabad\",\"Hyderabad\",\"Hyderabad\",\"Hyderabad\",\"Hyderabad\",\"Hyderabad\",\"Hyderabad\",\"Hyderabad\",\"Hyderabad\",\"Hyderabad\",\"Hyderabad\",\"Hyderabad\",\"Hyderabad\",\"Hyderabad\",\"Hyderabad\",\"Hyderabad\",\"Hyderabad\",\"Hyderabad\",\"Hyderabad\",\"Hyderabad\",\"Hyderabad\",\"Hyderabad\",\"Hyderabad\",\"Hyderabad\",\"Hyderabad\",\"Hyderabad\",\"Hyderabad\",\"Hyderabad\",\"Hyderabad\",\"Hyderabad\",\"Hyderabad\",\"Hyderabad\",\"Hyderabad\",\"Hyderabad\",\"Hyderabad\",\"Hyderabad\",\"Hyderabad\",\"Hyderabad\",\"Hyderabad\",\"Hyderabad\",\"Hyderabad\",\"Hyderabad\",\"Hyderabad\",\"Hyderabad\",\"Hyderabad\",\"Hyderabad\",\"Hyderabad\",\"Hyderabad\",\"Hyderabad\",\"Hyderabad\",\"Hyderabad\",\"Hyderabad\",\"Hyderabad\",\"Hyderabad\",\"Hyderabad\",\"Hyderabad\",\"Hyderabad\",\"Hyderabad\",\"Hyderabad\",\"Hyderabad\",\"Hyderabad\",\"Hyderabad\",\"Hyderabad\",\"Hyderabad\",\"Hyderabad\",\"Hyderabad\",\"Hyderabad\",\"Hyderabad\",\"Hyderabad\",\"Hyderabad\",\"Hyderabad\",\"Hyderabad\",\"Hyderabad\",\"Hyderabad\",\"Hyderabad\",\"Hyderabad\",\"Hyderabad\",\"Hyderabad\",\"Hyderabad\",\"Hyderabad\",\"Hyderabad\",\"Hyderabad\",\"Hyderabad\",\"Hyderabad\",\"Hyderabad\",\"Hyderabad\",\"Hyderabad\",\"Hyderabad\",\"Hyderabad\",\"Hyderabad\",\"Hyderabad\",\"Hyderabad\",\"Hyderabad\",\"Hyderabad\",\"Hyderabad\",\"Hyderabad\",\"Hyderabad\",\"Hyderabad\",\"Hyderabad\",\"Hyderabad\",\"Hyderabad\",\"Hyderabad\",\"Hyderabad\",\"Hyderabad\",\"Hyderabad\",\"Hyderabad\",\"Hyderabad\",\"Hyderabad\",\"Hyderabad\",\"Hyderabad\",\"Hyderabad\",\"Hyderabad\",\"Hyderabad\",\"Hyderabad\",\"Hyderabad\",\"Hyderabad\",\"Hyderabad\",\"Hyderabad\",\"Hyderabad\",\"Hyderabad\",\"Hyderabad\",\"Hyderabad\",\"Hyderabad\",\"Hyderabad\",\"Hyderabad\",\"Hyderabad\",\"Hyderabad\",\"Hyderabad\",\"Hyderabad\",\"Hyderabad\",\"Hyderabad\",\"Hyderabad\",\"Hyderabad\",\"Hyderabad\",\"Hyderabad\",\"Hyderabad\",\"Hyderabad\",\"Hyderabad\",\"Hyderabad\",\"Hyderabad\",\"Hyderabad\",\"Hyderabad\",\"Hyderabad\",\"Hyderabad\",\"Hyderabad\",\"Hyderabad\",\"Hyderabad\",\"Hyderabad\",\"Hyderabad\",\"Hyderabad\",\"Hyderabad\",\"Hyderabad\",\"Hyderabad\",\"Hyderabad\",\"Hyderabad\",\"Hyderabad\",\"Hyderabad\",\"Hyderabad\",\"Hyderabad\",\"Hyderabad\",\"Hyderabad\",\"Hyderabad\",\"Hyderabad\",\"Hyderabad\",\"Hyderabad\",\"Hyderabad\",\"Hyderabad\",\"Hyderabad\",\"Hyderabad\",\"Hyderabad\",\"Hyderabad\",\"Hyderabad\",\"Hyderabad\",\"Hyderabad\",\"Hyderabad\",\"Hyderabad\",\"Hyderabad\",\"Hyderabad\",\"Hyderabad\",\"Hyderabad\",\"Hyderabad\",\"Hyderabad\",\"Hyderabad\",\"Hyderabad\",\"Hyderabad\",\"Hyderabad\",\"Hyderabad\",\"Hyderabad\",\"Hyderabad\",\"Hyderabad\",\"Hyderabad\",\"Hyderabad\",\"Hyderabad\",\"Hyderabad\",\"Hyderabad\",\"Hyderabad\",\"Hyderabad\",\"Hyderabad\",\"Hyderabad\",\"Hyderabad\",\"Hyderabad\",\"Hyderabad\",\"Hyderabad\",\"Hyderabad\",\"Hyderabad\",\"Hyderabad\",\"Hyderabad\",\"Hyderabad\",\"Hyderabad\",\"Hyderabad\",\"Hyderabad\",\"Hyderabad\",\"Hyderabad\",\"Hyderabad\",\"Hyderabad\",\"Hyderabad\",\"Hyderabad\",\"Hyderabad\",\"Hyderabad\",\"Hyderabad\",\"Hyderabad\",\"Hyderabad\",\"Hyderabad\",\"Hyderabad\",\"Hyderabad\",\"Hyderabad\",\"Hyderabad\",\"Hyderabad\",\"Hyderabad\",\"Hyderabad\",\"Hyderabad\",\"Hyderabad\",\"Hyderabad\",\"Hyderabad\",\"Hyderabad\",\"Hyderabad\",\"Hyderabad\",\"Hyderabad\",\"Hyderabad\",\"Hyderabad\",\"Hyderabad\",\"Hyderabad\",\"Hyderabad\",\"Hyderabad\",\"Hyderabad\",\"Hyderabad\",\"Hyderabad\",\"Hyderabad\",\"Hyderabad\",\"Hyderabad\",\"Hyderabad\",\"Hyderabad\",\"Hyderabad\",\"Hyderabad\",\"Hyderabad\",\"Hyderabad\",\"Hyderabad\",\"Hyderabad\",\"Hyderabad\",\"Hyderabad\",\"Hyderabad\",\"Hyderabad\",\"Hyderabad\",\"Hyderabad\",\"Hyderabad\",\"Hyderabad\",\"Hyderabad\",\"Hyderabad\",\"Hyderabad\",\"Hyderabad\",\"Hyderabad\",\"Hyderabad\",\"Hyderabad\",\"Hyderabad\",\"Hyderabad\",\"Hyderabad\",\"Hyderabad\",\"Hyderabad\",\"Hyderabad\",\"Hyderabad\",\"Hyderabad\",\"Hyderabad\",\"Hyderabad\",\"Hyderabad\",\"Hyderabad\",\"Hyderabad\",\"Hyderabad\",\"Hyderabad\",\"Hyderabad\",\"Hyderabad\",\"Hyderabad\",\"Hyderabad\",\"Hyderabad\",\"Hyderabad\",\"Hyderabad\",\"Hyderabad\",\"Hyderabad\",\"Hyderabad\",\"Hyderabad\",\"Hyderabad\",\"Hyderabad\",\"Hyderabad\",\"Hyderabad\",\"Hyderabad\",\"Hyderabad\",\"Hyderabad\",\"Hyderabad\",\"Hyderabad\",\"Hyderabad\",\"Hyderabad\",\"Hyderabad\",\"Hyderabad\",\"Hyderabad\",\"Hyderabad\",\"Hyderabad\",\"Hyderabad\",\"Hyderabad\",\"Hyderabad\",\"Hyderabad\",\"Hyderabad\",\"Hyderabad\",\"Hyderabad\",\"Hyderabad\",\"Hyderabad\",\"Hyderabad\",\"Hyderabad\",\"Hyderabad\",\"Hyderabad\",\"Hyderabad\",\"Hyderabad\",\"Hyderabad\",\"Hyderabad\",\"Hyderabad\",\"Hyderabad\",\"Hyderabad\",\"Hyderabad\",\"Hyderabad\",\"Hyderabad\",\"Hyderabad\",\"Hyderabad\",\"Hyderabad\",\"Hyderabad\",\"Hyderabad\",\"Hyderabad\",\"Hyderabad\",\"Hyderabad\",\"Hyderabad\",\"Hyderabad\",\"Hyderabad\",\"Hyderabad\",\"Hyderabad\",\"Hyderabad\",\"Hyderabad\",\"Hyderabad\",\"Hyderabad\",\"Hyderabad\",\"Hyderabad\",\"Hyderabad\",\"Hyderabad\",\"Hyderabad\",\"Hyderabad\",\"Hyderabad\",\"Hyderabad\",\"Hyderabad\",\"Hyderabad\",\"Hyderabad\",\"Hyderabad\",\"Hyderabad\",\"Hyderabad\",\"Hyderabad\",\"Hyderabad\",\"Hyderabad\",\"Hyderabad\",\"Hyderabad\",\"Hyderabad\",\"Hyderabad\",\"Hyderabad\",\"Hyderabad\",\"Hyderabad\",\"Hyderabad\",\"Hyderabad\",\"Hyderabad\",\"Hyderabad\",\"Hyderabad\",\"Hyderabad\",\"Hyderabad\",\"Hyderabad\",\"Hyderabad\",\"Hyderabad\",\"Hyderabad\",\"Hyderabad\",\"Hyderabad\",\"Hyderabad\",\"Hyderabad\",\"Hyderabad\",\"Hyderabad\",\"Hyderabad\",\"Hyderabad\",\"Hyderabad\",\"Hyderabad\",\"Hyderabad\",\"Hyderabad\",\"Hyderabad\",\"Hyderabad\",\"Hyderabad\",\"Hyderabad\",\"Hyderabad\"],\"legendgroup\":\"\",\"name\":\"\",\"showlegend\":true,\"type\":\"pie\",\"textfont\":{\"size\":15}}],                        {\"template\":{\"data\":{\"histogram2dcontour\":[{\"type\":\"histogram2dcontour\",\"colorbar\":{\"outlinewidth\":0,\"ticks\":\"\"},\"colorscale\":[[0.0,\"#0d0887\"],[0.1111111111111111,\"#46039f\"],[0.2222222222222222,\"#7201a8\"],[0.3333333333333333,\"#9c179e\"],[0.4444444444444444,\"#bd3786\"],[0.5555555555555556,\"#d8576b\"],[0.6666666666666666,\"#ed7953\"],[0.7777777777777778,\"#fb9f3a\"],[0.8888888888888888,\"#fdca26\"],[1.0,\"#f0f921\"]]}],\"choropleth\":[{\"type\":\"choropleth\",\"colorbar\":{\"outlinewidth\":0,\"ticks\":\"\"}}],\"histogram2d\":[{\"type\":\"histogram2d\",\"colorbar\":{\"outlinewidth\":0,\"ticks\":\"\"},\"colorscale\":[[0.0,\"#0d0887\"],[0.1111111111111111,\"#46039f\"],[0.2222222222222222,\"#7201a8\"],[0.3333333333333333,\"#9c179e\"],[0.4444444444444444,\"#bd3786\"],[0.5555555555555556,\"#d8576b\"],[0.6666666666666666,\"#ed7953\"],[0.7777777777777778,\"#fb9f3a\"],[0.8888888888888888,\"#fdca26\"],[1.0,\"#f0f921\"]]}],\"heatmap\":[{\"type\":\"heatmap\",\"colorbar\":{\"outlinewidth\":0,\"ticks\":\"\"},\"colorscale\":[[0.0,\"#0d0887\"],[0.1111111111111111,\"#46039f\"],[0.2222222222222222,\"#7201a8\"],[0.3333333333333333,\"#9c179e\"],[0.4444444444444444,\"#bd3786\"],[0.5555555555555556,\"#d8576b\"],[0.6666666666666666,\"#ed7953\"],[0.7777777777777778,\"#fb9f3a\"],[0.8888888888888888,\"#fdca26\"],[1.0,\"#f0f921\"]]}],\"heatmapgl\":[{\"type\":\"heatmapgl\",\"colorbar\":{\"outlinewidth\":0,\"ticks\":\"\"},\"colorscale\":[[0.0,\"#0d0887\"],[0.1111111111111111,\"#46039f\"],[0.2222222222222222,\"#7201a8\"],[0.3333333333333333,\"#9c179e\"],[0.4444444444444444,\"#bd3786\"],[0.5555555555555556,\"#d8576b\"],[0.6666666666666666,\"#ed7953\"],[0.7777777777777778,\"#fb9f3a\"],[0.8888888888888888,\"#fdca26\"],[1.0,\"#f0f921\"]]}],\"contourcarpet\":[{\"type\":\"contourcarpet\",\"colorbar\":{\"outlinewidth\":0,\"ticks\":\"\"}}],\"contour\":[{\"type\":\"contour\",\"colorbar\":{\"outlinewidth\":0,\"ticks\":\"\"},\"colorscale\":[[0.0,\"#0d0887\"],[0.1111111111111111,\"#46039f\"],[0.2222222222222222,\"#7201a8\"],[0.3333333333333333,\"#9c179e\"],[0.4444444444444444,\"#bd3786\"],[0.5555555555555556,\"#d8576b\"],[0.6666666666666666,\"#ed7953\"],[0.7777777777777778,\"#fb9f3a\"],[0.8888888888888888,\"#fdca26\"],[1.0,\"#f0f921\"]]}],\"surface\":[{\"type\":\"surface\",\"colorbar\":{\"outlinewidth\":0,\"ticks\":\"\"},\"colorscale\":[[0.0,\"#0d0887\"],[0.1111111111111111,\"#46039f\"],[0.2222222222222222,\"#7201a8\"],[0.3333333333333333,\"#9c179e\"],[0.4444444444444444,\"#bd3786\"],[0.5555555555555556,\"#d8576b\"],[0.6666666666666666,\"#ed7953\"],[0.7777777777777778,\"#fb9f3a\"],[0.8888888888888888,\"#fdca26\"],[1.0,\"#f0f921\"]]}],\"mesh3d\":[{\"type\":\"mesh3d\",\"colorbar\":{\"outlinewidth\":0,\"ticks\":\"\"}}],\"scatter\":[{\"fillpattern\":{\"fillmode\":\"overlay\",\"size\":10,\"solidity\":0.2},\"type\":\"scatter\"}],\"parcoords\":[{\"type\":\"parcoords\",\"line\":{\"colorbar\":{\"outlinewidth\":0,\"ticks\":\"\"}}}],\"scatterpolargl\":[{\"type\":\"scatterpolargl\",\"marker\":{\"colorbar\":{\"outlinewidth\":0,\"ticks\":\"\"}}}],\"bar\":[{\"error_x\":{\"color\":\"#2a3f5f\"},\"error_y\":{\"color\":\"#2a3f5f\"},\"marker\":{\"line\":{\"color\":\"#E5ECF6\",\"width\":0.5},\"pattern\":{\"fillmode\":\"overlay\",\"size\":10,\"solidity\":0.2}},\"type\":\"bar\"}],\"scattergeo\":[{\"type\":\"scattergeo\",\"marker\":{\"colorbar\":{\"outlinewidth\":0,\"ticks\":\"\"}}}],\"scatterpolar\":[{\"type\":\"scatterpolar\",\"marker\":{\"colorbar\":{\"outlinewidth\":0,\"ticks\":\"\"}}}],\"histogram\":[{\"marker\":{\"pattern\":{\"fillmode\":\"overlay\",\"size\":10,\"solidity\":0.2}},\"type\":\"histogram\"}],\"scattergl\":[{\"type\":\"scattergl\",\"marker\":{\"colorbar\":{\"outlinewidth\":0,\"ticks\":\"\"}}}],\"scatter3d\":[{\"type\":\"scatter3d\",\"line\":{\"colorbar\":{\"outlinewidth\":0,\"ticks\":\"\"}},\"marker\":{\"colorbar\":{\"outlinewidth\":0,\"ticks\":\"\"}}}],\"scattermapbox\":[{\"type\":\"scattermapbox\",\"marker\":{\"colorbar\":{\"outlinewidth\":0,\"ticks\":\"\"}}}],\"scatterternary\":[{\"type\":\"scatterternary\",\"marker\":{\"colorbar\":{\"outlinewidth\":0,\"ticks\":\"\"}}}],\"scattercarpet\":[{\"type\":\"scattercarpet\",\"marker\":{\"colorbar\":{\"outlinewidth\":0,\"ticks\":\"\"}}}],\"carpet\":[{\"aaxis\":{\"endlinecolor\":\"#2a3f5f\",\"gridcolor\":\"white\",\"linecolor\":\"white\",\"minorgridcolor\":\"white\",\"startlinecolor\":\"#2a3f5f\"},\"baxis\":{\"endlinecolor\":\"#2a3f5f\",\"gridcolor\":\"white\",\"linecolor\":\"white\",\"minorgridcolor\":\"white\",\"startlinecolor\":\"#2a3f5f\"},\"type\":\"carpet\"}],\"table\":[{\"cells\":{\"fill\":{\"color\":\"#EBF0F8\"},\"line\":{\"color\":\"white\"}},\"header\":{\"fill\":{\"color\":\"#C8D4E3\"},\"line\":{\"color\":\"white\"}},\"type\":\"table\"}],\"barpolar\":[{\"marker\":{\"line\":{\"color\":\"#E5ECF6\",\"width\":0.5},\"pattern\":{\"fillmode\":\"overlay\",\"size\":10,\"solidity\":0.2}},\"type\":\"barpolar\"}],\"pie\":[{\"automargin\":true,\"type\":\"pie\"}]},\"layout\":{\"autotypenumbers\":\"strict\",\"colorway\":[\"#636efa\",\"#EF553B\",\"#00cc96\",\"#ab63fa\",\"#FFA15A\",\"#19d3f3\",\"#FF6692\",\"#B6E880\",\"#FF97FF\",\"#FECB52\"],\"font\":{\"color\":\"#2a3f5f\"},\"hovermode\":\"closest\",\"hoverlabel\":{\"align\":\"left\"},\"paper_bgcolor\":\"white\",\"plot_bgcolor\":\"#E5ECF6\",\"polar\":{\"bgcolor\":\"#E5ECF6\",\"angularaxis\":{\"gridcolor\":\"white\",\"linecolor\":\"white\",\"ticks\":\"\"},\"radialaxis\":{\"gridcolor\":\"white\",\"linecolor\":\"white\",\"ticks\":\"\"}},\"ternary\":{\"bgcolor\":\"#E5ECF6\",\"aaxis\":{\"gridcolor\":\"white\",\"linecolor\":\"white\",\"ticks\":\"\"},\"baxis\":{\"gridcolor\":\"white\",\"linecolor\":\"white\",\"ticks\":\"\"},\"caxis\":{\"gridcolor\":\"white\",\"linecolor\":\"white\",\"ticks\":\"\"}},\"coloraxis\":{\"colorbar\":{\"outlinewidth\":0,\"ticks\":\"\"}},\"colorscale\":{\"sequential\":[[0.0,\"#0d0887\"],[0.1111111111111111,\"#46039f\"],[0.2222222222222222,\"#7201a8\"],[0.3333333333333333,\"#9c179e\"],[0.4444444444444444,\"#bd3786\"],[0.5555555555555556,\"#d8576b\"],[0.6666666666666666,\"#ed7953\"],[0.7777777777777778,\"#fb9f3a\"],[0.8888888888888888,\"#fdca26\"],[1.0,\"#f0f921\"]],\"sequentialminus\":[[0.0,\"#0d0887\"],[0.1111111111111111,\"#46039f\"],[0.2222222222222222,\"#7201a8\"],[0.3333333333333333,\"#9c179e\"],[0.4444444444444444,\"#bd3786\"],[0.5555555555555556,\"#d8576b\"],[0.6666666666666666,\"#ed7953\"],[0.7777777777777778,\"#fb9f3a\"],[0.8888888888888888,\"#fdca26\"],[1.0,\"#f0f921\"]],\"diverging\":[[0,\"#8e0152\"],[0.1,\"#c51b7d\"],[0.2,\"#de77ae\"],[0.3,\"#f1b6da\"],[0.4,\"#fde0ef\"],[0.5,\"#f7f7f7\"],[0.6,\"#e6f5d0\"],[0.7,\"#b8e186\"],[0.8,\"#7fbc41\"],[0.9,\"#4d9221\"],[1,\"#276419\"]]},\"xaxis\":{\"gridcolor\":\"white\",\"linecolor\":\"white\",\"ticks\":\"\",\"title\":{\"standoff\":15},\"zerolinecolor\":\"white\",\"automargin\":true,\"zerolinewidth\":2},\"yaxis\":{\"gridcolor\":\"white\",\"linecolor\":\"white\",\"ticks\":\"\",\"title\":{\"standoff\":15},\"zerolinecolor\":\"white\",\"automargin\":true,\"zerolinewidth\":2},\"scene\":{\"xaxis\":{\"backgroundcolor\":\"#E5ECF6\",\"gridcolor\":\"white\",\"linecolor\":\"white\",\"showbackground\":true,\"ticks\":\"\",\"zerolinecolor\":\"white\",\"gridwidth\":2},\"yaxis\":{\"backgroundcolor\":\"#E5ECF6\",\"gridcolor\":\"white\",\"linecolor\":\"white\",\"showbackground\":true,\"ticks\":\"\",\"zerolinecolor\":\"white\",\"gridwidth\":2},\"zaxis\":{\"backgroundcolor\":\"#E5ECF6\",\"gridcolor\":\"white\",\"linecolor\":\"white\",\"showbackground\":true,\"ticks\":\"\",\"zerolinecolor\":\"white\",\"gridwidth\":2}},\"shapedefaults\":{\"line\":{\"color\":\"#2a3f5f\"}},\"annotationdefaults\":{\"arrowcolor\":\"#2a3f5f\",\"arrowhead\":0,\"arrowwidth\":1},\"geo\":{\"bgcolor\":\"white\",\"landcolor\":\"#E5ECF6\",\"subunitcolor\":\"white\",\"showland\":true,\"showlakes\":true,\"lakecolor\":\"white\"},\"title\":{\"x\":0.05},\"mapbox\":{\"style\":\"light\"}}},\"legend\":{\"tracegroupgap\":0},\"title\":{\"text\":\"Pie Chart for Houses available for Rent in different cities\"},\"piecolorway\":[\"rgb(253, 253, 204)\",\"rgb(206, 236, 179)\",\"rgb(156, 219, 165)\",\"rgb(111, 201, 163)\",\"rgb(86, 177, 163)\",\"rgb(76, 153, 160)\",\"rgb(68, 130, 155)\",\"rgb(62, 108, 150)\",\"rgb(62, 82, 143)\",\"rgb(64, 60, 115)\",\"rgb(54, 43, 77)\",\"rgb(39, 26, 44)\"],\"height\":700,\"width\":700},                        {\"responsive\": true}                    ).then(function(){\n",
       "                            \n",
       "var gd = document.getElementById('e446f27c-b8e4-4674-a237-e0224c1e41a7');\n",
       "var x = new MutationObserver(function (mutations, observer) {{\n",
       "        var display = window.getComputedStyle(gd).display;\n",
       "        if (!display || display === 'none') {{\n",
       "            console.log([gd, 'removed!']);\n",
       "            Plotly.purge(gd);\n",
       "            observer.disconnect();\n",
       "        }}\n",
       "}});\n",
       "\n",
       "// Listen for the removal of the full notebook cells\n",
       "var notebookContainer = gd.closest('#notebook-container');\n",
       "if (notebookContainer) {{\n",
       "    x.observe(notebookContainer, {childList: true});\n",
       "}}\n",
       "\n",
       "// Listen for the clearing of the current output cell\n",
       "var outputEl = gd.closest('.output');\n",
       "if (outputEl) {{\n",
       "    x.observe(outputEl, {childList: true});\n",
       "}}\n",
       "\n",
       "                        })                };                });            </script>        </div>"
      ]
     },
     "metadata": {},
     "output_type": "display_data"
    }
   ],
   "source": [
    "fig = px.pie(df, names='City', height=700, width= 700, color_discrete_sequence=px.colors.sequential.deep, title='Pie Chart for Houses available for Rent in different cities')\n",
    "fig.update_traces(textfont_size=15)\n",
    "fig.show()"
   ]
  },
  {
   "cell_type": "code",
   "execution_count": 18,
   "id": "7d08e3f3",
   "metadata": {
    "execution": {
     "iopub.execute_input": "2024-03-23T16:20:42.584284Z",
     "iopub.status.busy": "2024-03-23T16:20:42.583639Z",
     "iopub.status.idle": "2024-03-23T16:20:42.795995Z",
     "shell.execute_reply": "2024-03-23T16:20:42.794874Z"
    },
    "papermill": {
     "duration": 0.231754,
     "end_time": "2024-03-23T16:20:42.798345",
     "exception": false,
     "start_time": "2024-03-23T16:20:42.566591",
     "status": "completed"
    },
    "tags": []
   },
   "outputs": [
    {
     "data": {
      "text/plain": [
       "<Axes: xlabel='Area Type', ylabel='count'>"
      ]
     },
     "execution_count": 18,
     "metadata": {},
     "output_type": "execute_result"
    },
    {
     "data": {
      "image/png": "[encoded data removed]",
      "text/plain": [
       "<Figure size 640x480 with 1 Axes>"
      ]
     },
     "metadata": {},
     "output_type": "display_data"
    }
   ],
   "source": [
    "sns.countplot(data=df, x='Area Type' )"
   ]
  },
  {
   "cell_type": "code",
   "execution_count": 19,
   "id": "b331a7d7",
   "metadata": {
    "execution": {
     "iopub.execute_input": "2024-03-23T16:20:42.833146Z",
     "iopub.status.busy": "2024-03-23T16:20:42.832069Z",
     "iopub.status.idle": "2024-03-23T16:20:43.184348Z",
     "shell.execute_reply": "2024-03-23T16:20:43.183207Z"
    },
    "papermill": {
     "duration": 0.372245,
     "end_time": "2024-03-23T16:20:43.186662",
     "exception": false,
     "start_time": "2024-03-23T16:20:42.814417",
     "status": "completed"
    },
    "tags": []
   },
   "outputs": [
    {
     "data": {
      "text/plain": [
       "<Axes: xlabel='Furnishing Status', ylabel='Rent'>"
      ]
     },
     "execution_count": 19,
     "metadata": {},
     "output_type": "execute_result"
    },
    {
     "data": {
      "image/png": "[encoded data removed]",
      "text/plain": [
       "<Figure size 640x480 with 1 Axes>"
      ]
     },
     "metadata": {},
     "output_type": "display_data"
    }
   ],
   "source": [
    "sns.barplot(data=df , x='Furnishing Status' , y='Rent')"
   ]
  },
  {
   "cell_type": "code",
   "execution_count": 20,
   "id": "19b4b844",
   "metadata": {
    "execution": {
     "iopub.execute_input": "2024-03-23T16:20:43.221263Z",
     "iopub.status.busy": "2024-03-23T16:20:43.220172Z",
     "iopub.status.idle": "2024-03-23T16:20:43.570653Z",
     "shell.execute_reply": "2024-03-23T16:20:43.569434Z"
    },
    "papermill": {
     "duration": 0.370269,
     "end_time": "2024-03-23T16:20:43.573078",
     "exception": false,
     "start_time": "2024-03-23T16:20:43.202809",
     "status": "completed"
    },
    "tags": []
   },
   "outputs": [
    {
     "data": {
      "text/plain": [
       "<Axes: xlabel='Tenant Preferred', ylabel='Rent'>"
      ]
     },
     "execution_count": 20,
     "metadata": {},
     "output_type": "execute_result"
    },
    {
     "data": {
      "image/png": "[encoded data removed]",
      "text/plain": [
       "<Figure size 640x480 with 1 Axes>"
      ]
     },
     "metadata": {},
     "output_type": "display_data"
    }
   ],
   "source": [
    "sns.barplot(data=df , x='Tenant Preferred' ,y='Rent')"
   ]
  },
  {
   "cell_type": "code",
   "execution_count": 21,
   "id": "c1ece5e0",
   "metadata": {
    "execution": {
     "iopub.execute_input": "2024-03-23T16:20:43.608700Z",
     "iopub.status.busy": "2024-03-23T16:20:43.608298Z",
     "iopub.status.idle": "2024-03-23T16:20:43.617380Z",
     "shell.execute_reply": "2024-03-23T16:20:43.616582Z"
    },
    "papermill": {
     "duration": 0.029706,
     "end_time": "2024-03-23T16:20:43.619550",
     "exception": false,
     "start_time": "2024-03-23T16:20:43.589844",
     "status": "completed"
    },
    "tags": []
   },
   "outputs": [],
   "source": [
    "df['Rent']=(df['Rent']-df['Rent'].min())/(df['Rent'].max()-df['Rent'].min())\n",
    "df['Size']=(df['Size']-df['Size'].min())/(df['Size'].max()-df['Size'].min())"
   ]
  },
  {
   "cell_type": "code",
   "execution_count": 22,
   "id": "ee51584c",
   "metadata": {
    "execution": {
     "iopub.execute_input": "2024-03-23T16:20:43.655188Z",
     "iopub.status.busy": "2024-03-23T16:20:43.654789Z",
     "iopub.status.idle": "2024-03-23T16:20:44.304079Z",
     "shell.execute_reply": "2024-03-23T16:20:44.303017Z"
    },
    "papermill": {
     "duration": 0.670063,
     "end_time": "2024-03-23T16:20:44.306586",
     "exception": false,
     "start_time": "2024-03-23T16:20:43.636523",
     "status": "completed"
    },
    "tags": []
   },
   "outputs": [
    {
     "data": {
      "text/plain": [
       "<Axes: xlabel='Rent', ylabel='Size'>"
      ]
     },
     "execution_count": 22,
     "metadata": {},
     "output_type": "execute_result"
    },
    {
     "data": {
      "image/png": "[encoded data removed]",
      "text/plain": [
       "<Figure size 640x480 with 1 Axes>"
      ]
     },
     "metadata": {},
     "output_type": "display_data"
    }
   ],
   "source": [
    "sns.regplot(data=df , x='Rent', y='Size')"
   ]
  },
  {
   "cell_type": "code",
   "execution_count": 23,
   "id": "ede7c611",
   "metadata": {
    "execution": {
     "iopub.execute_input": "2024-03-23T16:20:44.344481Z",
     "iopub.status.busy": "2024-03-23T16:20:44.343492Z",
     "iopub.status.idle": "2024-03-23T16:20:44.362140Z",
     "shell.execute_reply": "2024-03-23T16:20:44.361281Z"
    },
    "papermill": {
     "duration": 0.039759,
     "end_time": "2024-03-23T16:20:44.364295",
     "exception": false,
     "start_time": "2024-03-23T16:20:44.324536",
     "status": "completed"
    },
    "tags": []
   },
   "outputs": [
    {
     "data": {
      "text/html": [
       "<div>\n",
       "<style scoped>\n",
       "    .dataframe tbody tr th:only-of-type {\n",
       "        vertical-align: middle;\n",
       "    }\n",
       "\n",
       "    .dataframe tbody tr th {\n",
       "        vertical-align: top;\n",
       "    }\n",
       "\n",
       "    .dataframe thead th {\n",
       "        text-align: right;\n",
       "    }\n",
       "</style>\n",
       "<table border=\"1\" class=\"dataframe\">\n",
       "  <thead>\n",
       "    <tr style=\"text-align: right;\">\n",
       "      <th></th>\n",
       "      <th>Posted On</th>\n",
       "      <th>BHK</th>\n",
       "      <th>Rent</th>\n",
       "      <th>Size</th>\n",
       "      <th>Area Type</th>\n",
       "      <th>City</th>\n",
       "      <th>Furnishing Status</th>\n",
       "      <th>Tenant Preferred</th>\n",
       "      <th>Bathroom</th>\n",
       "    </tr>\n",
       "  </thead>\n",
       "  <tbody>\n",
       "    <tr>\n",
       "      <th>0</th>\n",
       "      <td>2022-05-18</td>\n",
       "      <td>2</td>\n",
       "      <td>0.002515</td>\n",
       "      <td>0.155937</td>\n",
       "      <td>Super Area</td>\n",
       "      <td>Kolkata</td>\n",
       "      <td>Unfurnished</td>\n",
       "      <td>Bachelors/Family</td>\n",
       "      <td>2</td>\n",
       "    </tr>\n",
       "    <tr>\n",
       "      <th>1</th>\n",
       "      <td>2022-05-13</td>\n",
       "      <td>2</td>\n",
       "      <td>0.005373</td>\n",
       "      <td>0.113019</td>\n",
       "      <td>Super Area</td>\n",
       "      <td>Kolkata</td>\n",
       "      <td>Semi-Furnished</td>\n",
       "      <td>Bachelors/Family</td>\n",
       "      <td>1</td>\n",
       "    </tr>\n",
       "    <tr>\n",
       "      <th>2</th>\n",
       "      <td>2022-05-16</td>\n",
       "      <td>2</td>\n",
       "      <td>0.004516</td>\n",
       "      <td>0.141631</td>\n",
       "      <td>Super Area</td>\n",
       "      <td>Kolkata</td>\n",
       "      <td>Semi-Furnished</td>\n",
       "      <td>Bachelors/Family</td>\n",
       "      <td>1</td>\n",
       "    </tr>\n",
       "    <tr>\n",
       "      <th>3</th>\n",
       "      <td>2022-07-04</td>\n",
       "      <td>2</td>\n",
       "      <td>0.002515</td>\n",
       "      <td>0.113019</td>\n",
       "      <td>Super Area</td>\n",
       "      <td>Kolkata</td>\n",
       "      <td>Unfurnished</td>\n",
       "      <td>Bachelors/Family</td>\n",
       "      <td>1</td>\n",
       "    </tr>\n",
       "    <tr>\n",
       "      <th>4</th>\n",
       "      <td>2022-05-09</td>\n",
       "      <td>2</td>\n",
       "      <td>0.001801</td>\n",
       "      <td>0.120172</td>\n",
       "      <td>Carpet Area</td>\n",
       "      <td>Kolkata</td>\n",
       "      <td>Unfurnished</td>\n",
       "      <td>Bachelors</td>\n",
       "      <td>1</td>\n",
       "    </tr>\n",
       "  </tbody>\n",
       "</table>\n",
       "</div>"
      ],
      "text/plain": [
       "    Posted On  BHK      Rent      Size    Area Type     City  \\\n",
       "0  2022-05-18    2  0.002515  0.155937   Super Area  Kolkata   \n",
       "1  2022-05-13    2  0.005373  0.113019   Super Area  Kolkata   \n",
       "2  2022-05-16    2  0.004516  0.141631   Super Area  Kolkata   \n",
       "3  2022-07-04    2  0.002515  0.113019   Super Area  Kolkata   \n",
       "4  2022-05-09    2  0.001801  0.120172  Carpet Area  Kolkata   \n",
       "\n",
       "  Furnishing Status  Tenant Preferred  Bathroom  \n",
       "0       Unfurnished  Bachelors/Family         2  \n",
       "1    Semi-Furnished  Bachelors/Family         1  \n",
       "2    Semi-Furnished  Bachelors/Family         1  \n",
       "3       Unfurnished  Bachelors/Family         1  \n",
       "4       Unfurnished         Bachelors         1  "
      ]
     },
     "execution_count": 23,
     "metadata": {},
     "output_type": "execute_result"
    }
   ],
   "source": [
    "df=df.drop('Point of Contact' ,axis=1)\n",
    "df=df.drop('Floor' , axis=1)\n",
    "df=df.drop('Area Locality' , axis=1)\n",
    "df.head()"
   ]
  },
  {
   "cell_type": "code",
   "execution_count": 24,
   "id": "9dd0b190",
   "metadata": {
    "execution": {
     "iopub.execute_input": "2024-03-23T16:20:44.404536Z",
     "iopub.status.busy": "2024-03-23T16:20:44.403833Z",
     "iopub.status.idle": "2024-03-23T16:20:44.424893Z",
     "shell.execute_reply": "2024-03-23T16:20:44.424003Z"
    },
    "papermill": {
     "duration": 0.044246,
     "end_time": "2024-03-23T16:20:44.427133",
     "exception": false,
     "start_time": "2024-03-23T16:20:44.382887",
     "status": "completed"
    },
    "tags": []
   },
   "outputs": [
    {
     "data": {
      "text/html": [
       "<div>\n",
       "<style scoped>\n",
       "    .dataframe tbody tr th:only-of-type {\n",
       "        vertical-align: middle;\n",
       "    }\n",
       "\n",
       "    .dataframe tbody tr th {\n",
       "        vertical-align: top;\n",
       "    }\n",
       "\n",
       "    .dataframe thead th {\n",
       "        text-align: right;\n",
       "    }\n",
       "</style>\n",
       "<table border=\"1\" class=\"dataframe\">\n",
       "  <thead>\n",
       "    <tr style=\"text-align: right;\">\n",
       "      <th></th>\n",
       "      <th>Posted On</th>\n",
       "      <th>BHK</th>\n",
       "      <th>Rent</th>\n",
       "      <th>Size</th>\n",
       "      <th>City</th>\n",
       "      <th>Furnishing Status</th>\n",
       "      <th>Tenant Preferred</th>\n",
       "      <th>Bathroom</th>\n",
       "      <th>Built Area</th>\n",
       "      <th>Carpet Area</th>\n",
       "      <th>Super Area</th>\n",
       "    </tr>\n",
       "  </thead>\n",
       "  <tbody>\n",
       "    <tr>\n",
       "      <th>0</th>\n",
       "      <td>2022-05-18</td>\n",
       "      <td>2</td>\n",
       "      <td>0.002515</td>\n",
       "      <td>0.155937</td>\n",
       "      <td>Kolkata</td>\n",
       "      <td>Unfurnished</td>\n",
       "      <td>Bachelors/Family</td>\n",
       "      <td>2</td>\n",
       "      <td>False</td>\n",
       "      <td>False</td>\n",
       "      <td>True</td>\n",
       "    </tr>\n",
       "    <tr>\n",
       "      <th>1</th>\n",
       "      <td>2022-05-13</td>\n",
       "      <td>2</td>\n",
       "      <td>0.005373</td>\n",
       "      <td>0.113019</td>\n",
       "      <td>Kolkata</td>\n",
       "      <td>Semi-Furnished</td>\n",
       "      <td>Bachelors/Family</td>\n",
       "      <td>1</td>\n",
       "      <td>False</td>\n",
       "      <td>False</td>\n",
       "      <td>True</td>\n",
       "    </tr>\n",
       "    <tr>\n",
       "      <th>2</th>\n",
       "      <td>2022-05-16</td>\n",
       "      <td>2</td>\n",
       "      <td>0.004516</td>\n",
       "      <td>0.141631</td>\n",
       "      <td>Kolkata</td>\n",
       "      <td>Semi-Furnished</td>\n",
       "      <td>Bachelors/Family</td>\n",
       "      <td>1</td>\n",
       "      <td>False</td>\n",
       "      <td>False</td>\n",
       "      <td>True</td>\n",
       "    </tr>\n",
       "    <tr>\n",
       "      <th>3</th>\n",
       "      <td>2022-07-04</td>\n",
       "      <td>2</td>\n",
       "      <td>0.002515</td>\n",
       "      <td>0.113019</td>\n",
       "      <td>Kolkata</td>\n",
       "      <td>Unfurnished</td>\n",
       "      <td>Bachelors/Family</td>\n",
       "      <td>1</td>\n",
       "      <td>False</td>\n",
       "      <td>False</td>\n",
       "      <td>True</td>\n",
       "    </tr>\n",
       "    <tr>\n",
       "      <th>4</th>\n",
       "      <td>2022-05-09</td>\n",
       "      <td>2</td>\n",
       "      <td>0.001801</td>\n",
       "      <td>0.120172</td>\n",
       "      <td>Kolkata</td>\n",
       "      <td>Unfurnished</td>\n",
       "      <td>Bachelors</td>\n",
       "      <td>1</td>\n",
       "      <td>False</td>\n",
       "      <td>True</td>\n",
       "      <td>False</td>\n",
       "    </tr>\n",
       "  </tbody>\n",
       "</table>\n",
       "</div>"
      ],
      "text/plain": [
       "    Posted On  BHK      Rent      Size     City Furnishing Status  \\\n",
       "0  2022-05-18    2  0.002515  0.155937  Kolkata       Unfurnished   \n",
       "1  2022-05-13    2  0.005373  0.113019  Kolkata    Semi-Furnished   \n",
       "2  2022-05-16    2  0.004516  0.141631  Kolkata    Semi-Furnished   \n",
       "3  2022-07-04    2  0.002515  0.113019  Kolkata       Unfurnished   \n",
       "4  2022-05-09    2  0.001801  0.120172  Kolkata       Unfurnished   \n",
       "\n",
       "   Tenant Preferred  Bathroom  Built Area  Carpet Area  Super Area  \n",
       "0  Bachelors/Family         2       False        False        True  \n",
       "1  Bachelors/Family         1       False        False        True  \n",
       "2  Bachelors/Family         1       False        False        True  \n",
       "3  Bachelors/Family         1       False        False        True  \n",
       "4         Bachelors         1       False         True       False  "
      ]
     },
     "execution_count": 24,
     "metadata": {},
     "output_type": "execute_result"
    }
   ],
   "source": [
    "df1 = pd.get_dummies(df['Area Type'])\n",
    "df = pd.concat([df, df1], axis=1).reindex(df.index)\n",
    "df.drop('Area Type', axis=1, inplace=True)\n",
    "df.head()"
   ]
  },
  {
   "cell_type": "code",
   "execution_count": 25,
   "id": "91444490",
   "metadata": {
    "execution": {
     "iopub.execute_input": "2024-03-23T16:20:44.467286Z",
     "iopub.status.busy": "2024-03-23T16:20:44.466608Z",
     "iopub.status.idle": "2024-03-23T16:20:44.487475Z",
     "shell.execute_reply": "2024-03-23T16:20:44.486432Z"
    },
    "papermill": {
     "duration": 0.043722,
     "end_time": "2024-03-23T16:20:44.489829",
     "exception": false,
     "start_time": "2024-03-23T16:20:44.446107",
     "status": "completed"
    },
    "tags": []
   },
   "outputs": [
    {
     "data": {
      "text/html": [
       "<div>\n",
       "<style scoped>\n",
       "    .dataframe tbody tr th:only-of-type {\n",
       "        vertical-align: middle;\n",
       "    }\n",
       "\n",
       "    .dataframe tbody tr th {\n",
       "        vertical-align: top;\n",
       "    }\n",
       "\n",
       "    .dataframe thead th {\n",
       "        text-align: right;\n",
       "    }\n",
       "</style>\n",
       "<table border=\"1\" class=\"dataframe\">\n",
       "  <thead>\n",
       "    <tr style=\"text-align: right;\">\n",
       "      <th></th>\n",
       "      <th>Posted On</th>\n",
       "      <th>BHK</th>\n",
       "      <th>Rent</th>\n",
       "      <th>Size</th>\n",
       "      <th>City</th>\n",
       "      <th>Furnishing Status</th>\n",
       "      <th>Tenant Preferred</th>\n",
       "      <th>Bathroom</th>\n",
       "      <th>Built Area</th>\n",
       "      <th>Carpet Area</th>\n",
       "      <th>Super Area</th>\n",
       "    </tr>\n",
       "  </thead>\n",
       "  <tbody>\n",
       "    <tr>\n",
       "      <th>0</th>\n",
       "      <td>2022-05-18</td>\n",
       "      <td>2</td>\n",
       "      <td>0.002515</td>\n",
       "      <td>0.155937</td>\n",
       "      <td>Kolkata</td>\n",
       "      <td>Unfurnished</td>\n",
       "      <td>Bachelors/Family</td>\n",
       "      <td>2</td>\n",
       "      <td>0</td>\n",
       "      <td>0</td>\n",
       "      <td>1</td>\n",
       "    </tr>\n",
       "    <tr>\n",
       "      <th>1</th>\n",
       "      <td>2022-05-13</td>\n",
       "      <td>2</td>\n",
       "      <td>0.005373</td>\n",
       "      <td>0.113019</td>\n",
       "      <td>Kolkata</td>\n",
       "      <td>Semi-Furnished</td>\n",
       "      <td>Bachelors/Family</td>\n",
       "      <td>1</td>\n",
       "      <td>0</td>\n",
       "      <td>0</td>\n",
       "      <td>1</td>\n",
       "    </tr>\n",
       "    <tr>\n",
       "      <th>2</th>\n",
       "      <td>2022-05-16</td>\n",
       "      <td>2</td>\n",
       "      <td>0.004516</td>\n",
       "      <td>0.141631</td>\n",
       "      <td>Kolkata</td>\n",
       "      <td>Semi-Furnished</td>\n",
       "      <td>Bachelors/Family</td>\n",
       "      <td>1</td>\n",
       "      <td>0</td>\n",
       "      <td>0</td>\n",
       "      <td>1</td>\n",
       "    </tr>\n",
       "    <tr>\n",
       "      <th>3</th>\n",
       "      <td>2022-07-04</td>\n",
       "      <td>2</td>\n",
       "      <td>0.002515</td>\n",
       "      <td>0.113019</td>\n",
       "      <td>Kolkata</td>\n",
       "      <td>Unfurnished</td>\n",
       "      <td>Bachelors/Family</td>\n",
       "      <td>1</td>\n",
       "      <td>0</td>\n",
       "      <td>0</td>\n",
       "      <td>1</td>\n",
       "    </tr>\n",
       "    <tr>\n",
       "      <th>4</th>\n",
       "      <td>2022-05-09</td>\n",
       "      <td>2</td>\n",
       "      <td>0.001801</td>\n",
       "      <td>0.120172</td>\n",
       "      <td>Kolkata</td>\n",
       "      <td>Unfurnished</td>\n",
       "      <td>Bachelors</td>\n",
       "      <td>1</td>\n",
       "      <td>0</td>\n",
       "      <td>1</td>\n",
       "      <td>0</td>\n",
       "    </tr>\n",
       "    <tr>\n",
       "      <th>...</th>\n",
       "      <td>...</td>\n",
       "      <td>...</td>\n",
       "      <td>...</td>\n",
       "      <td>...</td>\n",
       "      <td>...</td>\n",
       "      <td>...</td>\n",
       "      <td>...</td>\n",
       "      <td>...</td>\n",
       "      <td>...</td>\n",
       "      <td>...</td>\n",
       "      <td>...</td>\n",
       "    </tr>\n",
       "    <tr>\n",
       "      <th>4741</th>\n",
       "      <td>2022-05-18</td>\n",
       "      <td>2</td>\n",
       "      <td>0.003944</td>\n",
       "      <td>0.141631</td>\n",
       "      <td>Hyderabad</td>\n",
       "      <td>Semi-Furnished</td>\n",
       "      <td>Bachelors/Family</td>\n",
       "      <td>2</td>\n",
       "      <td>0</td>\n",
       "      <td>1</td>\n",
       "      <td>0</td>\n",
       "    </tr>\n",
       "    <tr>\n",
       "      <th>4742</th>\n",
       "      <td>2022-05-15</td>\n",
       "      <td>3</td>\n",
       "      <td>0.007946</td>\n",
       "      <td>0.284692</td>\n",
       "      <td>Hyderabad</td>\n",
       "      <td>Semi-Furnished</td>\n",
       "      <td>Bachelors/Family</td>\n",
       "      <td>3</td>\n",
       "      <td>0</td>\n",
       "      <td>0</td>\n",
       "      <td>1</td>\n",
       "    </tr>\n",
       "    <tr>\n",
       "      <th>4743</th>\n",
       "      <td>2022-07-10</td>\n",
       "      <td>3</td>\n",
       "      <td>0.009660</td>\n",
       "      <td>0.248927</td>\n",
       "      <td>Hyderabad</td>\n",
       "      <td>Semi-Furnished</td>\n",
       "      <td>Bachelors/Family</td>\n",
       "      <td>3</td>\n",
       "      <td>0</td>\n",
       "      <td>1</td>\n",
       "      <td>0</td>\n",
       "    </tr>\n",
       "    <tr>\n",
       "      <th>4744</th>\n",
       "      <td>2022-07-06</td>\n",
       "      <td>3</td>\n",
       "      <td>0.012519</td>\n",
       "      <td>0.213162</td>\n",
       "      <td>Hyderabad</td>\n",
       "      <td>Semi-Furnished</td>\n",
       "      <td>Family</td>\n",
       "      <td>2</td>\n",
       "      <td>0</td>\n",
       "      <td>1</td>\n",
       "      <td>0</td>\n",
       "    </tr>\n",
       "    <tr>\n",
       "      <th>4745</th>\n",
       "      <td>2022-05-04</td>\n",
       "      <td>2</td>\n",
       "      <td>0.003944</td>\n",
       "      <td>0.141631</td>\n",
       "      <td>Hyderabad</td>\n",
       "      <td>Unfurnished</td>\n",
       "      <td>Bachelors</td>\n",
       "      <td>2</td>\n",
       "      <td>0</td>\n",
       "      <td>1</td>\n",
       "      <td>0</td>\n",
       "    </tr>\n",
       "  </tbody>\n",
       "</table>\n",
       "<p>4744 rows × 11 columns</p>\n",
       "</div>"
      ],
      "text/plain": [
       "       Posted On  BHK      Rent      Size       City Furnishing Status  \\\n",
       "0     2022-05-18    2  0.002515  0.155937    Kolkata       Unfurnished   \n",
       "1     2022-05-13    2  0.005373  0.113019    Kolkata    Semi-Furnished   \n",
       "2     2022-05-16    2  0.004516  0.141631    Kolkata    Semi-Furnished   \n",
       "3     2022-07-04    2  0.002515  0.113019    Kolkata       Unfurnished   \n",
       "4     2022-05-09    2  0.001801  0.120172    Kolkata       Unfurnished   \n",
       "...          ...  ...       ...       ...        ...               ...   \n",
       "4741  2022-05-18    2  0.003944  0.141631  Hyderabad    Semi-Furnished   \n",
       "4742  2022-05-15    3  0.007946  0.284692  Hyderabad    Semi-Furnished   \n",
       "4743  2022-07-10    3  0.009660  0.248927  Hyderabad    Semi-Furnished   \n",
       "4744  2022-07-06    3  0.012519  0.213162  Hyderabad    Semi-Furnished   \n",
       "4745  2022-05-04    2  0.003944  0.141631  Hyderabad       Unfurnished   \n",
       "\n",
       "      Tenant Preferred  Bathroom  Built Area  Carpet Area  Super Area  \n",
       "0     Bachelors/Family         2           0            0           1  \n",
       "1     Bachelors/Family         1           0            0           1  \n",
       "2     Bachelors/Family         1           0            0           1  \n",
       "3     Bachelors/Family         1           0            0           1  \n",
       "4            Bachelors         1           0            1           0  \n",
       "...                ...       ...         ...          ...         ...  \n",
       "4741  Bachelors/Family         2           0            1           0  \n",
       "4742  Bachelors/Family         3           0            0           1  \n",
       "4743  Bachelors/Family         3           0            1           0  \n",
       "4744            Family         2           0            1           0  \n",
       "4745         Bachelors         2           0            1           0  \n",
       "\n",
       "[4744 rows x 11 columns]"
      ]
     },
     "execution_count": 25,
     "metadata": {},
     "output_type": "execute_result"
    }
   ],
   "source": [
    "df['Built Area'] = df['Built Area'].astype(int)\n",
    "df['Carpet Area'] =df['Carpet Area'].astype(int)\n",
    "df['Super Area'] = df['Super Area'].astype(int)\n",
    "df"
   ]
  },
  {
   "cell_type": "code",
   "execution_count": 26,
   "id": "7cc70858",
   "metadata": {
    "execution": {
     "iopub.execute_input": "2024-03-23T16:20:44.531534Z",
     "iopub.status.busy": "2024-03-23T16:20:44.530635Z",
     "iopub.status.idle": "2024-03-23T16:20:44.556279Z",
     "shell.execute_reply": "2024-03-23T16:20:44.555459Z"
    },
    "papermill": {
     "duration": 0.048824,
     "end_time": "2024-03-23T16:20:44.558342",
     "exception": false,
     "start_time": "2024-03-23T16:20:44.509518",
     "status": "completed"
    },
    "tags": []
   },
   "outputs": [
    {
     "data": {
      "text/html": [
       "<div>\n",
       "<style scoped>\n",
       "    .dataframe tbody tr th:only-of-type {\n",
       "        vertical-align: middle;\n",
       "    }\n",
       "\n",
       "    .dataframe tbody tr th {\n",
       "        vertical-align: top;\n",
       "    }\n",
       "\n",
       "    .dataframe thead th {\n",
       "        text-align: right;\n",
       "    }\n",
       "</style>\n",
       "<table border=\"1\" class=\"dataframe\">\n",
       "  <thead>\n",
       "    <tr style=\"text-align: right;\">\n",
       "      <th></th>\n",
       "      <th>Posted On</th>\n",
       "      <th>BHK</th>\n",
       "      <th>Rent</th>\n",
       "      <th>Size</th>\n",
       "      <th>City</th>\n",
       "      <th>Tenant Preferred</th>\n",
       "      <th>Bathroom</th>\n",
       "      <th>Built Area</th>\n",
       "      <th>Carpet Area</th>\n",
       "      <th>Super Area</th>\n",
       "      <th>Furnished</th>\n",
       "      <th>Semi-Furnished</th>\n",
       "      <th>Unfurnished</th>\n",
       "    </tr>\n",
       "  </thead>\n",
       "  <tbody>\n",
       "    <tr>\n",
       "      <th>0</th>\n",
       "      <td>2022-05-18</td>\n",
       "      <td>2</td>\n",
       "      <td>0.002515</td>\n",
       "      <td>0.155937</td>\n",
       "      <td>Kolkata</td>\n",
       "      <td>Bachelors/Family</td>\n",
       "      <td>2</td>\n",
       "      <td>0</td>\n",
       "      <td>0</td>\n",
       "      <td>1</td>\n",
       "      <td>False</td>\n",
       "      <td>False</td>\n",
       "      <td>True</td>\n",
       "    </tr>\n",
       "    <tr>\n",
       "      <th>1</th>\n",
       "      <td>2022-05-13</td>\n",
       "      <td>2</td>\n",
       "      <td>0.005373</td>\n",
       "      <td>0.113019</td>\n",
       "      <td>Kolkata</td>\n",
       "      <td>Bachelors/Family</td>\n",
       "      <td>1</td>\n",
       "      <td>0</td>\n",
       "      <td>0</td>\n",
       "      <td>1</td>\n",
       "      <td>False</td>\n",
       "      <td>True</td>\n",
       "      <td>False</td>\n",
       "    </tr>\n",
       "    <tr>\n",
       "      <th>2</th>\n",
       "      <td>2022-05-16</td>\n",
       "      <td>2</td>\n",
       "      <td>0.004516</td>\n",
       "      <td>0.141631</td>\n",
       "      <td>Kolkata</td>\n",
       "      <td>Bachelors/Family</td>\n",
       "      <td>1</td>\n",
       "      <td>0</td>\n",
       "      <td>0</td>\n",
       "      <td>1</td>\n",
       "      <td>False</td>\n",
       "      <td>True</td>\n",
       "      <td>False</td>\n",
       "    </tr>\n",
       "    <tr>\n",
       "      <th>3</th>\n",
       "      <td>2022-07-04</td>\n",
       "      <td>2</td>\n",
       "      <td>0.002515</td>\n",
       "      <td>0.113019</td>\n",
       "      <td>Kolkata</td>\n",
       "      <td>Bachelors/Family</td>\n",
       "      <td>1</td>\n",
       "      <td>0</td>\n",
       "      <td>0</td>\n",
       "      <td>1</td>\n",
       "      <td>False</td>\n",
       "      <td>False</td>\n",
       "      <td>True</td>\n",
       "    </tr>\n",
       "    <tr>\n",
       "      <th>4</th>\n",
       "      <td>2022-05-09</td>\n",
       "      <td>2</td>\n",
       "      <td>0.001801</td>\n",
       "      <td>0.120172</td>\n",
       "      <td>Kolkata</td>\n",
       "      <td>Bachelors</td>\n",
       "      <td>1</td>\n",
       "      <td>0</td>\n",
       "      <td>1</td>\n",
       "      <td>0</td>\n",
       "      <td>False</td>\n",
       "      <td>False</td>\n",
       "      <td>True</td>\n",
       "    </tr>\n",
       "    <tr>\n",
       "      <th>...</th>\n",
       "      <td>...</td>\n",
       "      <td>...</td>\n",
       "      <td>...</td>\n",
       "      <td>...</td>\n",
       "      <td>...</td>\n",
       "      <td>...</td>\n",
       "      <td>...</td>\n",
       "      <td>...</td>\n",
       "      <td>...</td>\n",
       "      <td>...</td>\n",
       "      <td>...</td>\n",
       "      <td>...</td>\n",
       "      <td>...</td>\n",
       "    </tr>\n",
       "    <tr>\n",
       "      <th>4741</th>\n",
       "      <td>2022-05-18</td>\n",
       "      <td>2</td>\n",
       "      <td>0.003944</td>\n",
       "      <td>0.141631</td>\n",
       "      <td>Hyderabad</td>\n",
       "      <td>Bachelors/Family</td>\n",
       "      <td>2</td>\n",
       "      <td>0</td>\n",
       "      <td>1</td>\n",
       "      <td>0</td>\n",
       "      <td>False</td>\n",
       "      <td>True</td>\n",
       "      <td>False</td>\n",
       "    </tr>\n",
       "    <tr>\n",
       "      <th>4742</th>\n",
       "      <td>2022-05-15</td>\n",
       "      <td>3</td>\n",
       "      <td>0.007946</td>\n",
       "      <td>0.284692</td>\n",
       "      <td>Hyderabad</td>\n",
       "      <td>Bachelors/Family</td>\n",
       "      <td>3</td>\n",
       "      <td>0</td>\n",
       "      <td>0</td>\n",
       "      <td>1</td>\n",
       "      <td>False</td>\n",
       "      <td>True</td>\n",
       "      <td>False</td>\n",
       "    </tr>\n",
       "    <tr>\n",
       "      <th>4743</th>\n",
       "      <td>2022-07-10</td>\n",
       "      <td>3</td>\n",
       "      <td>0.009660</td>\n",
       "      <td>0.248927</td>\n",
       "      <td>Hyderabad</td>\n",
       "      <td>Bachelors/Family</td>\n",
       "      <td>3</td>\n",
       "      <td>0</td>\n",
       "      <td>1</td>\n",
       "      <td>0</td>\n",
       "      <td>False</td>\n",
       "      <td>True</td>\n",
       "      <td>False</td>\n",
       "    </tr>\n",
       "    <tr>\n",
       "      <th>4744</th>\n",
       "      <td>2022-07-06</td>\n",
       "      <td>3</td>\n",
       "      <td>0.012519</td>\n",
       "      <td>0.213162</td>\n",
       "      <td>Hyderabad</td>\n",
       "      <td>Family</td>\n",
       "      <td>2</td>\n",
       "      <td>0</td>\n",
       "      <td>1</td>\n",
       "      <td>0</td>\n",
       "      <td>False</td>\n",
       "      <td>True</td>\n",
       "      <td>False</td>\n",
       "    </tr>\n",
       "    <tr>\n",
       "      <th>4745</th>\n",
       "      <td>2022-05-04</td>\n",
       "      <td>2</td>\n",
       "      <td>0.003944</td>\n",
       "      <td>0.141631</td>\n",
       "      <td>Hyderabad</td>\n",
       "      <td>Bachelors</td>\n",
       "      <td>2</td>\n",
       "      <td>0</td>\n",
       "      <td>1</td>\n",
       "      <td>0</td>\n",
       "      <td>False</td>\n",
       "      <td>False</td>\n",
       "      <td>True</td>\n",
       "    </tr>\n",
       "  </tbody>\n",
       "</table>\n",
       "<p>4744 rows × 13 columns</p>\n",
       "</div>"
      ],
      "text/plain": [
       "       Posted On  BHK      Rent      Size       City  Tenant Preferred  \\\n",
       "0     2022-05-18    2  0.002515  0.155937    Kolkata  Bachelors/Family   \n",
       "1     2022-05-13    2  0.005373  0.113019    Kolkata  Bachelors/Family   \n",
       "2     2022-05-16    2  0.004516  0.141631    Kolkata  Bachelors/Family   \n",
       "3     2022-07-04    2  0.002515  0.113019    Kolkata  Bachelors/Family   \n",
       "4     2022-05-09    2  0.001801  0.120172    Kolkata         Bachelors   \n",
       "...          ...  ...       ...       ...        ...               ...   \n",
       "4741  2022-05-18    2  0.003944  0.141631  Hyderabad  Bachelors/Family   \n",
       "4742  2022-05-15    3  0.007946  0.284692  Hyderabad  Bachelors/Family   \n",
       "4743  2022-07-10    3  0.009660  0.248927  Hyderabad  Bachelors/Family   \n",
       "4744  2022-07-06    3  0.012519  0.213162  Hyderabad            Family   \n",
       "4745  2022-05-04    2  0.003944  0.141631  Hyderabad         Bachelors   \n",
       "\n",
       "      Bathroom  Built Area  Carpet Area  Super Area  Furnished  \\\n",
       "0            2           0            0           1      False   \n",
       "1            1           0            0           1      False   \n",
       "2            1           0            0           1      False   \n",
       "3            1           0            0           1      False   \n",
       "4            1           0            1           0      False   \n",
       "...        ...         ...          ...         ...        ...   \n",
       "4741         2           0            1           0      False   \n",
       "4742         3           0            0           1      False   \n",
       "4743         3           0            1           0      False   \n",
       "4744         2           0            1           0      False   \n",
       "4745         2           0            1           0      False   \n",
       "\n",
       "      Semi-Furnished  Unfurnished  \n",
       "0              False         True  \n",
       "1               True        False  \n",
       "2               True        False  \n",
       "3              False         True  \n",
       "4              False         True  \n",
       "...              ...          ...  \n",
       "4741            True        False  \n",
       "4742            True        False  \n",
       "4743            True        False  \n",
       "4744            True        False  \n",
       "4745           False         True  \n",
       "\n",
       "[4744 rows x 13 columns]"
      ]
     },
     "execution_count": 26,
     "metadata": {},
     "output_type": "execute_result"
    }
   ],
   "source": [
    "df1 = pd.get_dummies(df['Furnishing Status'])\n",
    "df = pd.concat([df, df1], axis=1).reindex(df.index)\n",
    "df.drop('Furnishing Status', axis=1, inplace=True)\n",
    "df"
   ]
  },
  {
   "cell_type": "code",
   "execution_count": 27,
   "id": "5b2b79f6",
   "metadata": {
    "execution": {
     "iopub.execute_input": "2024-03-23T16:20:44.598268Z",
     "iopub.status.busy": "2024-03-23T16:20:44.597626Z",
     "iopub.status.idle": "2024-03-23T16:20:44.618732Z",
     "shell.execute_reply": "2024-03-23T16:20:44.617634Z"
    },
    "papermill": {
     "duration": 0.04377,
     "end_time": "2024-03-23T16:20:44.621076",
     "exception": false,
     "start_time": "2024-03-23T16:20:44.577306",
     "status": "completed"
    },
    "tags": []
   },
   "outputs": [
    {
     "data": {
      "text/html": [
       "<div>\n",
       "<style scoped>\n",
       "    .dataframe tbody tr th:only-of-type {\n",
       "        vertical-align: middle;\n",
       "    }\n",
       "\n",
       "    .dataframe tbody tr th {\n",
       "        vertical-align: top;\n",
       "    }\n",
       "\n",
       "    .dataframe thead th {\n",
       "        text-align: right;\n",
       "    }\n",
       "</style>\n",
       "<table border=\"1\" class=\"dataframe\">\n",
       "  <thead>\n",
       "    <tr style=\"text-align: right;\">\n",
       "      <th></th>\n",
       "      <th>Posted On</th>\n",
       "      <th>BHK</th>\n",
       "      <th>Rent</th>\n",
       "      <th>Size</th>\n",
       "      <th>City</th>\n",
       "      <th>Tenant Preferred</th>\n",
       "      <th>Bathroom</th>\n",
       "      <th>Built Area</th>\n",
       "      <th>Carpet Area</th>\n",
       "      <th>Super Area</th>\n",
       "      <th>Furnished</th>\n",
       "      <th>Semi-Furnished</th>\n",
       "      <th>Unfurnished</th>\n",
       "    </tr>\n",
       "  </thead>\n",
       "  <tbody>\n",
       "    <tr>\n",
       "      <th>0</th>\n",
       "      <td>2022-05-18</td>\n",
       "      <td>2</td>\n",
       "      <td>0.002515</td>\n",
       "      <td>0.155937</td>\n",
       "      <td>Kolkata</td>\n",
       "      <td>Bachelors/Family</td>\n",
       "      <td>2</td>\n",
       "      <td>0</td>\n",
       "      <td>0</td>\n",
       "      <td>1</td>\n",
       "      <td>0</td>\n",
       "      <td>0</td>\n",
       "      <td>1</td>\n",
       "    </tr>\n",
       "    <tr>\n",
       "      <th>1</th>\n",
       "      <td>2022-05-13</td>\n",
       "      <td>2</td>\n",
       "      <td>0.005373</td>\n",
       "      <td>0.113019</td>\n",
       "      <td>Kolkata</td>\n",
       "      <td>Bachelors/Family</td>\n",
       "      <td>1</td>\n",
       "      <td>0</td>\n",
       "      <td>0</td>\n",
       "      <td>1</td>\n",
       "      <td>0</td>\n",
       "      <td>1</td>\n",
       "      <td>0</td>\n",
       "    </tr>\n",
       "    <tr>\n",
       "      <th>2</th>\n",
       "      <td>2022-05-16</td>\n",
       "      <td>2</td>\n",
       "      <td>0.004516</td>\n",
       "      <td>0.141631</td>\n",
       "      <td>Kolkata</td>\n",
       "      <td>Bachelors/Family</td>\n",
       "      <td>1</td>\n",
       "      <td>0</td>\n",
       "      <td>0</td>\n",
       "      <td>1</td>\n",
       "      <td>0</td>\n",
       "      <td>1</td>\n",
       "      <td>0</td>\n",
       "    </tr>\n",
       "    <tr>\n",
       "      <th>3</th>\n",
       "      <td>2022-07-04</td>\n",
       "      <td>2</td>\n",
       "      <td>0.002515</td>\n",
       "      <td>0.113019</td>\n",
       "      <td>Kolkata</td>\n",
       "      <td>Bachelors/Family</td>\n",
       "      <td>1</td>\n",
       "      <td>0</td>\n",
       "      <td>0</td>\n",
       "      <td>1</td>\n",
       "      <td>0</td>\n",
       "      <td>0</td>\n",
       "      <td>1</td>\n",
       "    </tr>\n",
       "    <tr>\n",
       "      <th>4</th>\n",
       "      <td>2022-05-09</td>\n",
       "      <td>2</td>\n",
       "      <td>0.001801</td>\n",
       "      <td>0.120172</td>\n",
       "      <td>Kolkata</td>\n",
       "      <td>Bachelors</td>\n",
       "      <td>1</td>\n",
       "      <td>0</td>\n",
       "      <td>1</td>\n",
       "      <td>0</td>\n",
       "      <td>0</td>\n",
       "      <td>0</td>\n",
       "      <td>1</td>\n",
       "    </tr>\n",
       "    <tr>\n",
       "      <th>...</th>\n",
       "      <td>...</td>\n",
       "      <td>...</td>\n",
       "      <td>...</td>\n",
       "      <td>...</td>\n",
       "      <td>...</td>\n",
       "      <td>...</td>\n",
       "      <td>...</td>\n",
       "      <td>...</td>\n",
       "      <td>...</td>\n",
       "      <td>...</td>\n",
       "      <td>...</td>\n",
       "      <td>...</td>\n",
       "      <td>...</td>\n",
       "    </tr>\n",
       "    <tr>\n",
       "      <th>4741</th>\n",
       "      <td>2022-05-18</td>\n",
       "      <td>2</td>\n",
       "      <td>0.003944</td>\n",
       "      <td>0.141631</td>\n",
       "      <td>Hyderabad</td>\n",
       "      <td>Bachelors/Family</td>\n",
       "      <td>2</td>\n",
       "      <td>0</td>\n",
       "      <td>1</td>\n",
       "      <td>0</td>\n",
       "      <td>0</td>\n",
       "      <td>1</td>\n",
       "      <td>0</td>\n",
       "    </tr>\n",
       "    <tr>\n",
       "      <th>4742</th>\n",
       "      <td>2022-05-15</td>\n",
       "      <td>3</td>\n",
       "      <td>0.007946</td>\n",
       "      <td>0.284692</td>\n",
       "      <td>Hyderabad</td>\n",
       "      <td>Bachelors/Family</td>\n",
       "      <td>3</td>\n",
       "      <td>0</td>\n",
       "      <td>0</td>\n",
       "      <td>1</td>\n",
       "      <td>0</td>\n",
       "      <td>1</td>\n",
       "      <td>0</td>\n",
       "    </tr>\n",
       "    <tr>\n",
       "      <th>4743</th>\n",
       "      <td>2022-07-10</td>\n",
       "      <td>3</td>\n",
       "      <td>0.009660</td>\n",
       "      <td>0.248927</td>\n",
       "      <td>Hyderabad</td>\n",
       "      <td>Bachelors/Family</td>\n",
       "      <td>3</td>\n",
       "      <td>0</td>\n",
       "      <td>1</td>\n",
       "      <td>0</td>\n",
       "      <td>0</td>\n",
       "      <td>1</td>\n",
       "      <td>0</td>\n",
       "    </tr>\n",
       "    <tr>\n",
       "      <th>4744</th>\n",
       "      <td>2022-07-06</td>\n",
       "      <td>3</td>\n",
       "      <td>0.012519</td>\n",
       "      <td>0.213162</td>\n",
       "      <td>Hyderabad</td>\n",
       "      <td>Family</td>\n",
       "      <td>2</td>\n",
       "      <td>0</td>\n",
       "      <td>1</td>\n",
       "      <td>0</td>\n",
       "      <td>0</td>\n",
       "      <td>1</td>\n",
       "      <td>0</td>\n",
       "    </tr>\n",
       "    <tr>\n",
       "      <th>4745</th>\n",
       "      <td>2022-05-04</td>\n",
       "      <td>2</td>\n",
       "      <td>0.003944</td>\n",
       "      <td>0.141631</td>\n",
       "      <td>Hyderabad</td>\n",
       "      <td>Bachelors</td>\n",
       "      <td>2</td>\n",
       "      <td>0</td>\n",
       "      <td>1</td>\n",
       "      <td>0</td>\n",
       "      <td>0</td>\n",
       "      <td>0</td>\n",
       "      <td>1</td>\n",
       "    </tr>\n",
       "  </tbody>\n",
       "</table>\n",
       "<p>4744 rows × 13 columns</p>\n",
       "</div>"
      ],
      "text/plain": [
       "       Posted On  BHK      Rent      Size       City  Tenant Preferred  \\\n",
       "0     2022-05-18    2  0.002515  0.155937    Kolkata  Bachelors/Family   \n",
       "1     2022-05-13    2  0.005373  0.113019    Kolkata  Bachelors/Family   \n",
       "2     2022-05-16    2  0.004516  0.141631    Kolkata  Bachelors/Family   \n",
       "3     2022-07-04    2  0.002515  0.113019    Kolkata  Bachelors/Family   \n",
       "4     2022-05-09    2  0.001801  0.120172    Kolkata         Bachelors   \n",
       "...          ...  ...       ...       ...        ...               ...   \n",
       "4741  2022-05-18    2  0.003944  0.141631  Hyderabad  Bachelors/Family   \n",
       "4742  2022-05-15    3  0.007946  0.284692  Hyderabad  Bachelors/Family   \n",
       "4743  2022-07-10    3  0.009660  0.248927  Hyderabad  Bachelors/Family   \n",
       "4744  2022-07-06    3  0.012519  0.213162  Hyderabad            Family   \n",
       "4745  2022-05-04    2  0.003944  0.141631  Hyderabad         Bachelors   \n",
       "\n",
       "      Bathroom  Built Area  Carpet Area  Super Area  Furnished  \\\n",
       "0            2           0            0           1          0   \n",
       "1            1           0            0           1          0   \n",
       "2            1           0            0           1          0   \n",
       "3            1           0            0           1          0   \n",
       "4            1           0            1           0          0   \n",
       "...        ...         ...          ...         ...        ...   \n",
       "4741         2           0            1           0          0   \n",
       "4742         3           0            0           1          0   \n",
       "4743         3           0            1           0          0   \n",
       "4744         2           0            1           0          0   \n",
       "4745         2           0            1           0          0   \n",
       "\n",
       "      Semi-Furnished  Unfurnished  \n",
       "0                  0            1  \n",
       "1                  1            0  \n",
       "2                  1            0  \n",
       "3                  0            1  \n",
       "4                  0            1  \n",
       "...              ...          ...  \n",
       "4741               1            0  \n",
       "4742               1            0  \n",
       "4743               1            0  \n",
       "4744               1            0  \n",
       "4745               0            1  \n",
       "\n",
       "[4744 rows x 13 columns]"
      ]
     },
     "execution_count": 27,
     "metadata": {},
     "output_type": "execute_result"
    }
   ],
   "source": [
    "df['Furnished'] = df['Furnished'].astype(int)\n",
    "df['Semi-Furnished'] =df['Semi-Furnished'].astype(int)\n",
    "df['Unfurnished'] = df['Unfurnished'].astype(int)\n",
    "df"
   ]
  },
  {
   "cell_type": "code",
   "execution_count": 28,
   "id": "41d7e9ba",
   "metadata": {
    "execution": {
     "iopub.execute_input": "2024-03-23T16:20:44.661936Z",
     "iopub.status.busy": "2024-03-23T16:20:44.660857Z",
     "iopub.status.idle": "2024-03-23T16:20:44.689003Z",
     "shell.execute_reply": "2024-03-23T16:20:44.687695Z"
    },
    "papermill": {
     "duration": 0.051439,
     "end_time": "2024-03-23T16:20:44.691594",
     "exception": false,
     "start_time": "2024-03-23T16:20:44.640155",
     "status": "completed"
    },
    "tags": []
   },
   "outputs": [
    {
     "data": {
      "text/html": [
       "<div>\n",
       "<style scoped>\n",
       "    .dataframe tbody tr th:only-of-type {\n",
       "        vertical-align: middle;\n",
       "    }\n",
       "\n",
       "    .dataframe tbody tr th {\n",
       "        vertical-align: top;\n",
       "    }\n",
       "\n",
       "    .dataframe thead th {\n",
       "        text-align: right;\n",
       "    }\n",
       "</style>\n",
       "<table border=\"1\" class=\"dataframe\">\n",
       "  <thead>\n",
       "    <tr style=\"text-align: right;\">\n",
       "      <th></th>\n",
       "      <th>Posted On</th>\n",
       "      <th>BHK</th>\n",
       "      <th>Rent</th>\n",
       "      <th>Size</th>\n",
       "      <th>City</th>\n",
       "      <th>Bathroom</th>\n",
       "      <th>Built Area</th>\n",
       "      <th>Carpet Area</th>\n",
       "      <th>Super Area</th>\n",
       "      <th>Furnished</th>\n",
       "      <th>Semi-Furnished</th>\n",
       "      <th>Unfurnished</th>\n",
       "      <th>Bachelors</th>\n",
       "      <th>Bachelors/Family</th>\n",
       "      <th>Family</th>\n",
       "    </tr>\n",
       "  </thead>\n",
       "  <tbody>\n",
       "    <tr>\n",
       "      <th>0</th>\n",
       "      <td>2022-05-18</td>\n",
       "      <td>2</td>\n",
       "      <td>0.002515</td>\n",
       "      <td>0.155937</td>\n",
       "      <td>Kolkata</td>\n",
       "      <td>2</td>\n",
       "      <td>0</td>\n",
       "      <td>0</td>\n",
       "      <td>1</td>\n",
       "      <td>0</td>\n",
       "      <td>0</td>\n",
       "      <td>1</td>\n",
       "      <td>0</td>\n",
       "      <td>1</td>\n",
       "      <td>0</td>\n",
       "    </tr>\n",
       "    <tr>\n",
       "      <th>1</th>\n",
       "      <td>2022-05-13</td>\n",
       "      <td>2</td>\n",
       "      <td>0.005373</td>\n",
       "      <td>0.113019</td>\n",
       "      <td>Kolkata</td>\n",
       "      <td>1</td>\n",
       "      <td>0</td>\n",
       "      <td>0</td>\n",
       "      <td>1</td>\n",
       "      <td>0</td>\n",
       "      <td>1</td>\n",
       "      <td>0</td>\n",
       "      <td>0</td>\n",
       "      <td>1</td>\n",
       "      <td>0</td>\n",
       "    </tr>\n",
       "    <tr>\n",
       "      <th>2</th>\n",
       "      <td>2022-05-16</td>\n",
       "      <td>2</td>\n",
       "      <td>0.004516</td>\n",
       "      <td>0.141631</td>\n",
       "      <td>Kolkata</td>\n",
       "      <td>1</td>\n",
       "      <td>0</td>\n",
       "      <td>0</td>\n",
       "      <td>1</td>\n",
       "      <td>0</td>\n",
       "      <td>1</td>\n",
       "      <td>0</td>\n",
       "      <td>0</td>\n",
       "      <td>1</td>\n",
       "      <td>0</td>\n",
       "    </tr>\n",
       "    <tr>\n",
       "      <th>3</th>\n",
       "      <td>2022-07-04</td>\n",
       "      <td>2</td>\n",
       "      <td>0.002515</td>\n",
       "      <td>0.113019</td>\n",
       "      <td>Kolkata</td>\n",
       "      <td>1</td>\n",
       "      <td>0</td>\n",
       "      <td>0</td>\n",
       "      <td>1</td>\n",
       "      <td>0</td>\n",
       "      <td>0</td>\n",
       "      <td>1</td>\n",
       "      <td>0</td>\n",
       "      <td>1</td>\n",
       "      <td>0</td>\n",
       "    </tr>\n",
       "    <tr>\n",
       "      <th>4</th>\n",
       "      <td>2022-05-09</td>\n",
       "      <td>2</td>\n",
       "      <td>0.001801</td>\n",
       "      <td>0.120172</td>\n",
       "      <td>Kolkata</td>\n",
       "      <td>1</td>\n",
       "      <td>0</td>\n",
       "      <td>1</td>\n",
       "      <td>0</td>\n",
       "      <td>0</td>\n",
       "      <td>0</td>\n",
       "      <td>1</td>\n",
       "      <td>1</td>\n",
       "      <td>0</td>\n",
       "      <td>0</td>\n",
       "    </tr>\n",
       "    <tr>\n",
       "      <th>...</th>\n",
       "      <td>...</td>\n",
       "      <td>...</td>\n",
       "      <td>...</td>\n",
       "      <td>...</td>\n",
       "      <td>...</td>\n",
       "      <td>...</td>\n",
       "      <td>...</td>\n",
       "      <td>...</td>\n",
       "      <td>...</td>\n",
       "      <td>...</td>\n",
       "      <td>...</td>\n",
       "      <td>...</td>\n",
       "      <td>...</td>\n",
       "      <td>...</td>\n",
       "      <td>...</td>\n",
       "    </tr>\n",
       "    <tr>\n",
       "      <th>4741</th>\n",
       "      <td>2022-05-18</td>\n",
       "      <td>2</td>\n",
       "      <td>0.003944</td>\n",
       "      <td>0.141631</td>\n",
       "      <td>Hyderabad</td>\n",
       "      <td>2</td>\n",
       "      <td>0</td>\n",
       "      <td>1</td>\n",
       "      <td>0</td>\n",
       "      <td>0</td>\n",
       "      <td>1</td>\n",
       "      <td>0</td>\n",
       "      <td>0</td>\n",
       "      <td>1</td>\n",
       "      <td>0</td>\n",
       "    </tr>\n",
       "    <tr>\n",
       "      <th>4742</th>\n",
       "      <td>2022-05-15</td>\n",
       "      <td>3</td>\n",
       "      <td>0.007946</td>\n",
       "      <td>0.284692</td>\n",
       "      <td>Hyderabad</td>\n",
       "      <td>3</td>\n",
       "      <td>0</td>\n",
       "      <td>0</td>\n",
       "      <td>1</td>\n",
       "      <td>0</td>\n",
       "      <td>1</td>\n",
       "      <td>0</td>\n",
       "      <td>0</td>\n",
       "      <td>1</td>\n",
       "      <td>0</td>\n",
       "    </tr>\n",
       "    <tr>\n",
       "      <th>4743</th>\n",
       "      <td>2022-07-10</td>\n",
       "      <td>3</td>\n",
       "      <td>0.009660</td>\n",
       "      <td>0.248927</td>\n",
       "      <td>Hyderabad</td>\n",
       "      <td>3</td>\n",
       "      <td>0</td>\n",
       "      <td>1</td>\n",
       "      <td>0</td>\n",
       "      <td>0</td>\n",
       "      <td>1</td>\n",
       "      <td>0</td>\n",
       "      <td>0</td>\n",
       "      <td>1</td>\n",
       "      <td>0</td>\n",
       "    </tr>\n",
       "    <tr>\n",
       "      <th>4744</th>\n",
       "      <td>2022-07-06</td>\n",
       "      <td>3</td>\n",
       "      <td>0.012519</td>\n",
       "      <td>0.213162</td>\n",
       "      <td>Hyderabad</td>\n",
       "      <td>2</td>\n",
       "      <td>0</td>\n",
       "      <td>1</td>\n",
       "      <td>0</td>\n",
       "      <td>0</td>\n",
       "      <td>1</td>\n",
       "      <td>0</td>\n",
       "      <td>0</td>\n",
       "      <td>0</td>\n",
       "      <td>1</td>\n",
       "    </tr>\n",
       "    <tr>\n",
       "      <th>4745</th>\n",
       "      <td>2022-05-04</td>\n",
       "      <td>2</td>\n",
       "      <td>0.003944</td>\n",
       "      <td>0.141631</td>\n",
       "      <td>Hyderabad</td>\n",
       "      <td>2</td>\n",
       "      <td>0</td>\n",
       "      <td>1</td>\n",
       "      <td>0</td>\n",
       "      <td>0</td>\n",
       "      <td>0</td>\n",
       "      <td>1</td>\n",
       "      <td>1</td>\n",
       "      <td>0</td>\n",
       "      <td>0</td>\n",
       "    </tr>\n",
       "  </tbody>\n",
       "</table>\n",
       "<p>4744 rows × 15 columns</p>\n",
       "</div>"
      ],
      "text/plain": [
       "       Posted On  BHK      Rent      Size       City  Bathroom  Built Area  \\\n",
       "0     2022-05-18    2  0.002515  0.155937    Kolkata         2           0   \n",
       "1     2022-05-13    2  0.005373  0.113019    Kolkata         1           0   \n",
       "2     2022-05-16    2  0.004516  0.141631    Kolkata         1           0   \n",
       "3     2022-07-04    2  0.002515  0.113019    Kolkata         1           0   \n",
       "4     2022-05-09    2  0.001801  0.120172    Kolkata         1           0   \n",
       "...          ...  ...       ...       ...        ...       ...         ...   \n",
       "4741  2022-05-18    2  0.003944  0.141631  Hyderabad         2           0   \n",
       "4742  2022-05-15    3  0.007946  0.284692  Hyderabad         3           0   \n",
       "4743  2022-07-10    3  0.009660  0.248927  Hyderabad         3           0   \n",
       "4744  2022-07-06    3  0.012519  0.213162  Hyderabad         2           0   \n",
       "4745  2022-05-04    2  0.003944  0.141631  Hyderabad         2           0   \n",
       "\n",
       "      Carpet Area  Super Area  Furnished  Semi-Furnished  Unfurnished  \\\n",
       "0               0           1          0               0            1   \n",
       "1               0           1          0               1            0   \n",
       "2               0           1          0               1            0   \n",
       "3               0           1          0               0            1   \n",
       "4               1           0          0               0            1   \n",
       "...           ...         ...        ...             ...          ...   \n",
       "4741            1           0          0               1            0   \n",
       "4742            0           1          0               1            0   \n",
       "4743            1           0          0               1            0   \n",
       "4744            1           0          0               1            0   \n",
       "4745            1           0          0               0            1   \n",
       "\n",
       "      Bachelors  Bachelors/Family  Family  \n",
       "0             0                 1       0  \n",
       "1             0                 1       0  \n",
       "2             0                 1       0  \n",
       "3             0                 1       0  \n",
       "4             1                 0       0  \n",
       "...         ...               ...     ...  \n",
       "4741          0                 1       0  \n",
       "4742          0                 1       0  \n",
       "4743          0                 1       0  \n",
       "4744          0                 0       1  \n",
       "4745          1                 0       0  \n",
       "\n",
       "[4744 rows x 15 columns]"
      ]
     },
     "execution_count": 28,
     "metadata": {},
     "output_type": "execute_result"
    }
   ],
   "source": [
    "df1 = pd.get_dummies(df['Tenant Preferred'])\n",
    "df = pd.concat([df, df1], axis=1).reindex(df.index)\n",
    "df.drop('Tenant Preferred', axis=1, inplace=True)\n",
    "df['Family'] = df['Family'].astype(int)\n",
    "df['Bachelors/Family'] =df['Bachelors/Family'].astype(int)\n",
    "df['Bachelors'] = df['Bachelors'].astype(int)\n",
    "df"
   ]
  },
  {
   "cell_type": "code",
   "execution_count": 29,
   "id": "56a7f78b",
   "metadata": {
    "execution": {
     "iopub.execute_input": "2024-03-23T16:20:44.733558Z",
     "iopub.status.busy": "2024-03-23T16:20:44.733144Z",
     "iopub.status.idle": "2024-03-23T16:20:44.741774Z",
     "shell.execute_reply": "2024-03-23T16:20:44.740661Z"
    },
    "papermill": {
     "duration": 0.032178,
     "end_time": "2024-03-23T16:20:44.743781",
     "exception": false,
     "start_time": "2024-03-23T16:20:44.711603",
     "status": "completed"
    },
    "tags": []
   },
   "outputs": [
    {
     "data": {
      "text/plain": [
       "City\n",
       "Mumbai       971\n",
       "Chennai      891\n",
       "Bangalore    886\n",
       "Hyderabad    867\n",
       "Delhi        605\n",
       "Kolkata      524\n",
       "Name: count, dtype: int64"
      ]
     },
     "execution_count": 29,
     "metadata": {},
     "output_type": "execute_result"
    }
   ],
   "source": [
    "df['City'].value_counts()"
   ]
  },
  {
   "cell_type": "code",
   "execution_count": 30,
   "id": "a8bb875b",
   "metadata": {
    "execution": {
     "iopub.execute_input": "2024-03-23T16:20:44.786684Z",
     "iopub.status.busy": "2024-03-23T16:20:44.785495Z",
     "iopub.status.idle": "2024-03-23T16:20:44.819664Z",
     "shell.execute_reply": "2024-03-23T16:20:44.818415Z"
    },
    "papermill": {
     "duration": 0.058159,
     "end_time": "2024-03-23T16:20:44.822223",
     "exception": false,
     "start_time": "2024-03-23T16:20:44.764064",
     "status": "completed"
    },
    "tags": []
   },
   "outputs": [
    {
     "data": {
      "text/html": [
       "<div>\n",
       "<style scoped>\n",
       "    .dataframe tbody tr th:only-of-type {\n",
       "        vertical-align: middle;\n",
       "    }\n",
       "\n",
       "    .dataframe tbody tr th {\n",
       "        vertical-align: top;\n",
       "    }\n",
       "\n",
       "    .dataframe thead th {\n",
       "        text-align: right;\n",
       "    }\n",
       "</style>\n",
       "<table border=\"1\" class=\"dataframe\">\n",
       "  <thead>\n",
       "    <tr style=\"text-align: right;\">\n",
       "      <th></th>\n",
       "      <th>Posted On</th>\n",
       "      <th>BHK</th>\n",
       "      <th>Rent</th>\n",
       "      <th>Size</th>\n",
       "      <th>Bathroom</th>\n",
       "      <th>Built Area</th>\n",
       "      <th>Carpet Area</th>\n",
       "      <th>Super Area</th>\n",
       "      <th>Furnished</th>\n",
       "      <th>Semi-Furnished</th>\n",
       "      <th>Unfurnished</th>\n",
       "      <th>Bachelors</th>\n",
       "      <th>Bachelors/Family</th>\n",
       "      <th>Family</th>\n",
       "      <th>Bangalore</th>\n",
       "      <th>Chennai</th>\n",
       "      <th>Delhi</th>\n",
       "      <th>Hyderabad</th>\n",
       "      <th>Kolkata</th>\n",
       "      <th>Mumbai</th>\n",
       "    </tr>\n",
       "  </thead>\n",
       "  <tbody>\n",
       "    <tr>\n",
       "      <th>0</th>\n",
       "      <td>2022-05-18</td>\n",
       "      <td>2</td>\n",
       "      <td>0.002515</td>\n",
       "      <td>0.155937</td>\n",
       "      <td>2</td>\n",
       "      <td>0</td>\n",
       "      <td>0</td>\n",
       "      <td>1</td>\n",
       "      <td>0</td>\n",
       "      <td>0</td>\n",
       "      <td>1</td>\n",
       "      <td>0</td>\n",
       "      <td>1</td>\n",
       "      <td>0</td>\n",
       "      <td>0</td>\n",
       "      <td>0</td>\n",
       "      <td>0</td>\n",
       "      <td>0</td>\n",
       "      <td>1</td>\n",
       "      <td>0</td>\n",
       "    </tr>\n",
       "    <tr>\n",
       "      <th>1</th>\n",
       "      <td>2022-05-13</td>\n",
       "      <td>2</td>\n",
       "      <td>0.005373</td>\n",
       "      <td>0.113019</td>\n",
       "      <td>1</td>\n",
       "      <td>0</td>\n",
       "      <td>0</td>\n",
       "      <td>1</td>\n",
       "      <td>0</td>\n",
       "      <td>1</td>\n",
       "      <td>0</td>\n",
       "      <td>0</td>\n",
       "      <td>1</td>\n",
       "      <td>0</td>\n",
       "      <td>0</td>\n",
       "      <td>0</td>\n",
       "      <td>0</td>\n",
       "      <td>0</td>\n",
       "      <td>1</td>\n",
       "      <td>0</td>\n",
       "    </tr>\n",
       "    <tr>\n",
       "      <th>2</th>\n",
       "      <td>2022-05-16</td>\n",
       "      <td>2</td>\n",
       "      <td>0.004516</td>\n",
       "      <td>0.141631</td>\n",
       "      <td>1</td>\n",
       "      <td>0</td>\n",
       "      <td>0</td>\n",
       "      <td>1</td>\n",
       "      <td>0</td>\n",
       "      <td>1</td>\n",
       "      <td>0</td>\n",
       "      <td>0</td>\n",
       "      <td>1</td>\n",
       "      <td>0</td>\n",
       "      <td>0</td>\n",
       "      <td>0</td>\n",
       "      <td>0</td>\n",
       "      <td>0</td>\n",
       "      <td>1</td>\n",
       "      <td>0</td>\n",
       "    </tr>\n",
       "    <tr>\n",
       "      <th>3</th>\n",
       "      <td>2022-07-04</td>\n",
       "      <td>2</td>\n",
       "      <td>0.002515</td>\n",
       "      <td>0.113019</td>\n",
       "      <td>1</td>\n",
       "      <td>0</td>\n",
       "      <td>0</td>\n",
       "      <td>1</td>\n",
       "      <td>0</td>\n",
       "      <td>0</td>\n",
       "      <td>1</td>\n",
       "      <td>0</td>\n",
       "      <td>1</td>\n",
       "      <td>0</td>\n",
       "      <td>0</td>\n",
       "      <td>0</td>\n",
       "      <td>0</td>\n",
       "      <td>0</td>\n",
       "      <td>1</td>\n",
       "      <td>0</td>\n",
       "    </tr>\n",
       "    <tr>\n",
       "      <th>4</th>\n",
       "      <td>2022-05-09</td>\n",
       "      <td>2</td>\n",
       "      <td>0.001801</td>\n",
       "      <td>0.120172</td>\n",
       "      <td>1</td>\n",
       "      <td>0</td>\n",
       "      <td>1</td>\n",
       "      <td>0</td>\n",
       "      <td>0</td>\n",
       "      <td>0</td>\n",
       "      <td>1</td>\n",
       "      <td>1</td>\n",
       "      <td>0</td>\n",
       "      <td>0</td>\n",
       "      <td>0</td>\n",
       "      <td>0</td>\n",
       "      <td>0</td>\n",
       "      <td>0</td>\n",
       "      <td>1</td>\n",
       "      <td>0</td>\n",
       "    </tr>\n",
       "    <tr>\n",
       "      <th>...</th>\n",
       "      <td>...</td>\n",
       "      <td>...</td>\n",
       "      <td>...</td>\n",
       "      <td>...</td>\n",
       "      <td>...</td>\n",
       "      <td>...</td>\n",
       "      <td>...</td>\n",
       "      <td>...</td>\n",
       "      <td>...</td>\n",
       "      <td>...</td>\n",
       "      <td>...</td>\n",
       "      <td>...</td>\n",
       "      <td>...</td>\n",
       "      <td>...</td>\n",
       "      <td>...</td>\n",
       "      <td>...</td>\n",
       "      <td>...</td>\n",
       "      <td>...</td>\n",
       "      <td>...</td>\n",
       "      <td>...</td>\n",
       "    </tr>\n",
       "    <tr>\n",
       "      <th>4741</th>\n",
       "      <td>2022-05-18</td>\n",
       "      <td>2</td>\n",
       "      <td>0.003944</td>\n",
       "      <td>0.141631</td>\n",
       "      <td>2</td>\n",
       "      <td>0</td>\n",
       "      <td>1</td>\n",
       "      <td>0</td>\n",
       "      <td>0</td>\n",
       "      <td>1</td>\n",
       "      <td>0</td>\n",
       "      <td>0</td>\n",
       "      <td>1</td>\n",
       "      <td>0</td>\n",
       "      <td>0</td>\n",
       "      <td>0</td>\n",
       "      <td>0</td>\n",
       "      <td>1</td>\n",
       "      <td>0</td>\n",
       "      <td>0</td>\n",
       "    </tr>\n",
       "    <tr>\n",
       "      <th>4742</th>\n",
       "      <td>2022-05-15</td>\n",
       "      <td>3</td>\n",
       "      <td>0.007946</td>\n",
       "      <td>0.284692</td>\n",
       "      <td>3</td>\n",
       "      <td>0</td>\n",
       "      <td>0</td>\n",
       "      <td>1</td>\n",
       "      <td>0</td>\n",
       "      <td>1</td>\n",
       "      <td>0</td>\n",
       "      <td>0</td>\n",
       "      <td>1</td>\n",
       "      <td>0</td>\n",
       "      <td>0</td>\n",
       "      <td>0</td>\n",
       "      <td>0</td>\n",
       "      <td>1</td>\n",
       "      <td>0</td>\n",
       "      <td>0</td>\n",
       "    </tr>\n",
       "    <tr>\n",
       "      <th>4743</th>\n",
       "      <td>2022-07-10</td>\n",
       "      <td>3</td>\n",
       "      <td>0.009660</td>\n",
       "      <td>0.248927</td>\n",
       "      <td>3</td>\n",
       "      <td>0</td>\n",
       "      <td>1</td>\n",
       "      <td>0</td>\n",
       "      <td>0</td>\n",
       "      <td>1</td>\n",
       "      <td>0</td>\n",
       "      <td>0</td>\n",
       "      <td>1</td>\n",
       "      <td>0</td>\n",
       "      <td>0</td>\n",
       "      <td>0</td>\n",
       "      <td>0</td>\n",
       "      <td>1</td>\n",
       "      <td>0</td>\n",
       "      <td>0</td>\n",
       "    </tr>\n",
       "    <tr>\n",
       "      <th>4744</th>\n",
       "      <td>2022-07-06</td>\n",
       "      <td>3</td>\n",
       "      <td>0.012519</td>\n",
       "      <td>0.213162</td>\n",
       "      <td>2</td>\n",
       "      <td>0</td>\n",
       "      <td>1</td>\n",
       "      <td>0</td>\n",
       "      <td>0</td>\n",
       "      <td>1</td>\n",
       "      <td>0</td>\n",
       "      <td>0</td>\n",
       "      <td>0</td>\n",
       "      <td>1</td>\n",
       "      <td>0</td>\n",
       "      <td>0</td>\n",
       "      <td>0</td>\n",
       "      <td>1</td>\n",
       "      <td>0</td>\n",
       "      <td>0</td>\n",
       "    </tr>\n",
       "    <tr>\n",
       "      <th>4745</th>\n",
       "      <td>2022-05-04</td>\n",
       "      <td>2</td>\n",
       "      <td>0.003944</td>\n",
       "      <td>0.141631</td>\n",
       "      <td>2</td>\n",
       "      <td>0</td>\n",
       "      <td>1</td>\n",
       "      <td>0</td>\n",
       "      <td>0</td>\n",
       "      <td>0</td>\n",
       "      <td>1</td>\n",
       "      <td>1</td>\n",
       "      <td>0</td>\n",
       "      <td>0</td>\n",
       "      <td>0</td>\n",
       "      <td>0</td>\n",
       "      <td>0</td>\n",
       "      <td>1</td>\n",
       "      <td>0</td>\n",
       "      <td>0</td>\n",
       "    </tr>\n",
       "  </tbody>\n",
       "</table>\n",
       "<p>4744 rows × 20 columns</p>\n",
       "</div>"
      ],
      "text/plain": [
       "       Posted On  BHK      Rent      Size  Bathroom  Built Area  Carpet Area  \\\n",
       "0     2022-05-18    2  0.002515  0.155937         2           0            0   \n",
       "1     2022-05-13    2  0.005373  0.113019         1           0            0   \n",
       "2     2022-05-16    2  0.004516  0.141631         1           0            0   \n",
       "3     2022-07-04    2  0.002515  0.113019         1           0            0   \n",
       "4     2022-05-09    2  0.001801  0.120172         1           0            1   \n",
       "...          ...  ...       ...       ...       ...         ...          ...   \n",
       "4741  2022-05-18    2  0.003944  0.141631         2           0            1   \n",
       "4742  2022-05-15    3  0.007946  0.284692         3           0            0   \n",
       "4743  2022-07-10    3  0.009660  0.248927         3           0            1   \n",
       "4744  2022-07-06    3  0.012519  0.213162         2           0            1   \n",
       "4745  2022-05-04    2  0.003944  0.141631         2           0            1   \n",
       "\n",
       "      Super Area  Furnished  Semi-Furnished  Unfurnished  Bachelors  \\\n",
       "0              1          0               0            1          0   \n",
       "1              1          0               1            0          0   \n",
       "2              1          0               1            0          0   \n",
       "3              1          0               0            1          0   \n",
       "4              0          0               0            1          1   \n",
       "...          ...        ...             ...          ...        ...   \n",
       "4741           0          0               1            0          0   \n",
       "4742           1          0               1            0          0   \n",
       "4743           0          0               1            0          0   \n",
       "4744           0          0               1            0          0   \n",
       "4745           0          0               0            1          1   \n",
       "\n",
       "      Bachelors/Family  Family  Bangalore  Chennai  Delhi  Hyderabad  Kolkata  \\\n",
       "0                    1       0          0        0      0          0        1   \n",
       "1                    1       0          0        0      0          0        1   \n",
       "2                    1       0          0        0      0          0        1   \n",
       "3                    1       0          0        0      0          0        1   \n",
       "4                    0       0          0        0      0          0        1   \n",
       "...                ...     ...        ...      ...    ...        ...      ...   \n",
       "4741                 1       0          0        0      0          1        0   \n",
       "4742                 1       0          0        0      0          1        0   \n",
       "4743                 1       0          0        0      0          1        0   \n",
       "4744                 0       1          0        0      0          1        0   \n",
       "4745                 0       0          0        0      0          1        0   \n",
       "\n",
       "      Mumbai  \n",
       "0          0  \n",
       "1          0  \n",
       "2          0  \n",
       "3          0  \n",
       "4          0  \n",
       "...      ...  \n",
       "4741       0  \n",
       "4742       0  \n",
       "4743       0  \n",
       "4744       0  \n",
       "4745       0  \n",
       "\n",
       "[4744 rows x 20 columns]"
      ]
     },
     "execution_count": 30,
     "metadata": {},
     "output_type": "execute_result"
    }
   ],
   "source": [
    "df1 = pd.get_dummies(df['City'])\n",
    "df = pd.concat([df, df1], axis=1).reindex(df.index)\n",
    "df.drop('City', axis=1, inplace=True)\n",
    "df['Mumbai'] = df['Mumbai'].astype(int)\n",
    "df['Chennai'] =df['Chennai'].astype(int)\n",
    "df['Bangalore'] = df['Bangalore'].astype(int)\n",
    "df['Hyderabad'] = df['Hyderabad'].astype(int)\n",
    "df['Delhi']= df['Delhi'].astype(int)\n",
    "df['Kolkata'] = df['Kolkata'].astype(int)\n",
    "df"
   ]
  },
  {
   "cell_type": "code",
   "execution_count": 31,
   "id": "cd38bcca",
   "metadata": {
    "execution": {
     "iopub.execute_input": "2024-03-23T16:20:44.865976Z",
     "iopub.status.busy": "2024-03-23T16:20:44.865418Z",
     "iopub.status.idle": "2024-03-23T16:20:44.888772Z",
     "shell.execute_reply": "2024-03-23T16:20:44.887757Z"
    },
    "papermill": {
     "duration": 0.04823,
     "end_time": "2024-03-23T16:20:44.890979",
     "exception": false,
     "start_time": "2024-03-23T16:20:44.842749",
     "status": "completed"
    },
    "tags": []
   },
   "outputs": [
    {
     "data": {
      "text/html": [
       "<div>\n",
       "<style scoped>\n",
       "    .dataframe tbody tr th:only-of-type {\n",
       "        vertical-align: middle;\n",
       "    }\n",
       "\n",
       "    .dataframe tbody tr th {\n",
       "        vertical-align: top;\n",
       "    }\n",
       "\n",
       "    .dataframe thead th {\n",
       "        text-align: right;\n",
       "    }\n",
       "</style>\n",
       "<table border=\"1\" class=\"dataframe\">\n",
       "  <thead>\n",
       "    <tr style=\"text-align: right;\">\n",
       "      <th></th>\n",
       "      <th>BHK</th>\n",
       "      <th>Rent</th>\n",
       "      <th>Size</th>\n",
       "      <th>Bathroom</th>\n",
       "      <th>Built Area</th>\n",
       "      <th>Carpet Area</th>\n",
       "      <th>Super Area</th>\n",
       "      <th>Furnished</th>\n",
       "      <th>Semi-Furnished</th>\n",
       "      <th>Unfurnished</th>\n",
       "      <th>Bachelors</th>\n",
       "      <th>Bachelors/Family</th>\n",
       "      <th>Family</th>\n",
       "      <th>Bangalore</th>\n",
       "      <th>Chennai</th>\n",
       "      <th>Delhi</th>\n",
       "      <th>Hyderabad</th>\n",
       "      <th>Kolkata</th>\n",
       "      <th>Mumbai</th>\n",
       "    </tr>\n",
       "  </thead>\n",
       "  <tbody>\n",
       "    <tr>\n",
       "      <th>0</th>\n",
       "      <td>2</td>\n",
       "      <td>0.002515</td>\n",
       "      <td>0.155937</td>\n",
       "      <td>2</td>\n",
       "      <td>0</td>\n",
       "      <td>0</td>\n",
       "      <td>1</td>\n",
       "      <td>0</td>\n",
       "      <td>0</td>\n",
       "      <td>1</td>\n",
       "      <td>0</td>\n",
       "      <td>1</td>\n",
       "      <td>0</td>\n",
       "      <td>0</td>\n",
       "      <td>0</td>\n",
       "      <td>0</td>\n",
       "      <td>0</td>\n",
       "      <td>1</td>\n",
       "      <td>0</td>\n",
       "    </tr>\n",
       "    <tr>\n",
       "      <th>1</th>\n",
       "      <td>2</td>\n",
       "      <td>0.005373</td>\n",
       "      <td>0.113019</td>\n",
       "      <td>1</td>\n",
       "      <td>0</td>\n",
       "      <td>0</td>\n",
       "      <td>1</td>\n",
       "      <td>0</td>\n",
       "      <td>1</td>\n",
       "      <td>0</td>\n",
       "      <td>0</td>\n",
       "      <td>1</td>\n",
       "      <td>0</td>\n",
       "      <td>0</td>\n",
       "      <td>0</td>\n",
       "      <td>0</td>\n",
       "      <td>0</td>\n",
       "      <td>1</td>\n",
       "      <td>0</td>\n",
       "    </tr>\n",
       "    <tr>\n",
       "      <th>2</th>\n",
       "      <td>2</td>\n",
       "      <td>0.004516</td>\n",
       "      <td>0.141631</td>\n",
       "      <td>1</td>\n",
       "      <td>0</td>\n",
       "      <td>0</td>\n",
       "      <td>1</td>\n",
       "      <td>0</td>\n",
       "      <td>1</td>\n",
       "      <td>0</td>\n",
       "      <td>0</td>\n",
       "      <td>1</td>\n",
       "      <td>0</td>\n",
       "      <td>0</td>\n",
       "      <td>0</td>\n",
       "      <td>0</td>\n",
       "      <td>0</td>\n",
       "      <td>1</td>\n",
       "      <td>0</td>\n",
       "    </tr>\n",
       "    <tr>\n",
       "      <th>3</th>\n",
       "      <td>2</td>\n",
       "      <td>0.002515</td>\n",
       "      <td>0.113019</td>\n",
       "      <td>1</td>\n",
       "      <td>0</td>\n",
       "      <td>0</td>\n",
       "      <td>1</td>\n",
       "      <td>0</td>\n",
       "      <td>0</td>\n",
       "      <td>1</td>\n",
       "      <td>0</td>\n",
       "      <td>1</td>\n",
       "      <td>0</td>\n",
       "      <td>0</td>\n",
       "      <td>0</td>\n",
       "      <td>0</td>\n",
       "      <td>0</td>\n",
       "      <td>1</td>\n",
       "      <td>0</td>\n",
       "    </tr>\n",
       "    <tr>\n",
       "      <th>4</th>\n",
       "      <td>2</td>\n",
       "      <td>0.001801</td>\n",
       "      <td>0.120172</td>\n",
       "      <td>1</td>\n",
       "      <td>0</td>\n",
       "      <td>1</td>\n",
       "      <td>0</td>\n",
       "      <td>0</td>\n",
       "      <td>0</td>\n",
       "      <td>1</td>\n",
       "      <td>1</td>\n",
       "      <td>0</td>\n",
       "      <td>0</td>\n",
       "      <td>0</td>\n",
       "      <td>0</td>\n",
       "      <td>0</td>\n",
       "      <td>0</td>\n",
       "      <td>1</td>\n",
       "      <td>0</td>\n",
       "    </tr>\n",
       "    <tr>\n",
       "      <th>...</th>\n",
       "      <td>...</td>\n",
       "      <td>...</td>\n",
       "      <td>...</td>\n",
       "      <td>...</td>\n",
       "      <td>...</td>\n",
       "      <td>...</td>\n",
       "      <td>...</td>\n",
       "      <td>...</td>\n",
       "      <td>...</td>\n",
       "      <td>...</td>\n",
       "      <td>...</td>\n",
       "      <td>...</td>\n",
       "      <td>...</td>\n",
       "      <td>...</td>\n",
       "      <td>...</td>\n",
       "      <td>...</td>\n",
       "      <td>...</td>\n",
       "      <td>...</td>\n",
       "      <td>...</td>\n",
       "    </tr>\n",
       "    <tr>\n",
       "      <th>4741</th>\n",
       "      <td>2</td>\n",
       "      <td>0.003944</td>\n",
       "      <td>0.141631</td>\n",
       "      <td>2</td>\n",
       "      <td>0</td>\n",
       "      <td>1</td>\n",
       "      <td>0</td>\n",
       "      <td>0</td>\n",
       "      <td>1</td>\n",
       "      <td>0</td>\n",
       "      <td>0</td>\n",
       "      <td>1</td>\n",
       "      <td>0</td>\n",
       "      <td>0</td>\n",
       "      <td>0</td>\n",
       "      <td>0</td>\n",
       "      <td>1</td>\n",
       "      <td>0</td>\n",
       "      <td>0</td>\n",
       "    </tr>\n",
       "    <tr>\n",
       "      <th>4742</th>\n",
       "      <td>3</td>\n",
       "      <td>0.007946</td>\n",
       "      <td>0.284692</td>\n",
       "      <td>3</td>\n",
       "      <td>0</td>\n",
       "      <td>0</td>\n",
       "      <td>1</td>\n",
       "      <td>0</td>\n",
       "      <td>1</td>\n",
       "      <td>0</td>\n",
       "      <td>0</td>\n",
       "      <td>1</td>\n",
       "      <td>0</td>\n",
       "      <td>0</td>\n",
       "      <td>0</td>\n",
       "      <td>0</td>\n",
       "      <td>1</td>\n",
       "      <td>0</td>\n",
       "      <td>0</td>\n",
       "    </tr>\n",
       "    <tr>\n",
       "      <th>4743</th>\n",
       "      <td>3</td>\n",
       "      <td>0.009660</td>\n",
       "      <td>0.248927</td>\n",
       "      <td>3</td>\n",
       "      <td>0</td>\n",
       "      <td>1</td>\n",
       "      <td>0</td>\n",
       "      <td>0</td>\n",
       "      <td>1</td>\n",
       "      <td>0</td>\n",
       "      <td>0</td>\n",
       "      <td>1</td>\n",
       "      <td>0</td>\n",
       "      <td>0</td>\n",
       "      <td>0</td>\n",
       "      <td>0</td>\n",
       "      <td>1</td>\n",
       "      <td>0</td>\n",
       "      <td>0</td>\n",
       "    </tr>\n",
       "    <tr>\n",
       "      <th>4744</th>\n",
       "      <td>3</td>\n",
       "      <td>0.012519</td>\n",
       "      <td>0.213162</td>\n",
       "      <td>2</td>\n",
       "      <td>0</td>\n",
       "      <td>1</td>\n",
       "      <td>0</td>\n",
       "      <td>0</td>\n",
       "      <td>1</td>\n",
       "      <td>0</td>\n",
       "      <td>0</td>\n",
       "      <td>0</td>\n",
       "      <td>1</td>\n",
       "      <td>0</td>\n",
       "      <td>0</td>\n",
       "      <td>0</td>\n",
       "      <td>1</td>\n",
       "      <td>0</td>\n",
       "      <td>0</td>\n",
       "    </tr>\n",
       "    <tr>\n",
       "      <th>4745</th>\n",
       "      <td>2</td>\n",
       "      <td>0.003944</td>\n",
       "      <td>0.141631</td>\n",
       "      <td>2</td>\n",
       "      <td>0</td>\n",
       "      <td>1</td>\n",
       "      <td>0</td>\n",
       "      <td>0</td>\n",
       "      <td>0</td>\n",
       "      <td>1</td>\n",
       "      <td>1</td>\n",
       "      <td>0</td>\n",
       "      <td>0</td>\n",
       "      <td>0</td>\n",
       "      <td>0</td>\n",
       "      <td>0</td>\n",
       "      <td>1</td>\n",
       "      <td>0</td>\n",
       "      <td>0</td>\n",
       "    </tr>\n",
       "  </tbody>\n",
       "</table>\n",
       "<p>4744 rows × 19 columns</p>\n",
       "</div>"
      ],
      "text/plain": [
       "      BHK      Rent      Size  Bathroom  Built Area  Carpet Area  Super Area  \\\n",
       "0       2  0.002515  0.155937         2           0            0           1   \n",
       "1       2  0.005373  0.113019         1           0            0           1   \n",
       "2       2  0.004516  0.141631         1           0            0           1   \n",
       "3       2  0.002515  0.113019         1           0            0           1   \n",
       "4       2  0.001801  0.120172         1           0            1           0   \n",
       "...   ...       ...       ...       ...         ...          ...         ...   \n",
       "4741    2  0.003944  0.141631         2           0            1           0   \n",
       "4742    3  0.007946  0.284692         3           0            0           1   \n",
       "4743    3  0.009660  0.248927         3           0            1           0   \n",
       "4744    3  0.012519  0.213162         2           0            1           0   \n",
       "4745    2  0.003944  0.141631         2           0            1           0   \n",
       "\n",
       "      Furnished  Semi-Furnished  Unfurnished  Bachelors  Bachelors/Family  \\\n",
       "0             0               0            1          0                 1   \n",
       "1             0               1            0          0                 1   \n",
       "2             0               1            0          0                 1   \n",
       "3             0               0            1          0                 1   \n",
       "4             0               0            1          1                 0   \n",
       "...         ...             ...          ...        ...               ...   \n",
       "4741          0               1            0          0                 1   \n",
       "4742          0               1            0          0                 1   \n",
       "4743          0               1            0          0                 1   \n",
       "4744          0               1            0          0                 0   \n",
       "4745          0               0            1          1                 0   \n",
       "\n",
       "      Family  Bangalore  Chennai  Delhi  Hyderabad  Kolkata  Mumbai  \n",
       "0          0          0        0      0          0        1       0  \n",
       "1          0          0        0      0          0        1       0  \n",
       "2          0          0        0      0          0        1       0  \n",
       "3          0          0        0      0          0        1       0  \n",
       "4          0          0        0      0          0        1       0  \n",
       "...      ...        ...      ...    ...        ...      ...     ...  \n",
       "4741       0          0        0      0          1        0       0  \n",
       "4742       0          0        0      0          1        0       0  \n",
       "4743       0          0        0      0          1        0       0  \n",
       "4744       1          0        0      0          1        0       0  \n",
       "4745       0          0        0      0          1        0       0  \n",
       "\n",
       "[4744 rows x 19 columns]"
      ]
     },
     "execution_count": 31,
     "metadata": {},
     "output_type": "execute_result"
    }
   ],
   "source": [
    "df.drop(columns='Posted On' , axis =1 , inplace = True)\n",
    "df\n"
   ]
  },
  {
   "cell_type": "code",
   "execution_count": 32,
   "id": "f8d9faa1",
   "metadata": {
    "execution": {
     "iopub.execute_input": "2024-03-23T16:20:44.934864Z",
     "iopub.status.busy": "2024-03-23T16:20:44.934441Z",
     "iopub.status.idle": "2024-03-23T16:20:44.943467Z",
     "shell.execute_reply": "2024-03-23T16:20:44.942303Z"
    },
    "papermill": {
     "duration": 0.034373,
     "end_time": "2024-03-23T16:20:44.945983",
     "exception": false,
     "start_time": "2024-03-23T16:20:44.911610",
     "status": "completed"
    },
    "tags": []
   },
   "outputs": [],
   "source": [
    "df['BHK']=(df['BHK']-df['BHK'].min())/(df['BHK'].max()-df['BHK'].min())\n",
    "df['Bathroom']=(df['Bathroom']-df['Bathroom'].min())/(df['Bathroom'].max()-df['Bathroom'].min())"
   ]
  },
  {
   "cell_type": "code",
   "execution_count": 33,
   "id": "251e2da0",
   "metadata": {
    "execution": {
     "iopub.execute_input": "2024-03-23T16:20:44.989437Z",
     "iopub.status.busy": "2024-03-23T16:20:44.989033Z",
     "iopub.status.idle": "2024-03-23T16:20:45.388001Z",
     "shell.execute_reply": "2024-03-23T16:20:45.386785Z"
    },
    "papermill": {
     "duration": 0.42427,
     "end_time": "2024-03-23T16:20:45.391195",
     "exception": false,
     "start_time": "2024-03-23T16:20:44.966925",
     "status": "completed"
    },
    "tags": []
   },
   "outputs": [],
   "source": [
    "from sklearn.model_selection import train_test_split , cross_val_score\n",
    "from sklearn.linear_model import LinearRegression as SklearnLinearRegression"
   ]
  },
  {
   "cell_type": "code",
   "execution_count": 34,
   "id": "2ea8418f",
   "metadata": {
    "execution": {
     "iopub.execute_input": "2024-03-23T16:20:45.435994Z",
     "iopub.status.busy": "2024-03-23T16:20:45.435549Z",
     "iopub.status.idle": "2024-03-23T16:20:45.447482Z",
     "shell.execute_reply": "2024-03-23T16:20:45.446441Z"
    },
    "papermill": {
     "duration": 0.036865,
     "end_time": "2024-03-23T16:20:45.449944",
     "exception": false,
     "start_time": "2024-03-23T16:20:45.413079",
     "status": "completed"
    },
    "tags": []
   },
   "outputs": [],
   "source": [
    "X=df.drop(columns='Rent',axis=1,inplace=False) \n",
    "y=df['Rent']\n",
    "X_train, X_test, y_train, y_test = train_test_split(X,y, test_size=0.2, random_state=16)"
   ]
  },
  {
   "cell_type": "code",
   "execution_count": 35,
   "id": "55bf06ab",
   "metadata": {
    "execution": {
     "iopub.execute_input": "2024-03-23T16:20:45.494078Z",
     "iopub.status.busy": "2024-03-23T16:20:45.493642Z",
     "iopub.status.idle": "2024-03-23T16:20:45.499366Z",
     "shell.execute_reply": "2024-03-23T16:20:45.498177Z"
    },
    "papermill": {
     "duration": 0.030062,
     "end_time": "2024-03-23T16:20:45.501570",
     "exception": false,
     "start_time": "2024-03-23T16:20:45.471508",
     "status": "completed"
    },
    "tags": []
   },
   "outputs": [
    {
     "name": "stdout",
     "output_type": "stream",
     "text": [
      "X Shape: (3795, 18), X Type:<class 'pandas.core.frame.DataFrame'>)\n",
      "y Shape: (3795,), y Type:<class 'pandas.core.series.Series'>)\n"
     ]
    }
   ],
   "source": [
    "print(f\"X Shape: {X_train.shape}, X Type:{type(X_train)})\")\n",
    "\n",
    "print(f\"y Shape: {y_train.shape}, y Type:{type(y_train)})\")"
   ]
  },
  {
   "cell_type": "code",
   "execution_count": 36,
   "id": "a1a6365d",
   "metadata": {
    "execution": {
     "iopub.execute_input": "2024-03-23T16:20:45.545177Z",
     "iopub.status.busy": "2024-03-23T16:20:45.543827Z",
     "iopub.status.idle": "2024-03-23T16:20:45.553622Z",
     "shell.execute_reply": "2024-03-23T16:20:45.552751Z"
    },
    "papermill": {
     "duration": 0.033581,
     "end_time": "2024-03-23T16:20:45.555670",
     "exception": false,
     "start_time": "2024-03-23T16:20:45.522089",
     "status": "completed"
    },
    "tags": []
   },
   "outputs": [
    {
     "data": {
      "text/plain": [
       "(18,)"
      ]
     },
     "execution_count": 36,
     "metadata": {},
     "output_type": "execute_result"
    }
   ],
   "source": [
    "Weight =np.random.randn(X_train.shape[1])*0.01\n",
    "Bias = 0\n",
    "Weight.shape"
   ]
  },
  {
   "cell_type": "code",
   "execution_count": 37,
   "id": "1d3a3cde",
   "metadata": {
    "execution": {
     "iopub.execute_input": "2024-03-23T16:20:45.598870Z",
     "iopub.status.busy": "2024-03-23T16:20:45.598448Z",
     "iopub.status.idle": "2024-03-23T16:20:45.604299Z",
     "shell.execute_reply": "2024-03-23T16:20:45.603290Z"
    },
    "papermill": {
     "duration": 0.030061,
     "end_time": "2024-03-23T16:20:45.606467",
     "exception": false,
     "start_time": "2024-03-23T16:20:45.576406",
     "status": "completed"
    },
    "tags": []
   },
   "outputs": [],
   "source": [
    "def compute_cost(X,y,W,b):\n",
    "    m=X.shape[0]\n",
    "    cost = 0.0\n",
    "    for i in range(m):\n",
    "        yhat = np.dot(X.iloc[i],W) + b\n",
    "        cost = cost + ( yhat - y.iloc[i]  )**2\n",
    "    cost = cost / (2*m)\n",
    "    return cost "
   ]
  },
  {
   "cell_type": "code",
   "execution_count": 38,
   "id": "f7764ebb",
   "metadata": {
    "execution": {
     "iopub.execute_input": "2024-03-23T16:20:45.649259Z",
     "iopub.status.busy": "2024-03-23T16:20:45.648840Z",
     "iopub.status.idle": "2024-03-23T16:20:46.080804Z",
     "shell.execute_reply": "2024-03-23T16:20:46.079803Z"
    },
    "papermill": {
     "duration": 0.456191,
     "end_time": "2024-03-23T16:20:46.083386",
     "exception": false,
     "start_time": "2024-03-23T16:20:45.627195",
     "status": "completed"
    },
    "tags": []
   },
   "outputs": [],
   "source": [
    "cost =compute_cost(X_train,y_train,Weight,Bias)"
   ]
  },
  {
   "cell_type": "code",
   "execution_count": 39,
   "id": "e81653cd",
   "metadata": {
    "execution": {
     "iopub.execute_input": "2024-03-23T16:20:46.126922Z",
     "iopub.status.busy": "2024-03-23T16:20:46.126298Z",
     "iopub.status.idle": "2024-03-23T16:20:46.133361Z",
     "shell.execute_reply": "2024-03-23T16:20:46.132278Z"
    },
    "papermill": {
     "duration": 0.030962,
     "end_time": "2024-03-23T16:20:46.135511",
     "exception": false,
     "start_time": "2024-03-23T16:20:46.104549",
     "status": "completed"
    },
    "tags": []
   },
   "outputs": [],
   "source": [
    "def compute_gradient(X,y,W,b):\n",
    "    m = X.shape[0]\n",
    "    n = X.shape[1]\n",
    "    dj_dW = np.zeros(shape=(n,))\n",
    "    dj_db = 0\n",
    "    cost = 0.0\n",
    "    for i in range(m):\n",
    "        loss = (np.dot(X.iloc[i] , W) + b ) - y.iloc[i]\n",
    "        for j in range(n):\n",
    "            cost = cost + np.dot(loss, X.iloc[i,j])\n",
    "            dj_dW[j] = dj_dW[j] + cost\n",
    "        dj_db =dj_db + loss\n",
    "    dj_dW /= m\n",
    "    dj_db /= m\n",
    "    return dj_dW ,dj_db"
   ]
  },
  {
   "cell_type": "code",
   "execution_count": 40,
   "id": "79a8f187",
   "metadata": {
    "execution": {
     "iopub.execute_input": "2024-03-23T16:20:46.178501Z",
     "iopub.status.busy": "2024-03-23T16:20:46.178139Z",
     "iopub.status.idle": "2024-03-23T16:20:49.097660Z",
     "shell.execute_reply": "2024-03-23T16:20:49.096262Z"
    },
    "papermill": {
     "duration": 2.944142,
     "end_time": "2024-03-23T16:20:49.100310",
     "exception": false,
     "start_time": "2024-03-23T16:20:46.156168",
     "status": "completed"
    },
    "tags": []
   },
   "outputs": [],
   "source": [
    "dj_dW ,dj_db = compute_gradient(X_train,y_train,Weight,Bias)"
   ]
  },
  {
   "cell_type": "code",
   "execution_count": 41,
   "id": "a52dc9a6",
   "metadata": {
    "execution": {
     "iopub.execute_input": "2024-03-23T16:20:49.144663Z",
     "iopub.status.busy": "2024-03-23T16:20:49.144277Z",
     "iopub.status.idle": "2024-03-23T16:20:49.151227Z",
     "shell.execute_reply": "2024-03-23T16:20:49.149466Z"
    },
    "papermill": {
     "duration": 0.03192,
     "end_time": "2024-03-23T16:20:49.153623",
     "exception": false,
     "start_time": "2024-03-23T16:20:49.121703",
     "status": "completed"
    },
    "tags": []
   },
   "outputs": [
    {
     "name": "stdout",
     "output_type": "stream",
     "text": [
      "Weight:  [-142.27314916 -142.27644692 -142.28073146 -142.28072351 -142.29429696\n",
      " -142.29642221 -142.29875575 -142.30423256 -142.31211296 -142.32131365\n",
      " -142.32538725 -142.3278037  -142.32994335 -142.33331101 -142.3349944\n",
      " -142.33840613 -142.33977109 -142.34349445]\n",
      "Bias:  -0.01569074814836685\n"
     ]
    }
   ],
   "source": [
    "print(\"Weight: \",dj_dW)\n",
    "print(\"Bias: \",  dj_db)"
   ]
  },
  {
   "cell_type": "code",
   "execution_count": 42,
   "id": "1b3b4837",
   "metadata": {
    "execution": {
     "iopub.execute_input": "2024-03-23T16:20:49.198777Z",
     "iopub.status.busy": "2024-03-23T16:20:49.198329Z",
     "iopub.status.idle": "2024-03-23T16:20:49.203367Z",
     "shell.execute_reply": "2024-03-23T16:20:49.202292Z"
    },
    "papermill": {
     "duration": 0.030358,
     "end_time": "2024-03-23T16:20:49.205552",
     "exception": false,
     "start_time": "2024-03-23T16:20:49.175194",
     "status": "completed"
    },
    "tags": []
   },
   "outputs": [],
   "source": [
    "import copy ,math"
   ]
  },
  {
   "cell_type": "code",
   "execution_count": 43,
   "id": "79ccb4bb",
   "metadata": {
    "execution": {
     "iopub.execute_input": "2024-03-23T16:20:49.248702Z",
     "iopub.status.busy": "2024-03-23T16:20:49.248300Z",
     "iopub.status.idle": "2024-03-23T16:20:49.254967Z",
     "shell.execute_reply": "2024-03-23T16:20:49.254069Z"
    },
    "papermill": {
     "duration": 0.030815,
     "end_time": "2024-03-23T16:20:49.256982",
     "exception": false,
     "start_time": "2024-03-23T16:20:49.226167",
     "status": "completed"
    },
    "tags": []
   },
   "outputs": [],
   "source": [
    "def gradient_descent(X,y,W_in,b_in,num_iteration,alpha,comute_gradient,compute_cost):\n",
    "    W=copy.deepcopy(W_in)\n",
    "    b=0\n",
    "    J_history=[]\n",
    "    for i in range(num_iteration):\n",
    "        dj_dW ,dj_db = compute_gradient(X,y,W,b)\n",
    "        \n",
    "        W = W - alpha*dj_dW\n",
    "        b = b - alpha *dj_db\n",
    "        \n",
    "        if i<100000:      \n",
    "            J_history.append( compute_cost(X, y, W, b))\n",
    "            \n",
    "        if i% math.ceil(num_iteration / 10) == 0:\n",
    "            print(f\"Iteration {i:4d}: Cost {J_history[-1]:8.2f}   \")    \n",
    "    return W, b, J_history     "
   ]
  },
  {
   "cell_type": "markdown",
   "id": "92059ecf",
   "metadata": {
    "papermill": {
     "duration": 0.020794,
     "end_time": "2024-03-23T16:20:49.298347",
     "exception": false,
     "start_time": "2024-03-23T16:20:49.277553",
     "status": "completed"
    },
    "tags": []
   },
   "source": [
    "This Model is perfectly Running, and getiing 0.27 cost in 0th iterration but it is taking to much time to run due its size and also i'can't upload it on github getting failed while uploading so i', uploading below code in a comment formet so that i can upload it on github."
   ]
  },
  {
   "cell_type": "code",
   "execution_count": 44,
   "id": "302b7731",
   "metadata": {
    "execution": {
     "iopub.execute_input": "2024-03-23T16:20:49.341751Z",
     "iopub.status.busy": "2024-03-23T16:20:49.341309Z",
     "iopub.status.idle": "2024-03-23T16:20:49.345552Z",
     "shell.execute_reply": "2024-03-23T16:20:49.344797Z"
    },
    "papermill": {
     "duration": 0.028297,
     "end_time": "2024-03-23T16:20:49.347549",
     "exception": false,
     "start_time": "2024-03-23T16:20:49.319252",
     "status": "completed"
    },
    "tags": []
   },
   "outputs": [],
   "source": [
    "#Iterations = 1000\n",
    "#alpha = 0.1\n",
    "#Weights , bias,J_History =gradient_descent(X_train,y_train,Weight,Bias,Iterations,alpha,compute_gradient,compute_cost)\n",
    "#print(f\"b,w found by gradient descent: {bias:0.2f},{Weights} \")\n",
    "#m,_ = X_train.shape\n",
    "#for i in range(m):\n",
    "#    print(f\"prediction: {np.dot(X_train[i], Weights) + bias:0.2f}, target value: {y_train[i]}\")"
   ]
  },
  {
   "cell_type": "code",
   "execution_count": 45,
   "id": "6259e2a4",
   "metadata": {
    "execution": {
     "iopub.execute_input": "2024-03-23T16:20:49.391705Z",
     "iopub.status.busy": "2024-03-23T16:20:49.391258Z",
     "iopub.status.idle": "2024-03-23T16:20:59.187401Z",
     "shell.execute_reply": "2024-03-23T16:20:59.186390Z"
    },
    "papermill": {
     "duration": 9.821897,
     "end_time": "2024-03-23T16:20:59.190005",
     "exception": false,
     "start_time": "2024-03-23T16:20:49.368108",
     "status": "completed"
    },
    "tags": []
   },
   "outputs": [],
   "source": [
    "import tensorflow as tf\n",
    "import keras\n",
    "from keras.models import Sequential\n",
    "from keras.layers import InputLayer, Dense"
   ]
  },
  {
   "cell_type": "code",
   "execution_count": 46,
   "id": "1fbbf9f1",
   "metadata": {
    "execution": {
     "iopub.execute_input": "2024-03-23T16:20:59.236893Z",
     "iopub.status.busy": "2024-03-23T16:20:59.235386Z",
     "iopub.status.idle": "2024-03-23T16:20:59.241256Z",
     "shell.execute_reply": "2024-03-23T16:20:59.240194Z"
    },
    "papermill": {
     "duration": 0.031908,
     "end_time": "2024-03-23T16:20:59.243969",
     "exception": false,
     "start_time": "2024-03-23T16:20:59.212061",
     "status": "completed"
    },
    "tags": []
   },
   "outputs": [],
   "source": [
    "input_neurons = X_train.shape[1]\n",
    "Output_neurons = 1"
   ]
  },
  {
   "cell_type": "code",
   "execution_count": 47,
   "id": "6f34cfc1",
   "metadata": {
    "execution": {
     "iopub.execute_input": "2024-03-23T16:20:59.287030Z",
     "iopub.status.busy": "2024-03-23T16:20:59.286617Z",
     "iopub.status.idle": "2024-03-23T16:20:59.290989Z",
     "shell.execute_reply": "2024-03-23T16:20:59.290148Z"
    },
    "papermill": {
     "duration": 0.028175,
     "end_time": "2024-03-23T16:20:59.292962",
     "exception": false,
     "start_time": "2024-03-23T16:20:59.264787",
     "status": "completed"
    },
    "tags": []
   },
   "outputs": [],
   "source": [
    "Number_of_hiddden_layers = 2\n",
    "hidden_layer_neuorns_1 = 10\n",
    "hidden_layer_neuorns_1 = 5"
   ]
  },
  {
   "cell_type": "code",
   "execution_count": 48,
   "id": "4893fb1b",
   "metadata": {
    "execution": {
     "iopub.execute_input": "2024-03-23T16:20:59.336764Z",
     "iopub.status.busy": "2024-03-23T16:20:59.336141Z",
     "iopub.status.idle": "2024-03-23T16:20:59.548489Z",
     "shell.execute_reply": "2024-03-23T16:20:59.547235Z"
    },
    "papermill": {
     "duration": 0.237123,
     "end_time": "2024-03-23T16:20:59.551189",
     "exception": false,
     "start_time": "2024-03-23T16:20:59.314066",
     "status": "completed"
    },
    "tags": []
   },
   "outputs": [],
   "source": [
    "model = Sequential()\n",
    "model.add(InputLayer(input_shape =(input_neurons)))\n",
    "model.add(Dense(units=10,activation ='ReLU'))\n",
    "model.add(Dense(units=5,activation ='ReLU'))\n",
    "model.add(Dense(units=1,activation ='ReLU'))"
   ]
  },
  {
   "cell_type": "code",
   "execution_count": 49,
   "id": "b12fc74a",
   "metadata": {
    "execution": {
     "iopub.execute_input": "2024-03-23T16:20:59.594574Z",
     "iopub.status.busy": "2024-03-23T16:20:59.593929Z",
     "iopub.status.idle": "2024-03-23T16:20:59.617742Z",
     "shell.execute_reply": "2024-03-23T16:20:59.616417Z"
    },
    "papermill": {
     "duration": 0.047912,
     "end_time": "2024-03-23T16:20:59.619756",
     "exception": false,
     "start_time": "2024-03-23T16:20:59.571844",
     "status": "completed"
    },
    "tags": []
   },
   "outputs": [
    {
     "name": "stdout",
     "output_type": "stream",
     "text": [
      "Model: \"sequential\"\n",
      "_________________________________________________________________\n",
      " Layer (type)                Output Shape              Param #   \n",
      "=================================================================\n",
      " dense (Dense)               (None, 10)                190       \n",
      "                                                                 \n",
      " dense_1 (Dense)             (None, 5)                 55        \n",
      "                                                                 \n",
      " dense_2 (Dense)             (None, 1)                 6         \n",
      "                                                                 \n",
      "=================================================================\n",
      "Total params: 251\n",
      "Trainable params: 251\n",
      "Non-trainable params: 0\n",
      "_________________________________________________________________\n"
     ]
    }
   ],
   "source": [
    "model.summary()"
   ]
  },
  {
   "cell_type": "code",
   "execution_count": 50,
   "id": "c7cc0158",
   "metadata": {
    "execution": {
     "iopub.execute_input": "2024-03-23T16:20:59.664310Z",
     "iopub.status.busy": "2024-03-23T16:20:59.663664Z",
     "iopub.status.idle": "2024-03-23T16:20:59.686059Z",
     "shell.execute_reply": "2024-03-23T16:20:59.684860Z"
    },
    "papermill": {
     "duration": 0.047822,
     "end_time": "2024-03-23T16:20:59.689010",
     "exception": false,
     "start_time": "2024-03-23T16:20:59.641188",
     "status": "completed"
    },
    "tags": []
   },
   "outputs": [],
   "source": [
    "model.compile(optimizer='adam',loss='mean_squared_error',metrics=['accuracy'])"
   ]
  },
  {
   "cell_type": "code",
   "execution_count": 51,
   "id": "d8585e9d",
   "metadata": {
    "execution": {
     "iopub.execute_input": "2024-03-23T16:20:59.735376Z",
     "iopub.status.busy": "2024-03-23T16:20:59.734426Z",
     "iopub.status.idle": "2024-03-23T16:21:11.703298Z",
     "shell.execute_reply": "2024-03-23T16:21:11.702042Z"
    },
    "papermill": {
     "duration": 11.994219,
     "end_time": "2024-03-23T16:21:11.705820",
     "exception": false,
     "start_time": "2024-03-23T16:20:59.711601",
     "status": "completed"
    },
    "tags": []
   },
   "outputs": [
    {
     "name": "stdout",
     "output_type": "stream",
     "text": [
      "Epoch 1/50\n",
      "119/119 [==============================] - 1s 2ms/step - loss: 0.0015 - accuracy: 2.6350e-04\n",
      "Epoch 2/50\n",
      "119/119 [==============================] - 0s 2ms/step - loss: 6.1961e-04 - accuracy: 2.6350e-04\n",
      "Epoch 3/50\n",
      "119/119 [==============================] - 0s 2ms/step - loss: 6.1912e-04 - accuracy: 2.6350e-04\n",
      "Epoch 4/50\n",
      "119/119 [==============================] - 0s 2ms/step - loss: 6.1901e-04 - accuracy: 2.6350e-04\n",
      "Epoch 5/50\n",
      "119/119 [==============================] - 0s 2ms/step - loss: 6.1898e-04 - accuracy: 2.6350e-04\n",
      "Epoch 6/50\n",
      "119/119 [==============================] - 0s 2ms/step - loss: 6.1898e-04 - accuracy: 2.6350e-04\n",
      "Epoch 7/50\n",
      "119/119 [==============================] - 0s 2ms/step - loss: 6.1897e-04 - accuracy: 2.6350e-04\n",
      "Epoch 8/50\n",
      "119/119 [==============================] - 0s 2ms/step - loss: 6.1897e-04 - accuracy: 2.6350e-04\n",
      "Epoch 9/50\n",
      "119/119 [==============================] - 0s 2ms/step - loss: 6.1897e-04 - accuracy: 2.6350e-04\n",
      "Epoch 10/50\n",
      "119/119 [==============================] - 0s 2ms/step - loss: 6.1897e-04 - accuracy: 2.6350e-04\n",
      "Epoch 11/50\n",
      "119/119 [==============================] - 0s 2ms/step - loss: 6.1897e-04 - accuracy: 2.6350e-04\n",
      "Epoch 12/50\n",
      "119/119 [==============================] - 0s 1ms/step - loss: 6.1898e-04 - accuracy: 2.6350e-04\n",
      "Epoch 13/50\n",
      "119/119 [==============================] - 0s 2ms/step - loss: 6.1897e-04 - accuracy: 2.6350e-04\n",
      "Epoch 14/50\n",
      "119/119 [==============================] - 0s 2ms/step - loss: 6.1897e-04 - accuracy: 2.6350e-04\n",
      "Epoch 15/50\n",
      "119/119 [==============================] - 0s 2ms/step - loss: 6.1898e-04 - accuracy: 2.6350e-04\n",
      "Epoch 16/50\n",
      "119/119 [==============================] - 0s 2ms/step - loss: 6.1897e-04 - accuracy: 2.6350e-04\n",
      "Epoch 17/50\n",
      "119/119 [==============================] - 0s 2ms/step - loss: 6.1897e-04 - accuracy: 2.6350e-04\n",
      "Epoch 18/50\n",
      "119/119 [==============================] - 0s 2ms/step - loss: 6.1898e-04 - accuracy: 2.6350e-04\n",
      "Epoch 19/50\n",
      "119/119 [==============================] - 0s 2ms/step - loss: 6.1897e-04 - accuracy: 2.6350e-04\n",
      "Epoch 20/50\n",
      "119/119 [==============================] - 0s 2ms/step - loss: 6.1898e-04 - accuracy: 2.6350e-04\n",
      "Epoch 21/50\n",
      "119/119 [==============================] - 0s 2ms/step - loss: 6.1897e-04 - accuracy: 2.6350e-04\n",
      "Epoch 22/50\n",
      "119/119 [==============================] - 0s 2ms/step - loss: 6.1898e-04 - accuracy: 2.6350e-04\n",
      "Epoch 23/50\n",
      "119/119 [==============================] - 0s 2ms/step - loss: 6.1899e-04 - accuracy: 2.6350e-04\n",
      "Epoch 24/50\n",
      "119/119 [==============================] - 0s 2ms/step - loss: 6.1897e-04 - accuracy: 2.6350e-04\n",
      "Epoch 25/50\n",
      "119/119 [==============================] - 0s 2ms/step - loss: 6.1898e-04 - accuracy: 2.6350e-04\n",
      "Epoch 26/50\n",
      "119/119 [==============================] - 0s 2ms/step - loss: 6.1897e-04 - accuracy: 2.6350e-04\n",
      "Epoch 27/50\n",
      "119/119 [==============================] - 0s 2ms/step - loss: 6.1898e-04 - accuracy: 2.6350e-04\n",
      "Epoch 28/50\n",
      "119/119 [==============================] - 0s 2ms/step - loss: 6.1898e-04 - accuracy: 2.6350e-04\n",
      "Epoch 29/50\n",
      "119/119 [==============================] - 0s 2ms/step - loss: 6.1898e-04 - accuracy: 2.6350e-04\n",
      "Epoch 30/50\n",
      "119/119 [==============================] - 0s 2ms/step - loss: 6.1898e-04 - accuracy: 2.6350e-04\n",
      "Epoch 31/50\n",
      "119/119 [==============================] - 0s 2ms/step - loss: 6.1899e-04 - accuracy: 2.6350e-04\n",
      "Epoch 32/50\n",
      "119/119 [==============================] - 0s 2ms/step - loss: 6.1899e-04 - accuracy: 2.6350e-04\n",
      "Epoch 33/50\n",
      "119/119 [==============================] - 0s 2ms/step - loss: 6.1898e-04 - accuracy: 2.6350e-04\n",
      "Epoch 34/50\n",
      "119/119 [==============================] - 0s 2ms/step - loss: 6.1899e-04 - accuracy: 2.6350e-04\n",
      "Epoch 35/50\n",
      "119/119 [==============================] - 0s 2ms/step - loss: 6.1900e-04 - accuracy: 2.6350e-04\n",
      "Epoch 36/50\n",
      "119/119 [==============================] - 0s 2ms/step - loss: 6.1900e-04 - accuracy: 2.6350e-04\n",
      "Epoch 37/50\n",
      "119/119 [==============================] - 0s 2ms/step - loss: 6.1900e-04 - accuracy: 2.6350e-04\n",
      "Epoch 38/50\n",
      "119/119 [==============================] - 0s 2ms/step - loss: 6.1900e-04 - accuracy: 2.6350e-04\n",
      "Epoch 39/50\n",
      "119/119 [==============================] - 0s 2ms/step - loss: 6.1900e-04 - accuracy: 2.6350e-04\n",
      "Epoch 40/50\n",
      "119/119 [==============================] - 0s 2ms/step - loss: 6.1900e-04 - accuracy: 2.6350e-04\n",
      "Epoch 41/50\n",
      "119/119 [==============================] - 0s 2ms/step - loss: 6.1900e-04 - accuracy: 2.6350e-04\n",
      "Epoch 42/50\n",
      "119/119 [==============================] - 0s 2ms/step - loss: 6.1900e-04 - accuracy: 2.6350e-04\n",
      "Epoch 43/50\n",
      "119/119 [==============================] - 0s 2ms/step - loss: 6.1900e-04 - accuracy: 2.6350e-04\n",
      "Epoch 44/50\n",
      "119/119 [==============================] - 0s 2ms/step - loss: 6.1900e-04 - accuracy: 2.6350e-04\n",
      "Epoch 45/50\n",
      "119/119 [==============================] - 0s 2ms/step - loss: 6.1900e-04 - accuracy: 2.6350e-04\n",
      "Epoch 46/50\n",
      "119/119 [==============================] - 0s 2ms/step - loss: 6.1900e-04 - accuracy: 2.6350e-04\n",
      "Epoch 47/50\n",
      "119/119 [==============================] - 0s 2ms/step - loss: 6.1900e-04 - accuracy: 2.6350e-04\n",
      "Epoch 48/50\n",
      "119/119 [==============================] - 0s 2ms/step - loss: 6.1900e-04 - accuracy: 2.6350e-04\n",
      "Epoch 49/50\n",
      "119/119 [==============================] - 0s 2ms/step - loss: 6.1900e-04 - accuracy: 2.6350e-04\n",
      "Epoch 50/50\n",
      "119/119 [==============================] - 0s 2ms/step - loss: 6.1900e-04 - accuracy: 2.6350e-04\n"
     ]
    }
   ],
   "source": [
    "history =model.fit(X_train,y_train,epochs=50,verbose=1,batch_size=32)"
   ]
  },
  {
   "cell_type": "code",
   "execution_count": 52,
   "id": "721d5243",
   "metadata": {
    "execution": {
     "iopub.execute_input": "2024-03-23T16:21:11.791173Z",
     "iopub.status.busy": "2024-03-23T16:21:11.790751Z",
     "iopub.status.idle": "2024-03-23T16:21:12.098227Z",
     "shell.execute_reply": "2024-03-23T16:21:12.097035Z"
    },
    "papermill": {
     "duration": 0.35297,
     "end_time": "2024-03-23T16:21:12.100897",
     "exception": false,
     "start_time": "2024-03-23T16:21:11.747927",
     "status": "completed"
    },
    "tags": []
   },
   "outputs": [
    {
     "name": "stdout",
     "output_type": "stream",
     "text": [
      "30/30 [==============================] - 0s 1ms/step\n"
     ]
    }
   ],
   "source": [
    "prediction = model.predict(X_test)"
   ]
  },
  {
   "cell_type": "code",
   "execution_count": 53,
   "id": "4362d515",
   "metadata": {
    "execution": {
     "iopub.execute_input": "2024-03-23T16:21:12.185104Z",
     "iopub.status.busy": "2024-03-23T16:21:12.184391Z",
     "iopub.status.idle": "2024-03-23T16:21:12.191054Z",
     "shell.execute_reply": "2024-03-23T16:21:12.190082Z"
    },
    "papermill": {
     "duration": 0.05108,
     "end_time": "2024-03-23T16:21:12.193137",
     "exception": false,
     "start_time": "2024-03-23T16:21:12.142057",
     "status": "completed"
    },
    "tags": []
   },
   "outputs": [
    {
     "name": "stdout",
     "output_type": "stream",
     "text": [
      "Mean_Squared_Error:  0.0004175428251834506\n"
     ]
    }
   ],
   "source": [
    "from sklearn.metrics import mean_squared_error\n",
    "mse = mean_squared_error(y_test,prediction)\n",
    "print(\"Mean_Squared_Error: \",mse)"
   ]
  },
  {
   "cell_type": "code",
   "execution_count": 54,
   "id": "e5a3c2e0",
   "metadata": {
    "execution": {
     "iopub.execute_input": "2024-03-23T16:21:12.277895Z",
     "iopub.status.busy": "2024-03-23T16:21:12.277450Z",
     "iopub.status.idle": "2024-03-23T16:21:12.536937Z",
     "shell.execute_reply": "2024-03-23T16:21:12.535842Z"
    },
    "papermill": {
     "duration": 0.304389,
     "end_time": "2024-03-23T16:21:12.539347",
     "exception": false,
     "start_time": "2024-03-23T16:21:12.234958",
     "status": "completed"
    },
    "tags": []
   },
   "outputs": [
    {
     "data": {
      "image/png": "[encoded data removed]",
      "text/plain": [
       "<Figure size 640x480 with 1 Axes>"
      ]
     },
     "metadata": {},
     "output_type": "display_data"
    }
   ],
   "source": [
    "plt.plot(history.history['loss'])\n",
    "plt.title('Model Loss')\n",
    "plt.xlabel('Epoch')\n",
    "plt.ylabel('Loss')\n",
    "plt.legend(loc='upper left')\n",
    "plt.show()"
   ]
  }
 ],
 "metadata": {
  "kaggle": {
   "accelerator": "none",
   "dataSources": [
    {
     "datasetId": 2355600,
     "sourceId": 4097760,
     "sourceType": "datasetVersion"
    }
   ],
   "dockerImageVersionId": 30558,
   "isGpuEnabled": false,
   "isInternetEnabled": false,
   "language": "python",
   "sourceType": "notebook"
  },
  "kernelspec": {
   "display_name": "Python 3",
   "language": "python",
   "name": "python3"
  },
  "language_info": {
   "codemirror_mode": {
    "name": "ipython",
    "version": 3
   },
   "file_extension": ".py",
   "mimetype": "text/x-python",
   "name": "python",
   "nbconvert_exporter": "python",
   "pygments_lexer": "ipython3",
   "version": "3.10.12"
  },
  "papermill": {
   "default_parameters": {},
   "duration": 43.849801,
   "end_time": "2024-03-23T16:21:15.319982",
   "environment_variables": {},
   "exception": null,
   "input_path": "__notebook__.ipynb",
   "output_path": "__notebook__.ipynb",
   "parameters": {},
   "start_time": "2024-03-23T16:20:31.470181",
   "version": "2.4.0"
  },
  "widgets": {
   "application/vnd.jupyter.widget-state+json": {
    "state": {},
    "version_major": 2,
    "version_minor": 0
   }
  }
 },
 "nbformat": 4,
 "nbformat_minor": 5
}
